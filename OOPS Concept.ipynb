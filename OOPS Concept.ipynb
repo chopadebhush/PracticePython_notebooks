{
 "cells": [
  {
   "cell_type": "code",
   "execution_count": 1,
   "id": "dbb37dbb",
   "metadata": {},
   "outputs": [],
   "source": [
    "class car:\n",
    "    pass\n",
    "car1= car()\n",
    "car2= car()"
   ]
  },
  {
   "cell_type": "code",
   "execution_count": 2,
   "id": "c702d0c2",
   "metadata": {},
   "outputs": [],
   "source": [
    "car1.engine =350\n",
    "car1.windows =4\n",
    "car1.tyre =4"
   ]
  },
  {
   "cell_type": "code",
   "execution_count": 3,
   "id": "dbe1d28d",
   "metadata": {},
   "outputs": [],
   "source": [
    "car2.engine =250\n",
    "car2.windows =6\n",
    "car2.tyre =6"
   ]
  },
  {
   "cell_type": "code",
   "execution_count": 4,
   "id": "cf8a8eaa",
   "metadata": {},
   "outputs": [
    {
     "name": "stdout",
     "output_type": "stream",
     "text": [
      "350\n",
      "250\n"
     ]
    }
   ],
   "source": [
    "print(car1.engine)\n",
    "print(car2.engine)"
   ]
  },
  {
   "cell_type": "code",
   "execution_count": 5,
   "id": "9d3c198e",
   "metadata": {},
   "outputs": [
    {
     "name": "stdout",
     "output_type": "stream",
     "text": [
      "4\n",
      "6\n"
     ]
    }
   ],
   "source": [
    "print(car1.windows)\n",
    "print(car2.tyre)"
   ]
  },
  {
   "cell_type": "code",
   "execution_count": 6,
   "id": "1c5c3cb6",
   "metadata": {},
   "outputs": [
    {
     "name": "stdout",
     "output_type": "stream",
     "text": [
      "['__class__', '__delattr__', '__dict__', '__dir__', '__doc__', '__eq__', '__format__', '__ge__', '__getattribute__', '__gt__', '__hash__', '__init__', '__init_subclass__', '__le__', '__lt__', '__module__', '__ne__', '__new__', '__reduce__', '__reduce_ex__', '__repr__', '__setattr__', '__sizeof__', '__str__', '__subclasshook__', '__weakref__', 'engine', 'tyre', 'windows']\n"
     ]
    }
   ],
   "source": [
    "print(dir(car1))   "
   ]
  },
  {
   "cell_type": "code",
   "execution_count": 7,
   "id": "d534665e",
   "metadata": {},
   "outputs": [],
   "source": [
    "class car():\n",
    "    def __init__(self,windows,tyre,engine):\n",
    "        self.windows =windows\n",
    "        self.tyre =tyre\n",
    "        self.engine =engine\n",
    "        \n",
    "car1 =car(4,10,\"350CC\")      "
   ]
  },
  {
   "cell_type": "code",
   "execution_count": 34,
   "id": "fea1c69d",
   "metadata": {},
   "outputs": [
    {
     "data": {
      "text/plain": [
       "4"
      ]
     },
     "execution_count": 34,
     "metadata": {},
     "output_type": "execute_result"
    }
   ],
   "source": [
    "car1.windows"
   ]
  },
  {
   "cell_type": "code",
   "execution_count": 16,
   "id": "1ab43e79",
   "metadata": {},
   "outputs": [
    {
     "name": "stdout",
     "output_type": "stream",
     "text": [
      "The numbers of tyre to car is 10\n",
      "The numbers of tyre to car is 350CC\n",
      "The numbers of tyre to car is 4\n"
     ]
    }
   ],
   "source": [
    "print(\"The numbers of tyre to car is {}\".format(car1.tyre))\n",
    "print(\"The numbers of tyre to car is {}\".format(car1.engine))\n",
    "print(\"The numbers of tyre to car is {}\".format(car1.windows))"
   ]
  },
  {
   "cell_type": "code",
   "execution_count": 19,
   "id": "aa080fe2",
   "metadata": {},
   "outputs": [
    {
     "name": "stdout",
     "output_type": "stream",
     "text": [
      "The Car 2 is Bold\n",
      "The Car 2 is thine\n",
      "The Car 2 is Light\n"
     ]
    }
   ],
   "source": [
    "car2=car(\"Light\",\"thine\",\"Bold\")\n",
    "print(\"The Car 2 is {}\".format(car2.engine))\n",
    "print(\"The Car 2 is {}\".format(car2.tyre))\n",
    "print(\"The Car 2 is {}\".format(car2.windows))"
   ]
  },
  {
   "cell_type": "code",
   "execution_count": 45,
   "id": "c9b66f05",
   "metadata": {},
   "outputs": [],
   "source": [
    "class cup():\n",
    "    def __init__(self,tea,water,salt,pot):\n",
    "        self.tea=tea\n",
    "        self.water=water\n",
    "        self.salt=salt\n",
    "        self.pot =pot\n",
    "    def bashi(self):\n",
    "        print(\"the parameter of bashi {}\".format(self.water))\n",
    "        print(\"the parameter of bashi {}\".format(self.salt))"
   ]
  },
  {
   "cell_type": "code",
   "execution_count": 46,
   "id": "8d8d114c",
   "metadata": {},
   "outputs": [
    {
     "name": "stdout",
     "output_type": "stream",
     "text": [
      "the parameter of bashi 20\n",
      "the parameter of bashi 30\n"
     ]
    }
   ],
   "source": [
    "cup1 =cup(10,20,30,40)\n",
    "cup1.bashi()\n"
   ]
  },
  {
   "cell_type": "code",
   "execution_count": 24,
   "id": "c40d032f",
   "metadata": {},
   "outputs": [
    {
     "data": {
      "text/plain": [
       "('10ml', '200ml', '1packet', '100pot')"
      ]
     },
     "execution_count": 24,
     "metadata": {},
     "output_type": "execute_result"
    }
   ],
   "source": [
    "cup1 =(\"10ml\",\"200ml\",\"1packet\",\"100pot\")\n",
    "cup1"
   ]
  },
  {
   "cell_type": "code",
   "execution_count": 92,
   "id": "f9552420",
   "metadata": {},
   "outputs": [],
   "source": [
    "class car:\n",
    "    def __init__(self,handle,brake,engine):\n",
    "        self.handle =handle\n",
    "        self.brake =brake\n",
    "        self.engine =engine\n",
    "    def driving(self):\n",
    "        print(\"It is self driving car\")    "
   ]
  },
  {
   "cell_type": "code",
   "execution_count": 91,
   "id": "feb0b7a3",
   "metadata": {},
   "outputs": [],
   "source": [
    "class Audi(car):\n",
    "    def __init__(self,handle,brake,engine,seats):\n",
    "        super().__init__(handle,brake,engine)\n",
    "        self.seats= seats\n",
    "    def multicar(self):\n",
    "        print(\"It is multipurpose car\")"
   ]
  },
  {
   "cell_type": "code",
   "execution_count": 93,
   "id": "3461e9a2",
   "metadata": {},
   "outputs": [],
   "source": [
    "AudiQ7 =Audi(6,\"round\",2,20)"
   ]
  },
  {
   "cell_type": "code",
   "execution_count": 94,
   "id": "961e4175",
   "metadata": {},
   "outputs": [
    {
     "name": "stdout",
     "output_type": "stream",
     "text": [
      "6\n",
      "round\n",
      "2\n",
      "20\n",
      "6\n",
      "It is self driving car\n",
      "It is multipurpose car\n"
     ]
    }
   ],
   "source": [
    "print(AudiQ7.handle)\n",
    "print(AudiQ7.brake)\n",
    "print(AudiQ7.engine)\n",
    "print(AudiQ7.seats)\n",
    "print(AudiQ7.handle)\n",
    "AudiQ7.driving()\n",
    "AudiQ7.multicar()"
   ]
  },
  {
   "cell_type": "code",
   "execution_count": 1,
   "id": "5b08d6f5",
   "metadata": {},
   "outputs": [],
   "source": [
    "class Home:\n",
    "    def __init__(self,Father,mother,sister,brother):\n",
    "        self.Father =Father\n",
    "        self.mother =mother\n",
    "        self.sister =sister\n",
    "        self.brother =brother"
   ]
  },
  {
   "cell_type": "code",
   "execution_count": 2,
   "id": "4d4e88f5",
   "metadata": {},
   "outputs": [
    {
     "name": "stdout",
     "output_type": "stream",
     "text": [
      "My father name is Dilip\n",
      "My mother name is Varsha\n",
      "My sister name is Pradnya\n",
      "My brother name is Bhushan\n"
     ]
    }
   ],
   "source": [
    "Home_members =Home(\"Dilip\",\"Varsha\",\"Pradnya\",\"Bhushan\")\n",
    "print(\"My father name is {}\".format(Home_members.Father))\n",
    "print(\"My mother name is {}\".format(Home_members.mother))\n",
    "print(\"My sister name is {}\".format(Home_members.sister))\n",
    "print(\"My brother name is {}\".format(Home_members.brother))"
   ]
  },
  {
   "cell_type": "code",
   "execution_count": 8,
   "id": "0efe0525",
   "metadata": {},
   "outputs": [],
   "source": [
    "class Home:\n",
    "    def __init__(self,Father,mother,sister,brother):\n",
    "        self.Father =Father\n",
    "        self.mother =mother\n",
    "        self.sister =sister\n",
    "        self.brother =brother"
   ]
  },
  {
   "cell_type": "code",
   "execution_count": 12,
   "id": "fed76468",
   "metadata": {},
   "outputs": [],
   "source": [
    "class farm(Home):\n",
    "    def __init__(self,Father,mother,sister,brother,Grandmother):\n",
    "        super().__init__(Father,mother,sister,brother)\n",
    "        self.Grandmother =Grandmother"
   ]
  },
  {
   "cell_type": "code",
   "execution_count": 13,
   "id": "92ab208f",
   "metadata": {},
   "outputs": [],
   "source": [
    "Home1 =farm(\"Dilip\",\"Varsha\",\"Pradnya\",\"Bhushan\",\"Geeta\")"
   ]
  },
  {
   "cell_type": "code",
   "execution_count": 17,
   "id": "20bb5312",
   "metadata": {},
   "outputs": [
    {
     "name": "stdout",
     "output_type": "stream",
     "text": [
      "Geeta\n",
      "Bhushan\n",
      "Pradnya\n"
     ]
    }
   ],
   "source": [
    "print(Home1.Grandmother)\n",
    "print(Home1.brother)\n",
    "print(Home1.sister)"
   ]
  },
  {
   "cell_type": "code",
   "execution_count": 25,
   "id": "c1beb7ec",
   "metadata": {},
   "outputs": [],
   "source": [
    "class room:\n",
    "    def __init__(self,parag,cot,laptop,water):\n",
    "        self.parag =parag\n",
    "        self.cot =cot\n",
    "        self.laptop =laptop\n",
    "        self.water =water\n",
    "    def mirror(self):\n",
    "        print(\"Mirror is static things\")"
   ]
  },
  {
   "cell_type": "code",
   "execution_count": 21,
   "id": "3d1031ca",
   "metadata": {},
   "outputs": [
    {
     "name": "stdout",
     "output_type": "stream",
     "text": [
      "23\n",
      "15\n"
     ]
    }
   ],
   "source": [
    "room12 =room(23,20.3,15,100)\n",
    "print(room12.parag)\n",
    "print(room12.laptop)"
   ]
  },
  {
   "cell_type": "code",
   "execution_count": 48,
   "id": "debceb66",
   "metadata": {},
   "outputs": [],
   "source": [
    "class door(room):\n",
    "    def __init__(self,parag,cot,laptop,water,mobile):\n",
    "        super().__init__(parag,cot,laptop,water)\n",
    "        self.mobile =mobile\n",
    "    def __init__(self,parag,cot,laptop,water,mobile,dumbel,shoes):\n",
    "        super().__init__(parag,cot,laptop,water)\n",
    "        self.dumbel =dumbel\n",
    "        self.shoes= shoes\n",
    "    def bottle(self):\n",
    "        print(\"Bottom is used for water storing\")"
   ]
  },
  {
   "cell_type": "code",
   "execution_count": 49,
   "id": "25e67a21",
   "metadata": {},
   "outputs": [],
   "source": [
    "bhushan=door(\"Boy\",23,\"dell\",10,\"samsung\",12,40)"
   ]
  },
  {
   "cell_type": "code",
   "execution_count": 50,
   "id": "38022921",
   "metadata": {},
   "outputs": [
    {
     "name": "stdout",
     "output_type": "stream",
     "text": [
      "12\n",
      "40\n",
      "12\n",
      "Boy\n",
      "Mirror is static things\n",
      "Bottom is used for water storing\n"
     ]
    }
   ],
   "source": [
    "print(bhushan.dumbel)\n",
    "print(bhushan.shoes)\n",
    "print(bhushan.dumbel)\n",
    "print(bhushan.parag)\n",
    "bhushan.mirror()\n",
    "bhushan.bottle()"
   ]
  },
  {
   "cell_type": "code",
   "execution_count": 65,
   "id": "b5016955",
   "metadata": {},
   "outputs": [],
   "source": [
    "class hostel:\n",
    "    def __init__(self,boys,rector,watchman):\n",
    "        self.boys =boys\n",
    "        self.rector =rector\n",
    "        self.watchman =watchman\n",
    "    def Management(self):\n",
    "        print(\"Managements is run the hostel\")"
   ]
  },
  {
   "cell_type": "code",
   "execution_count": 66,
   "id": "1bd93f57",
   "metadata": {},
   "outputs": [],
   "source": [
    "class room(hostel):\n",
    "    def __init__(self,boys,rector,watchman,cot,tubelight):\n",
    "        super().__init__(boys,rector,watchman)\n",
    "        self.cot =cot\n",
    "        self.tubelight =tubelight"
   ]
  },
  {
   "cell_type": "code",
   "execution_count": 72,
   "id": "7e0df863",
   "metadata": {},
   "outputs": [],
   "source": [
    "bha =room(100,\"Patil\",\"Lalan\",4,\"White\")"
   ]
  },
  {
   "cell_type": "code",
   "execution_count": 75,
   "id": "8c12fe3d",
   "metadata": {},
   "outputs": [
    {
     "name": "stdout",
     "output_type": "stream",
     "text": [
      "100\n",
      "4\n",
      "White\n",
      "Managements is run the hostel\n"
     ]
    }
   ],
   "source": [
    "print(bha.boys)\n",
    "print(bha.cot)\n",
    "print(bha.tubelight)\n",
    "bha.Management()"
   ]
  },
  {
   "cell_type": "code",
   "execution_count": 47,
   "id": "59bdd246",
   "metadata": {},
   "outputs": [],
   "source": [
    "class a:\n",
    "    def method(self):\n",
    "        print(\"These class belongs to A\")\n",
    "    def method1(self):\n",
    "        print(\"These class belongs to sub A\")"
   ]
  },
  {
   "cell_type": "code",
   "execution_count": 48,
   "id": "242d70d7",
   "metadata": {},
   "outputs": [],
   "source": [
    "class b(a):\n",
    "    def method(self):\n",
    "        print(\"These class belongs to B\")\n",
    "    def method1(self):\n",
    "        print(\"These class belongs to sub B\")"
   ]
  },
  {
   "cell_type": "code",
   "execution_count": 52,
   "id": "148a49d8",
   "metadata": {},
   "outputs": [],
   "source": [
    "class c(a):\n",
    "    def method(self):\n",
    "        print(\"These class belongs to c\")\n",
    "    def method1(self):\n",
    "        print(\"These class belongs to sub C\")"
   ]
  },
  {
   "cell_type": "code",
   "execution_count": 53,
   "id": "567d0d60",
   "metadata": {},
   "outputs": [
    {
     "name": "stdout",
     "output_type": "stream",
     "text": [
      "These class belongs to sub C\n"
     ]
    }
   ],
   "source": [
    "c.method1(c)"
   ]
  },
  {
   "cell_type": "code",
   "execution_count": 51,
   "id": "28f80df6",
   "metadata": {},
   "outputs": [
    {
     "name": "stdout",
     "output_type": "stream",
     "text": [
      "These class belongs to sub B\n"
     ]
    }
   ],
   "source": [
    "b.method1(b)"
   ]
  },
  {
   "cell_type": "code",
   "execution_count": 41,
   "id": "ddf0f584",
   "metadata": {},
   "outputs": [
    {
     "name": "stdout",
     "output_type": "stream",
     "text": [
      "These class belongs to c\n"
     ]
    }
   ],
   "source": [
    "c.method(w)"
   ]
  },
  {
   "cell_type": "code",
   "execution_count": 42,
   "id": "786973d9",
   "metadata": {},
   "outputs": [
    {
     "name": "stdout",
     "output_type": "stream",
     "text": [
      "These class belongs to B\n"
     ]
    }
   ],
   "source": [
    "b.method(w)"
   ]
  },
  {
   "cell_type": "code",
   "execution_count": 43,
   "id": "72c59fe7",
   "metadata": {},
   "outputs": [
    {
     "name": "stdout",
     "output_type": "stream",
     "text": [
      "These class belongs to A\n"
     ]
    }
   ],
   "source": [
    "a.method(w)"
   ]
  },
  {
   "cell_type": "code",
   "execution_count": 44,
   "id": "343b3b9e",
   "metadata": {},
   "outputs": [
    {
     "name": "stdout",
     "output_type": "stream",
     "text": [
      "These class belongs to sub A\n"
     ]
    }
   ],
   "source": [
    "a.method1(a)"
   ]
  },
  {
   "cell_type": "code",
   "execution_count": 54,
   "id": "1954a70b",
   "metadata": {},
   "outputs": [
    {
     "name": "stdout",
     "output_type": "stream",
     "text": [
      "These class belongs to B\n"
     ]
    }
   ],
   "source": [
    "b.method(b)"
   ]
  },
  {
   "cell_type": "code",
   "execution_count": 61,
   "id": "6f93be81",
   "metadata": {},
   "outputs": [],
   "source": [
    "class xyz:\n",
    "    x=5\n",
    "    y=10"
   ]
  },
  {
   "cell_type": "code",
   "execution_count": 64,
   "id": "b2772eb2",
   "metadata": {},
   "outputs": [],
   "source": [
    "obj =xyz()"
   ]
  },
  {
   "cell_type": "code",
   "execution_count": 65,
   "id": "0d013f82",
   "metadata": {},
   "outputs": [
    {
     "data": {
      "text/plain": [
       "5"
      ]
     },
     "execution_count": 65,
     "metadata": {},
     "output_type": "execute_result"
    }
   ],
   "source": [
    "obj.x"
   ]
  },
  {
   "cell_type": "code",
   "execution_count": 66,
   "id": "be0d50e0",
   "metadata": {},
   "outputs": [
    {
     "data": {
      "text/plain": [
       "10"
      ]
     },
     "execution_count": 66,
     "metadata": {},
     "output_type": "execute_result"
    }
   ],
   "source": [
    "obj.y"
   ]
  },
  {
   "cell_type": "code",
   "execution_count": 1,
   "id": "6117742a",
   "metadata": {},
   "outputs": [],
   "source": [
    "class college:\n",
    "    univercity =\"SPPU\"\n",
    "    school =\"VTU\"\n",
    "    Clg =\"MIT\""
   ]
  },
  {
   "cell_type": "code",
   "execution_count": 3,
   "id": "443290df",
   "metadata": {},
   "outputs": [],
   "source": [
    "a=college()\n",
    "b=college()\n",
    "c=college()"
   ]
  },
  {
   "cell_type": "code",
   "execution_count": 4,
   "id": "3aa61d4f",
   "metadata": {},
   "outputs": [
    {
     "data": {
      "text/plain": [
       "'SPPU'"
      ]
     },
     "execution_count": 4,
     "metadata": {},
     "output_type": "execute_result"
    }
   ],
   "source": [
    "a.univercity"
   ]
  },
  {
   "cell_type": "code",
   "execution_count": 5,
   "id": "8b9d41bb",
   "metadata": {},
   "outputs": [
    {
     "data": {
      "text/plain": [
       "'VTU'"
      ]
     },
     "execution_count": 5,
     "metadata": {},
     "output_type": "execute_result"
    }
   ],
   "source": [
    "a.school"
   ]
  },
  {
   "cell_type": "code",
   "execution_count": 6,
   "id": "a69da4e0",
   "metadata": {},
   "outputs": [
    {
     "data": {
      "text/plain": [
       "'MIT'"
      ]
     },
     "execution_count": 6,
     "metadata": {},
     "output_type": "execute_result"
    }
   ],
   "source": [
    "a.Clg"
   ]
  },
  {
   "cell_type": "code",
   "execution_count": 7,
   "id": "8a87dd0a",
   "metadata": {},
   "outputs": [],
   "source": [
    "class student:\n",
    "    fname =\"\"\n",
    "    lname =\"\""
   ]
  },
  {
   "cell_type": "code",
   "execution_count": 11,
   "id": "96471d70",
   "metadata": {},
   "outputs": [],
   "source": [
    "bhush =student()"
   ]
  },
  {
   "cell_type": "code",
   "execution_count": 12,
   "id": "07b95e5c",
   "metadata": {},
   "outputs": [],
   "source": [
    "bhush.fname =\"bhushan\"\n",
    "bhush.lname =\"chaopde\""
   ]
  },
  {
   "cell_type": "code",
   "execution_count": 14,
   "id": "1d7c400d",
   "metadata": {},
   "outputs": [
    {
     "data": {
      "text/plain": [
       "'bhushan'"
      ]
     },
     "execution_count": 14,
     "metadata": {},
     "output_type": "execute_result"
    }
   ],
   "source": [
    "bhush.fname"
   ]
  },
  {
   "cell_type": "code",
   "execution_count": 16,
   "id": "0d48620f",
   "metadata": {},
   "outputs": [
    {
     "data": {
      "text/plain": [
       "'chaopde'"
      ]
     },
     "execution_count": 16,
     "metadata": {},
     "output_type": "execute_result"
    }
   ],
   "source": [
    "bhush.lname"
   ]
  },
  {
   "cell_type": "code",
   "execution_count": 17,
   "id": "24d34200",
   "metadata": {},
   "outputs": [
    {
     "name": "stdout",
     "output_type": "stream",
     "text": [
      "Enter the first name>>bhushan\n",
      "Enter the last name>>Chopade\n"
     ]
    }
   ],
   "source": [
    "class student:\n",
    "    f_name =input(\"Enter the first name>>\")\n",
    "    f_lname =input(\"Enter the last name>>\")\n",
    "    fname =f_name\n",
    "    lname =f_lname"
   ]
  },
  {
   "cell_type": "code",
   "execution_count": 18,
   "id": "b694e98e",
   "metadata": {},
   "outputs": [],
   "source": [
    "xyz =student()"
   ]
  },
  {
   "cell_type": "code",
   "execution_count": 19,
   "id": "94806960",
   "metadata": {},
   "outputs": [
    {
     "data": {
      "text/plain": [
       "'bhushan'"
      ]
     },
     "execution_count": 19,
     "metadata": {},
     "output_type": "execute_result"
    }
   ],
   "source": [
    "xyz.fname"
   ]
  },
  {
   "cell_type": "code",
   "execution_count": 20,
   "id": "876e9a49",
   "metadata": {},
   "outputs": [
    {
     "data": {
      "text/plain": [
       "'Chopade'"
      ]
     },
     "execution_count": 20,
     "metadata": {},
     "output_type": "execute_result"
    }
   ],
   "source": [
    "xyz.lname"
   ]
  },
  {
   "cell_type": "code",
   "execution_count": 27,
   "id": "1902067c",
   "metadata": {},
   "outputs": [
    {
     "name": "stdout",
     "output_type": "stream",
     "text": [
      "The name of student is bhushan Chopade\n"
     ]
    }
   ],
   "source": [
    "print(\"The name of student is {} {}\".format(xyz.fname,xyz.lname))"
   ]
  },
  {
   "cell_type": "code",
   "execution_count": 28,
   "id": "e60b908a",
   "metadata": {},
   "outputs": [],
   "source": [
    "xyz.lname =\"patil\""
   ]
  },
  {
   "cell_type": "code",
   "execution_count": 29,
   "id": "783eea50",
   "metadata": {},
   "outputs": [
    {
     "name": "stdout",
     "output_type": "stream",
     "text": [
      "The name of student is bhushan patil\n"
     ]
    }
   ],
   "source": [
    "print(\"The name of student is {} {}\".format(xyz.fname,xyz.lname))"
   ]
  },
  {
   "cell_type": "code",
   "execution_count": 31,
   "id": "fc9a4114",
   "metadata": {},
   "outputs": [],
   "source": [
    "class family:\n",
    "    def __init__(self,fname,lname,company,country):\n",
    "        self.fname =fname\n",
    "        self.lname =lname\n",
    "        self.company =company\n",
    "        self.country =country"
   ]
  },
  {
   "cell_type": "code",
   "execution_count": 32,
   "id": "262a25c1",
   "metadata": {},
   "outputs": [],
   "source": [
    "asd=family(\"Bhushan\",\"Chopade\",\"xyz\",\"India\")"
   ]
  },
  {
   "cell_type": "code",
   "execution_count": 34,
   "id": "32693fab",
   "metadata": {},
   "outputs": [
    {
     "name": "stdout",
     "output_type": "stream",
     "text": [
      "Bhushan Chopade xyz India\n"
     ]
    }
   ],
   "source": [
    "print(asd.fname,asd.lname,asd.company,asd.country)"
   ]
  },
  {
   "cell_type": "code",
   "execution_count": 2,
   "id": "dd12ca00",
   "metadata": {},
   "outputs": [
    {
     "name": "stdout",
     "output_type": "stream",
     "text": [
      "My First name is Bhushan & Last name is Chopade\n"
     ]
    }
   ],
   "source": [
    "def greeting(firstname,lastname):\n",
    "    print(\"My First name is {} & Last name is {}\".format(firstname,lastname))\n",
    "greeting(\"Bhushan\",\"Chopade\")"
   ]
  },
  {
   "cell_type": "code",
   "execution_count": 4,
   "id": "3048a747",
   "metadata": {},
   "outputs": [
    {
     "name": "stdout",
     "output_type": "stream",
     "text": [
      "My first name is Bhushan and last name is Chopade\n"
     ]
    }
   ],
   "source": [
    "def greeting(firstname,lastname):\n",
    "    print(f\"My first name is {firstname} and last name is {lastname}\")\n",
    "greeting(\"Bhushan\",\"Chopade\")"
   ]
  },
  {
   "cell_type": "code",
   "execution_count": 5,
   "id": "3e76e200",
   "metadata": {},
   "outputs": [],
   "source": [
    "from abc import ABC"
   ]
  },
  {
   "cell_type": "code",
   "execution_count": 6,
   "id": "728a6758",
   "metadata": {},
   "outputs": [],
   "source": [
    "class car(ABC):\n",
    "    def milage(self):\n",
    "        pass"
   ]
  },
  {
   "cell_type": "code",
   "execution_count": 7,
   "id": "7b0150b5",
   "metadata": {},
   "outputs": [],
   "source": [
    "class suzuki(car):\n",
    "    def milage(self):\n",
    "        print(\"The milage of suzuki car is 30kmph\")"
   ]
  },
  {
   "cell_type": "code",
   "execution_count": 8,
   "id": "0be24537",
   "metadata": {},
   "outputs": [],
   "source": [
    "class hynduai(car):\n",
    "    def milage(self):\n",
    "        print(\"The milage of hynduai car is 50kmph\")"
   ]
  },
  {
   "cell_type": "code",
   "execution_count": 17,
   "id": "28c6b4fc",
   "metadata": {},
   "outputs": [
    {
     "name": "stdout",
     "output_type": "stream",
     "text": [
      "The milage of hynduai car is 50kmph\n"
     ]
    }
   ],
   "source": [
    "h =hynduai()\n",
    "h.milage()"
   ]
  },
  {
   "cell_type": "code",
   "execution_count": 29,
   "id": "6ddbc31f",
   "metadata": {},
   "outputs": [
    {
     "name": "stdout",
     "output_type": "stream",
     "text": [
      "The pune has Shaniwarwada\n"
     ]
    }
   ],
   "source": [
    "# How to used function In OOPS\n",
    "def pune(place):\n",
    "    print(\"The pune has {}\".format(place))\n",
    "pune(\"Shaniwarwada\")"
   ]
  },
  {
   "cell_type": "code",
   "execution_count": 2,
   "id": "9b224576",
   "metadata": {},
   "outputs": [
    {
     "name": "stdout",
     "output_type": "stream",
     "text": [
      "Enter the R Value>>12\n",
      "The formula of 452.3893421169302\n"
     ]
    }
   ],
   "source": [
    "#3.14r**2\n",
    "from math import pi \n",
    "r = int(input(\"Enter the R Value>>\"))\n",
    "print(\"The formula of {}\".format(pi*r**2))"
   ]
  },
  {
   "cell_type": "code",
   "execution_count": 9,
   "id": "6dd49457",
   "metadata": {},
   "outputs": [
    {
     "name": "stdout",
     "output_type": "stream",
     "text": [
      "The current date and Time :\n",
      "28-03-2023 22-09-31\n"
     ]
    }
   ],
   "source": [
    "import datetime\n",
    "now =datetime.datetime.now()\n",
    "print(\"The current date and Time :\")\n",
    "print(now.strftime(\"%d-%m-%Y %H-%M-%S\"))"
   ]
  },
  {
   "cell_type": "code",
   "execution_count": 14,
   "id": "239df9df",
   "metadata": {},
   "outputs": [
    {
     "name": "stdout",
     "output_type": "stream",
     "text": [
      "The current date and time :\n",
      "28-03-2023 22:13:16\n"
     ]
    }
   ],
   "source": [
    "import datetime\n",
    "bhush =datetime.datetime.now()\n",
    "print(\"The current date and time :\")\n",
    "print(bhush.strftime(\"%d-%m-%Y %H:%M:%S\"))"
   ]
  },
  {
   "cell_type": "code",
   "execution_count": 15,
   "id": "611bb02f",
   "metadata": {},
   "outputs": [
    {
     "name": "stdout",
     "output_type": "stream",
     "text": [
      "Enter the first name>>Bhushan\n",
      "Enter the last name>>chopade\n",
      "Hello chopade Bhushan\n"
     ]
    }
   ],
   "source": [
    "fname =input(\"Enter the first name>>\")\n",
    "lname =input(\"Enter the last name>>\")\n",
    "print(\"Hello {} {}\".format(lname,fname))"
   ]
  },
  {
   "cell_type": "code",
   "execution_count": 25,
   "id": "e563d17e",
   "metadata": {},
   "outputs": [
    {
     "name": "stdout",
     "output_type": "stream",
     "text": [
      "Red\n",
      "Black\n"
     ]
    }
   ],
   "source": [
    "color_list = [\"Red\",\"Green\",\"White\" ,\"Black\"]\n",
    "for i in color_list:\n",
    "    if (i==\"Red\"):\n",
    "        print(i)\n",
    "        continue\n",
    "    if (i==\"Black\"):\n",
    "        print(i)"
   ]
  },
  {
   "cell_type": "code",
   "execution_count": 28,
   "id": "53be95a2",
   "metadata": {},
   "outputs": [
    {
     "name": "stdout",
     "output_type": "stream",
     "text": [
      "the color is Red Black\n"
     ]
    }
   ],
   "source": [
    "color_list = [\"Red\",\"Green\",\"White\" ,\"Black\"]\n",
    "print(f\"the color is {color_list[0]} {color_list[3]}\")"
   ]
  },
  {
   "cell_type": "code",
   "execution_count": 30,
   "id": "958cc8ed",
   "metadata": {},
   "outputs": [
    {
     "name": "stdout",
     "output_type": "stream",
     "text": [
      "The Exam date is : 11/12/2014\n"
     ]
    }
   ],
   "source": [
    "exam_st_date = (11, 12, 2014)\n",
    "print(\"The Exam date is : %s/%s/%s\"%(exam_st_date))"
   ]
  },
  {
   "cell_type": "code",
   "execution_count": 39,
   "id": "1e638397",
   "metadata": {},
   "outputs": [
    {
     "name": "stdout",
     "output_type": "stream",
     "text": [
      "Enter the value>>5\n",
      "615\n"
     ]
    }
   ],
   "source": [
    "a =int(input(\"Enter the value>>\"))\n",
    "n1 =int(\"%s\"%a)\n",
    "n2 =int(\"%s%s\"%(a,a))\n",
    "n3 =int(\"%s%s%s\"%(a,a,a))\n",
    "print(n1+n2+n3)"
   ]
  },
  {
   "cell_type": "code",
   "execution_count": 44,
   "id": "83cd8d94",
   "metadata": {
    "scrolled": false
   },
   "outputs": [
    {
     "name": "stdout",
     "output_type": "stream",
     "text": [
      "Enter the year :22\n",
      "Enter the month :12\n",
      "    December 22\n",
      "Mo Tu We Th Fr Sa Su\n",
      "          1  2  3  4\n",
      " 5  6  7  8  9 10 11\n",
      "12 13 14 15 16 17 18\n",
      "19 20 21 22 23 24 25\n",
      "26 27 28 29 30 31\n",
      "\n"
     ]
    }
   ],
   "source": [
    "import calendar\n",
    "y =int(input(\"Enter the year :\"))\n",
    "m =int(input(\"Enter the month :\"))\n",
    "print(calendar.month(y,m))"
   ]
  },
  {
   "cell_type": "code",
   "execution_count": 72,
   "id": "880c5d3b",
   "metadata": {},
   "outputs": [
    {
     "name": "stdout",
     "output_type": "stream",
     "text": [
      "the differance between 2 Dates 9\n"
     ]
    }
   ],
   "source": [
    "from datetime import date\n",
    "f_date = date(2014, 7, 2)\n",
    "l_date = date(2014, 7, 11)\n",
    "delta = l_date - f_date\n",
    "print(\"the differance between 2 Dates {}\".format(delta.days))"
   ]
  },
  {
   "cell_type": "code",
   "execution_count": 73,
   "id": "1d407be8",
   "metadata": {},
   "outputs": [
    {
     "name": "stdout",
     "output_type": "stream",
     "text": [
      "\n",
      "a string that you \"don't\" have to escape\n",
      "This\n",
      "is a  ....... multi-line\n",
      "heredoc string --------> example\n",
      "\n"
     ]
    }
   ],
   "source": [
    "print(\"\"\"\n",
    "a string that you \"don't\" have to escape\n",
    "This\n",
    "is a  ....... multi-line\n",
    "heredoc string --------> example\n",
    "\"\"\")"
   ]
  },
  {
   "cell_type": "code",
   "execution_count": 76,
   "id": "9fa31f81",
   "metadata": {},
   "outputs": [],
   "source": [
    "import datetime"
   ]
  },
  {
   "cell_type": "code",
   "execution_count": 79,
   "id": "0f152ec8",
   "metadata": {},
   "outputs": [
    {
     "name": "stdout",
     "output_type": "stream",
     "text": [
      "29-03-23 00:15:17\n"
     ]
    }
   ],
   "source": [
    "abc =datetime.datetime.now()\n",
    "print(abc.strftime(\"%d-%m-%y %H:%M:%S\"))"
   ]
  },
  {
   "cell_type": "code",
   "execution_count": 8,
   "id": "bb335e56",
   "metadata": {},
   "outputs": [
    {
     "name": "stdout",
     "output_type": "stream",
     "text": [
      "Enter the value of R>>3\n",
      "The Value of V is 1130.9733552923256\n"
     ]
    }
   ],
   "source": [
    "#V = 4/3 × π × r3 \n",
    "from math import pi\n",
    "r =int(input(\"Enter the value of R>>\"))\n",
    "v = (4.0/0.3*pi*r**3)\n",
    "print(\"The Value of V is {}\".format(v))"
   ]
  },
  {
   "cell_type": "code",
   "execution_count": 21,
   "id": "22c83dea",
   "metadata": {},
   "outputs": [
    {
     "name": "stdout",
     "output_type": "stream",
     "text": [
      "6\n"
     ]
    }
   ],
   "source": [
    "#Write a Python program to calculate the difference between a given number and 17.\n",
    "#If the number is greater than 17, return twice the absolute difference\n",
    "def diff(a):\n",
    "    if a <= 17:\n",
    "        return 17-a\n",
    "    else:\n",
    "        return (a-17)*2\n",
    "print(diff(20))"
   ]
  },
  {
   "cell_type": "code",
   "execution_count": 24,
   "id": "a809ea73",
   "metadata": {},
   "outputs": [
    {
     "name": "stdout",
     "output_type": "stream",
     "text": [
      "Enter the Diff >>>25\n",
      "The value is greater than 17 is 8The value is greater than 17 is 8\n"
     ]
    }
   ],
   "source": [
    "val =int(input(\"Enter the Diff >>>\"))\n",
    "if (val <=17):\n",
    "    print(\"The value is less than 17 is {}\".format(17-val))\n",
    "else:\n",
    "    print(\"The value is greater than 17 is {}\".format(val-17)*2)"
   ]
  },
  {
   "cell_type": "code",
   "execution_count": 25,
   "id": "7d600375",
   "metadata": {},
   "outputs": [
    {
     "name": "stdout",
     "output_type": "stream",
     "text": [
      "Enter the year :23\n",
      "Enter the month :10\n",
      "     October 23\n",
      "Mo Tu We Th Fr Sa Su\n",
      "                   1\n",
      " 2  3  4  5  6  7  8\n",
      " 9 10 11 12 13 14 15\n",
      "16 17 18 19 20 21 22\n",
      "23 24 25 26 27 28 29\n",
      "30 31\n",
      "\n"
     ]
    }
   ],
   "source": [
    "import calendar\n",
    "y =int(input(\"Enter the year :\"))\n",
    "m =int(input(\"Enter the month :\"))\n",
    "print(calendar.month(y,m))"
   ]
  },
  {
   "cell_type": "code",
   "execution_count": 30,
   "id": "749dc513",
   "metadata": {},
   "outputs": [
    {
     "name": "stdout",
     "output_type": "stream",
     "text": [
      "Enter the base :14.56\n",
      "Enter the Height :34.12\n",
      "The area of Traingle is 248.3936\n"
     ]
    }
   ],
   "source": [
    "# area of traingle =1/2*BH\n",
    "B =float(input(\"Enter the base :\"))\n",
    "H =float(input(\"Enter the Height :\")) \n",
    "area_of_traingle =1/2*B*H\n",
    "print(f\"The area of Traingle is {area_of_traingle}\")"
   ]
  },
  {
   "cell_type": "code",
   "execution_count": 44,
   "id": "db00ebe9",
   "metadata": {},
   "outputs": [],
   "source": [
    "#Write a Python program to test whether a number is within 100 of 1000 or 2000\n",
    "def prog(a):\n",
    "    if ((1000-a)<= 100) or ((2000-a)<= 100):\n",
    "        print(\"The value is less than 100\")   "
   ]
  },
  {
   "cell_type": "code",
   "execution_count": 47,
   "id": "e1c97007",
   "metadata": {},
   "outputs": [],
   "source": [
    "prog(800)"
   ]
  },
  {
   "cell_type": "code",
   "execution_count": 53,
   "id": "481d1d8d",
   "metadata": {
    "scrolled": true
   },
   "outputs": [
    {
     "name": "stdout",
     "output_type": "stream",
     "text": [
      "True\n",
      "True\n",
      "False\n",
      "False\n"
     ]
    }
   ],
   "source": [
    "def near_thousand(n):\n",
    "      return ((abs(1000 - n) <= 100) or (abs(2000 - n) <= 100))\n",
    "print(near_thousand(1000))\n",
    "print(near_thousand(900))\n",
    "print(near_thousand(200))   \n",
    "print(near_thousand(3000))"
   ]
  },
  {
   "cell_type": "code",
   "execution_count": 61,
   "id": "89fcebcf",
   "metadata": {},
   "outputs": [
    {
     "name": "stdout",
     "output_type": "stream",
     "text": [
      "Enter the value >>1000\n",
      "Enter the value >>800\n"
     ]
    }
   ],
   "source": [
    "r =int(input(\"Enter the value >>\"))\n",
    "s =int(input(\"Enter the value >>\"))\n",
    "if ((1000 -r) <= 100) and ((2000-s) <=100):\n",
    "    print(\"The Values are in between>>\")"
   ]
  },
  {
   "cell_type": "code",
   "execution_count": 69,
   "id": "ba746a55",
   "metadata": {},
   "outputs": [],
   "source": [
    "##Write a Python program to calculate the sum of three given numbers. If the values are equal, \n",
    "#return three times their sum. Go to the editor\n",
    "def three_no(x,y,z):\n",
    "    sum =x+y+z\n",
    "    if x==y==z:\n",
    "        sum =sum*3\n",
    "        return sum"
   ]
  },
  {
   "cell_type": "code",
   "execution_count": 72,
   "id": "cf7b22b8",
   "metadata": {},
   "outputs": [
    {
     "name": "stdout",
     "output_type": "stream",
     "text": [
      "None\n"
     ]
    }
   ],
   "source": [
    "print(three_no(1,1,3))"
   ]
  },
  {
   "cell_type": "code",
   "execution_count": 81,
   "id": "b6616132",
   "metadata": {},
   "outputs": [
    {
     "name": "stdout",
     "output_type": "stream",
     "text": [
      "Enter the value>>2\n",
      "Enter the value>>2\n",
      "Enter the value>>2\n",
      "The result is 18\n"
     ]
    }
   ],
   "source": [
    "x =int(input(\"Enter the value>>\"))\n",
    "y =int(input(\"Enter the value>>\"))\n",
    "z =int(input(\"Enter the value>>\"))\n",
    "a =x+y+z\n",
    "if x ==y==z:\n",
    "    a =a*3\n",
    "    print(\"The result is {}\".format(a))"
   ]
  },
  {
   "cell_type": "code",
   "execution_count": 3,
   "id": "d17345e7",
   "metadata": {},
   "outputs": [
    {
     "name": "stdout",
     "output_type": "stream",
     "text": [
      "Welcome allPlease subscribe\n"
     ]
    }
   ],
   "source": [
    "def welcome(msg)->str:\n",
    "    \"\"\"\n",
    "    Description: This function will show a welcome message\n",
    "    \n",
    "\n",
    "    Return : This function will return the welcome message \n",
    "    \"\"\"\n",
    "\n",
    "\n",
    "\n",
    "    return msg\n",
    "\n",
    "\n",
    "\n",
    "msg=welcome(\"Welcome all\")\n",
    "print(msg + \"Please subscribe\")    "
   ]
  },
  {
   "cell_type": "code",
   "execution_count": 4,
   "id": "5b325505",
   "metadata": {},
   "outputs": [
    {
     "name": "stdout",
     "output_type": "stream",
     "text": [
      "ISArray\n"
     ]
    }
   ],
   "source": [
    "def hello(msg)->str:\n",
    "    return msg\n",
    "\n",
    "msg =hello(\"IS\")\n",
    "print(msg +\"Array\")"
   ]
  },
  {
   "cell_type": "code",
   "execution_count": 9,
   "id": "0b018369",
   "metadata": {},
   "outputs": [
    {
     "name": "stdout",
     "output_type": "stream",
     "text": [
      "AT Station\n"
     ]
    }
   ],
   "source": [
    "msg =hello(\"AT\")\n",
    "print(msg  +\" Station\")"
   ]
  },
  {
   "cell_type": "code",
   "execution_count": 14,
   "id": "eb569883",
   "metadata": {},
   "outputs": [
    {
     "name": "stdout",
     "output_type": "stream",
     "text": [
      "Enter the value :23\n",
      "It is the odd number\n"
     ]
    }
   ],
   "source": [
    "##Write a Python program that determines whether a given number (accepted from the user) is even or odd,\n",
    "##and prints an appropriate message to the user.\n",
    "val =int(input(\"Enter the value :\"))\n",
    "if val %2 ==0:\n",
    "    print(\"It is the Even number\")\n",
    "else:\n",
    "    print(\"It is the odd number\")"
   ]
  },
  {
   "cell_type": "code",
   "execution_count": 18,
   "id": "e661fd20",
   "metadata": {},
   "outputs": [],
   "source": [
    "def BT(value):\n",
    "    if value %2 ==0:\n",
    "        print(\"It is the Even number\")\n",
    "    else:\n",
    "        print(\"It is the odd number\")\n",
    "        return"
   ]
  },
  {
   "cell_type": "code",
   "execution_count": 22,
   "id": "153a2ae3",
   "metadata": {},
   "outputs": [
    {
     "name": "stdout",
     "output_type": "stream",
     "text": [
      "Enter the number :45\n",
      "It is the odd number\n"
     ]
    }
   ],
   "source": [
    "value =int(input(\"Enter the number :\"))\n",
    "BT(value)"
   ]
  },
  {
   "cell_type": "code",
   "execution_count": null,
   "id": "35f46c1f",
   "metadata": {},
   "outputs": [],
   "source": []
  },
  {
   "cell_type": "code",
   "execution_count": 10,
   "id": "bfb844a9",
   "metadata": {},
   "outputs": [
    {
     "name": "stdout",
     "output_type": "stream",
     "text": [
      "the total count is 1\n",
      "the total count is 2\n",
      "the total count is 3\n",
      "the total count is 4\n"
     ]
    }
   ],
   "source": [
    "lst=[3,3,1,1,3,3]\n",
    "count= 0\n",
    "for i in lst:\n",
    "    if i ==3:\n",
    "        count =count+1\n",
    "        print(\"the total count is {}\".format(count))"
   ]
  },
  {
   "cell_type": "code",
   "execution_count": null,
   "id": "2d01af08",
   "metadata": {},
   "outputs": [],
   "source": []
  },
  {
   "cell_type": "code",
   "execution_count": null,
   "id": "29e1e6eb",
   "metadata": {},
   "outputs": [],
   "source": []
  },
  {
   "cell_type": "code",
   "execution_count": null,
   "id": "bc05ccb0",
   "metadata": {},
   "outputs": [],
   "source": []
  },
  {
   "cell_type": "code",
   "execution_count": null,
   "id": "9e158f25",
   "metadata": {},
   "outputs": [],
   "source": []
  },
  {
   "cell_type": "code",
   "execution_count": null,
   "id": "96b5cfa1",
   "metadata": {},
   "outputs": [],
   "source": []
  },
  {
   "cell_type": "code",
   "execution_count": null,
   "id": "9e377381",
   "metadata": {},
   "outputs": [],
   "source": []
  }
 ],
 "metadata": {
  "celltoolbar": "Raw Cell Format",
  "kernelspec": {
   "display_name": "Python 3 (ipykernel)",
   "language": "python",
   "name": "python3"
  },
  "language_info": {
   "codemirror_mode": {
    "name": "ipython",
    "version": 3
   },
   "file_extension": ".py",
   "mimetype": "text/x-python",
   "name": "python",
   "nbconvert_exporter": "python",
   "pygments_lexer": "ipython3",
   "version": "3.9.13"
  },
  "widgets": {
   "application/vnd.jupyter.widget-state+json": {
    "state": {},
    "version_major": 2,
    "version_minor": 0
   }
  }
 },
 "nbformat": 4,
 "nbformat_minor": 5
}
