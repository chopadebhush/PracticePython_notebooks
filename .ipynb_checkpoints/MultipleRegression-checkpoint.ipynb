{
 "cells": [
  {
   "cell_type": "markdown",
   "metadata": {},
   "source": [
    "<h1>Table of contents</h1>\n",
    "\n",
    "<div class=\"alert alert-block alert-info\" style=\"margin-top: 20px\">\n",
    "    <ol>\n",
    "        <li><a href=\"#understanding-data\">Understanding the Data</a></li>\n",
    "        <li><a href=\"#reading_data\">Reading the Data in</a></li>\n",
    "        <li><a href=\"#multiple_regression_model\">Multiple Regression Model</a></li>\n",
    "        <li><a href=\"#prediction\">Prediction</a></li>\n",
    "        <li><a href=\"#practice\">Practice</a></li>\n",
    "    </ol>\n",
    "</div>\n",
    "<br>\n",
    "<hr>"
   ]
  },
  {
   "cell_type": "markdown",
   "metadata": {
    "button": false,
    "new_sheet": false,
    "run_control": {
     "read_only": false
    }
   },
   "source": [
    "### Importing Needed packages"
   ]
  },
  {
   "cell_type": "code",
   "execution_count": 1,
   "metadata": {
    "button": false,
    "new_sheet": false,
    "run_control": {
     "read_only": false
    }
   },
   "outputs": [],
   "source": [
    "import matplotlib.pyplot as plt\n",
    "import pandas as pd\n",
    "import numpy as np\n"
   ]
  },
  {
   "cell_type": "markdown",
   "metadata": {
    "button": false,
    "new_sheet": false,
    "run_control": {
     "read_only": false
    }
   },
   "source": [
    "\n",
    "<h2 id=\"understanding_data\">Understanding the Data</h2>\n",
    "\n",
    "### `FuelConsumption.csv`:\n",
    "We have downloaded a fuel consumption dataset, **`FuelConsumption.csv`**, which contains model-specific fuel consumption ratings and estimated carbon dioxide emissions for new light-duty vehicles for retail sale in Canada. [Dataset source](http://open.canada.ca/data/en/dataset/98f1a129-f628-4ce4-b24d-6f16bf24dd64)\n",
    "\n",
    "- **MODELYEAR** e.g. 2014\n",
    "- **MAKE** e.g. Acura\n",
    "- **MODEL** e.g. ILX\n",
    "- **VEHICLE CLASS** e.g. SUV\n",
    "- **ENGINE SIZE** e.g. 4.7\n",
    "- **CYLINDERS** e.g 6\n",
    "- **TRANSMISSION** e.g. A6\n",
    "- **FUELTYPE** e.g. z\n",
    "- **FUEL CONSUMPTION in CITY(L/100 km)** e.g. 9.9\n",
    "- **FUEL CONSUMPTION in HWY (L/100 km)** e.g. 8.9\n",
    "- **FUEL CONSUMPTION COMB (L/100 km)** e.g. 9.2\n",
    "- **CO2 EMISSIONS (g/km)** e.g. 182   --> low --> 0\n"
   ]
  },
  {
   "cell_type": "markdown",
   "metadata": {
    "button": false,
    "new_sheet": false,
    "run_control": {
     "read_only": false
    }
   },
   "source": [
    "<h2 id=\"reading_data\">Reading the data </h2>"
   ]
  },
  {
   "cell_type": "code",
   "execution_count": 2,
   "metadata": {
    "button": false,
    "new_sheet": false,
    "run_control": {
     "read_only": false
    }
   },
   "outputs": [
    {
     "data": {
      "text/html": [
       "<div>\n",
       "<style scoped>\n",
       "    .dataframe tbody tr th:only-of-type {\n",
       "        vertical-align: middle;\n",
       "    }\n",
       "\n",
       "    .dataframe tbody tr th {\n",
       "        vertical-align: top;\n",
       "    }\n",
       "\n",
       "    .dataframe thead th {\n",
       "        text-align: right;\n",
       "    }\n",
       "</style>\n",
       "<table border=\"1\" class=\"dataframe\">\n",
       "  <thead>\n",
       "    <tr style=\"text-align: right;\">\n",
       "      <th></th>\n",
       "      <th>MODELYEAR</th>\n",
       "      <th>MAKE</th>\n",
       "      <th>MODEL</th>\n",
       "      <th>VEHICLECLASS</th>\n",
       "      <th>ENGINESIZE</th>\n",
       "      <th>CYLINDERS</th>\n",
       "      <th>TRANSMISSION</th>\n",
       "      <th>FUELTYPE</th>\n",
       "      <th>FUELCONSUMPTION_CITY</th>\n",
       "      <th>FUELCONSUMPTION_HWY</th>\n",
       "      <th>FUELCONSUMPTION_COMB</th>\n",
       "      <th>FUELCONSUMPTION_COMB_MPG</th>\n",
       "      <th>CO2EMISSIONS</th>\n",
       "    </tr>\n",
       "  </thead>\n",
       "  <tbody>\n",
       "    <tr>\n",
       "      <th>0</th>\n",
       "      <td>2014</td>\n",
       "      <td>ACURA</td>\n",
       "      <td>ILX</td>\n",
       "      <td>COMPACT</td>\n",
       "      <td>2.0</td>\n",
       "      <td>4</td>\n",
       "      <td>AS5</td>\n",
       "      <td>Z</td>\n",
       "      <td>9.9</td>\n",
       "      <td>6.7</td>\n",
       "      <td>8.5</td>\n",
       "      <td>33</td>\n",
       "      <td>196</td>\n",
       "    </tr>\n",
       "    <tr>\n",
       "      <th>1</th>\n",
       "      <td>2014</td>\n",
       "      <td>ACURA</td>\n",
       "      <td>ILX</td>\n",
       "      <td>COMPACT</td>\n",
       "      <td>2.4</td>\n",
       "      <td>4</td>\n",
       "      <td>M6</td>\n",
       "      <td>Z</td>\n",
       "      <td>11.2</td>\n",
       "      <td>7.7</td>\n",
       "      <td>9.6</td>\n",
       "      <td>29</td>\n",
       "      <td>221</td>\n",
       "    </tr>\n",
       "    <tr>\n",
       "      <th>2</th>\n",
       "      <td>2014</td>\n",
       "      <td>ACURA</td>\n",
       "      <td>ILX HYBRID</td>\n",
       "      <td>COMPACT</td>\n",
       "      <td>1.5</td>\n",
       "      <td>4</td>\n",
       "      <td>AV7</td>\n",
       "      <td>Z</td>\n",
       "      <td>6.0</td>\n",
       "      <td>5.8</td>\n",
       "      <td>5.9</td>\n",
       "      <td>48</td>\n",
       "      <td>136</td>\n",
       "    </tr>\n",
       "    <tr>\n",
       "      <th>3</th>\n",
       "      <td>2014</td>\n",
       "      <td>ACURA</td>\n",
       "      <td>MDX 4WD</td>\n",
       "      <td>SUV - SMALL</td>\n",
       "      <td>3.5</td>\n",
       "      <td>6</td>\n",
       "      <td>AS6</td>\n",
       "      <td>Z</td>\n",
       "      <td>12.7</td>\n",
       "      <td>9.1</td>\n",
       "      <td>11.1</td>\n",
       "      <td>25</td>\n",
       "      <td>255</td>\n",
       "    </tr>\n",
       "    <tr>\n",
       "      <th>4</th>\n",
       "      <td>2014</td>\n",
       "      <td>ACURA</td>\n",
       "      <td>RDX AWD</td>\n",
       "      <td>SUV - SMALL</td>\n",
       "      <td>3.5</td>\n",
       "      <td>6</td>\n",
       "      <td>AS6</td>\n",
       "      <td>Z</td>\n",
       "      <td>12.1</td>\n",
       "      <td>8.7</td>\n",
       "      <td>10.6</td>\n",
       "      <td>27</td>\n",
       "      <td>244</td>\n",
       "    </tr>\n",
       "  </tbody>\n",
       "</table>\n",
       "</div>"
      ],
      "text/plain": [
       "   MODELYEAR   MAKE       MODEL VEHICLECLASS  ENGINESIZE  CYLINDERS  \\\n",
       "0       2014  ACURA         ILX      COMPACT         2.0          4   \n",
       "1       2014  ACURA         ILX      COMPACT         2.4          4   \n",
       "2       2014  ACURA  ILX HYBRID      COMPACT         1.5          4   \n",
       "3       2014  ACURA     MDX 4WD  SUV - SMALL         3.5          6   \n",
       "4       2014  ACURA     RDX AWD  SUV - SMALL         3.5          6   \n",
       "\n",
       "  TRANSMISSION FUELTYPE  FUELCONSUMPTION_CITY  FUELCONSUMPTION_HWY  \\\n",
       "0          AS5        Z                   9.9                  6.7   \n",
       "1           M6        Z                  11.2                  7.7   \n",
       "2          AV7        Z                   6.0                  5.8   \n",
       "3          AS6        Z                  12.7                  9.1   \n",
       "4          AS6        Z                  12.1                  8.7   \n",
       "\n",
       "   FUELCONSUMPTION_COMB  FUELCONSUMPTION_COMB_MPG  CO2EMISSIONS  \n",
       "0                   8.5                        33           196  \n",
       "1                   9.6                        29           221  \n",
       "2                   5.9                        48           136  \n",
       "3                  11.1                        25           255  \n",
       "4                  10.6                        27           244  "
      ]
     },
     "execution_count": 2,
     "metadata": {},
     "output_type": "execute_result"
    }
   ],
   "source": [
    "df = pd.read_csv(\"FuelConsumption.csv\")\n",
    "# take a look at the dataset\n",
    "df.head()"
   ]
  },
  {
   "cell_type": "markdown",
   "metadata": {},
   "source": [
    "Lets select some features that we want to use for regression."
   ]
  },
  {
   "cell_type": "code",
   "execution_count": 3,
   "metadata": {
    "button": false,
    "new_sheet": false,
    "run_control": {
     "read_only": false
    }
   },
   "outputs": [
    {
     "data": {
      "text/html": [
       "<div>\n",
       "<style scoped>\n",
       "    .dataframe tbody tr th:only-of-type {\n",
       "        vertical-align: middle;\n",
       "    }\n",
       "\n",
       "    .dataframe tbody tr th {\n",
       "        vertical-align: top;\n",
       "    }\n",
       "\n",
       "    .dataframe thead th {\n",
       "        text-align: right;\n",
       "    }\n",
       "</style>\n",
       "<table border=\"1\" class=\"dataframe\">\n",
       "  <thead>\n",
       "    <tr style=\"text-align: right;\">\n",
       "      <th></th>\n",
       "      <th>ENGINESIZE</th>\n",
       "      <th>CYLINDERS</th>\n",
       "      <th>FUELCONSUMPTION_COMB</th>\n",
       "      <th>CO2EMISSIONS</th>\n",
       "    </tr>\n",
       "  </thead>\n",
       "  <tbody>\n",
       "    <tr>\n",
       "      <th>0</th>\n",
       "      <td>2.0</td>\n",
       "      <td>4</td>\n",
       "      <td>8.5</td>\n",
       "      <td>196</td>\n",
       "    </tr>\n",
       "    <tr>\n",
       "      <th>1</th>\n",
       "      <td>2.4</td>\n",
       "      <td>4</td>\n",
       "      <td>9.6</td>\n",
       "      <td>221</td>\n",
       "    </tr>\n",
       "    <tr>\n",
       "      <th>2</th>\n",
       "      <td>1.5</td>\n",
       "      <td>4</td>\n",
       "      <td>5.9</td>\n",
       "      <td>136</td>\n",
       "    </tr>\n",
       "    <tr>\n",
       "      <th>3</th>\n",
       "      <td>3.5</td>\n",
       "      <td>6</td>\n",
       "      <td>11.1</td>\n",
       "      <td>255</td>\n",
       "    </tr>\n",
       "    <tr>\n",
       "      <th>4</th>\n",
       "      <td>3.5</td>\n",
       "      <td>6</td>\n",
       "      <td>10.6</td>\n",
       "      <td>244</td>\n",
       "    </tr>\n",
       "    <tr>\n",
       "      <th>5</th>\n",
       "      <td>3.5</td>\n",
       "      <td>6</td>\n",
       "      <td>10.0</td>\n",
       "      <td>230</td>\n",
       "    </tr>\n",
       "    <tr>\n",
       "      <th>6</th>\n",
       "      <td>3.5</td>\n",
       "      <td>6</td>\n",
       "      <td>10.1</td>\n",
       "      <td>232</td>\n",
       "    </tr>\n",
       "    <tr>\n",
       "      <th>7</th>\n",
       "      <td>3.7</td>\n",
       "      <td>6</td>\n",
       "      <td>11.1</td>\n",
       "      <td>255</td>\n",
       "    </tr>\n",
       "    <tr>\n",
       "      <th>8</th>\n",
       "      <td>3.7</td>\n",
       "      <td>6</td>\n",
       "      <td>11.6</td>\n",
       "      <td>267</td>\n",
       "    </tr>\n",
       "  </tbody>\n",
       "</table>\n",
       "</div>"
      ],
      "text/plain": [
       "   ENGINESIZE  CYLINDERS  FUELCONSUMPTION_COMB  CO2EMISSIONS\n",
       "0         2.0          4                   8.5           196\n",
       "1         2.4          4                   9.6           221\n",
       "2         1.5          4                   5.9           136\n",
       "3         3.5          6                  11.1           255\n",
       "4         3.5          6                  10.6           244\n",
       "5         3.5          6                  10.0           230\n",
       "6         3.5          6                  10.1           232\n",
       "7         3.7          6                  11.1           255\n",
       "8         3.7          6                  11.6           267"
      ]
     },
     "execution_count": 3,
     "metadata": {},
     "output_type": "execute_result"
    }
   ],
   "source": [
    "cdf = df[['ENGINESIZE','CYLINDERS','FUELCONSUMPTION_COMB','CO2EMISSIONS']]\n",
    "cdf.head(9)"
   ]
  },
  {
   "cell_type": "markdown",
   "metadata": {},
   "source": [
    "Lets plot Emission values with respect to Engine size:"
   ]
  },
  {
   "cell_type": "code",
   "execution_count": 4,
   "metadata": {
    "button": false,
    "new_sheet": false,
    "run_control": {
     "read_only": false
    },
    "scrolled": true
   },
   "outputs": [
    {
     "data": {
      "image/png": "[encoded data removed]",
      "text/plain": [
       "<Figure size 432x288 with 1 Axes>"
      ]
     },
     "metadata": {
      "needs_background": "light"
     },
     "output_type": "display_data"
    }
   ],
   "source": [
    "plt.scatter(cdf.ENGINESIZE, cdf.CO2EMISSIONS,  color='blue')\n",
    "plt.xlabel(\"Engine size\")\n",
    "plt.ylabel(\"Emission\")\n",
    "plt.show()"
   ]
  },
  {
   "cell_type": "markdown",
   "metadata": {
    "button": false,
    "new_sheet": false,
    "run_control": {
     "read_only": false
    }
   },
   "source": [
    "#### Creating train and test dataset\n",
    "Train/Test Split involves splitting the dataset into training and testing sets respectively, which are mutually exclusive. After which, you train with the training set and test with the testing set. \n",
    "This will provide a more accurate evaluation on out-of-sample accuracy because the testing dataset is not part of the dataset that have been used to train the data. It is more realistic for real world problems.\n",
    "\n",
    "This means that we know the outcome of each data point in this dataset, making it great to test with! And since this data has not been used to train the model, the model has no knowledge of the outcome of these data points. So, in essence, it’s truly an out-of-sample testing.\n",
    "\n"
   ]
  },
  {
   "cell_type": "code",
   "execution_count": 65,
   "metadata": {
    "button": false,
    "new_sheet": false,
    "run_control": {
     "read_only": false
    }
   },
   "outputs": [],
   "source": [
    "msk = np.random.rand(len(df)) < 0.80\n",
    "train = cdf[msk]\n",
    "test = cdf[~msk]"
   ]
  },
  {
   "cell_type": "code",
   "execution_count": 64,
   "metadata": {},
   "outputs": [
    {
     "data": {
      "text/plain": [
       "(953, 4)"
      ]
     },
     "execution_count": 64,
     "metadata": {},
     "output_type": "execute_result"
    }
   ],
   "source": [
    "train.shape"
   ]
  },
  {
   "cell_type": "markdown",
   "metadata": {
    "button": false,
    "new_sheet": false,
    "run_control": {
     "read_only": false
    }
   },
   "source": [
    "#### Train data distribution"
   ]
  },
  {
   "cell_type": "code",
   "execution_count": 45,
   "metadata": {
    "button": false,
    "new_sheet": false,
    "run_control": {
     "read_only": false
    }
   },
   "outputs": [
    {
     "data": {
      "image/png": "[encoded data removed]",
      "text/plain": [
       "<Figure size 432x288 with 1 Axes>"
      ]
     },
     "metadata": {
      "needs_background": "light"
     },
     "output_type": "display_data"
    }
   ],
   "source": [
    "plt.scatter(train.ENGINESIZE, train.CO2EMISSIONS,  color='blue')\n",
    "plt.xlabel(\"Engine size\")\n",
    "plt.ylabel(\"Emission\")\n",
    "plt.show()"
   ]
  },
  {
   "cell_type": "markdown",
   "metadata": {
    "button": false,
    "new_sheet": false,
    "run_control": {
     "read_only": false
    }
   },
   "source": [
    "<h2 id=\"multiple_regression_model\">Multiple Regression Model</h2>\n"
   ]
  },
  {
   "cell_type": "markdown",
   "metadata": {},
   "source": [
    "In reality, there are multiple variables that predict the Co2emission. When more than one independent variable is present, the process is called multiple linear regression. For example, predicting co2emission using FUELCONSUMPTION_COMB, EngineSize and Cylinders of cars. The good thing here is that Multiple linear regression is the extension of simple linear regression model."
   ]
  },
  {
   "cell_type": "code",
   "execution_count": 46,
   "metadata": {
    "button": false,
    "new_sheet": false,
    "run_control": {
     "read_only": false
    }
   },
   "outputs": [
    {
     "name": "stdout",
     "output_type": "stream",
     "text": [
      "Intercept:  [65.74619854]\n",
      "Coefficient :  [[13.07402378  6.08772739  9.68997978]]\n"
     ]
    }
   ],
   "source": [
    "from sklearn import linear_model\n",
    "regr = linear_model.LinearRegression()\n",
    "x = np.asanyarray(train[['ENGINESIZE','CYLINDERS','FUELCONSUMPTION_COMB']]) #independent variable \n",
    "y = np.asanyarray(train[['CO2EMISSIONS']])#dependent variable\n",
    "regr.fit(x, y)#training func question + answers\n",
    "# The coefficients\n",
    "print ('Intercept: ',regr.intercept_)\n",
    "print ('Coefficient : ',regr.coef_)"
   ]
  },
  {
   "cell_type": "code",
   "execution_count": 47,
   "metadata": {},
   "outputs": [
    {
     "data": {
      "text/plain": [
       "array([65.74619854])"
      ]
     },
     "execution_count": 47,
     "metadata": {},
     "output_type": "execute_result"
    }
   ],
   "source": [
    "regr.intercept_"
   ]
  },
  {
   "cell_type": "code",
   "execution_count": 48,
   "metadata": {},
   "outputs": [
    {
     "data": {
      "text/plain": [
       "65.74619853609448"
      ]
     },
     "execution_count": 48,
     "metadata": {},
     "output_type": "execute_result"
    }
   ],
   "source": [
    "regr.intercept_[0]"
   ]
  },
  {
   "cell_type": "code",
   "execution_count": 49,
   "metadata": {},
   "outputs": [
    {
     "data": {
      "text/plain": [
       "array([[13.07402378,  6.08772739,  9.68997978]])"
      ]
     },
     "execution_count": 49,
     "metadata": {},
     "output_type": "execute_result"
    }
   ],
   "source": [
    "regr.coef_"
   ]
  },
  {
   "cell_type": "code",
   "execution_count": 50,
   "metadata": {},
   "outputs": [
    {
     "data": {
      "text/plain": [
       "13.074023783838934"
      ]
     },
     "execution_count": 50,
     "metadata": {},
     "output_type": "execute_result"
    }
   ],
   "source": [
    "regr.coef_[0][0]"
   ]
  },
  {
   "cell_type": "code",
   "execution_count": null,
   "metadata": {},
   "outputs": [],
   "source": []
  },
  {
   "cell_type": "code",
   "execution_count": 51,
   "metadata": {},
   "outputs": [
    {
     "data": {
      "text/html": [
       "<div>\n",
       "<style scoped>\n",
       "    .dataframe tbody tr th:only-of-type {\n",
       "        vertical-align: middle;\n",
       "    }\n",
       "\n",
       "    .dataframe tbody tr th {\n",
       "        vertical-align: top;\n",
       "    }\n",
       "\n",
       "    .dataframe thead th {\n",
       "        text-align: right;\n",
       "    }\n",
       "</style>\n",
       "<table border=\"1\" class=\"dataframe\">\n",
       "  <thead>\n",
       "    <tr style=\"text-align: right;\">\n",
       "      <th></th>\n",
       "      <th>ENGINESIZE</th>\n",
       "      <th>CYLINDERS</th>\n",
       "      <th>FUELCONSUMPTION_COMB</th>\n",
       "      <th>CO2EMISSIONS</th>\n",
       "    </tr>\n",
       "  </thead>\n",
       "  <tbody>\n",
       "    <tr>\n",
       "      <th>5</th>\n",
       "      <td>3.5</td>\n",
       "      <td>6</td>\n",
       "      <td>10.0</td>\n",
       "      <td>230</td>\n",
       "    </tr>\n",
       "    <tr>\n",
       "      <th>10</th>\n",
       "      <td>2.4</td>\n",
       "      <td>4</td>\n",
       "      <td>9.8</td>\n",
       "      <td>225</td>\n",
       "    </tr>\n",
       "    <tr>\n",
       "      <th>11</th>\n",
       "      <td>3.5</td>\n",
       "      <td>6</td>\n",
       "      <td>10.4</td>\n",
       "      <td>239</td>\n",
       "    </tr>\n",
       "    <tr>\n",
       "      <th>22</th>\n",
       "      <td>2.0</td>\n",
       "      <td>4</td>\n",
       "      <td>10.0</td>\n",
       "      <td>230</td>\n",
       "    </tr>\n",
       "    <tr>\n",
       "      <th>28</th>\n",
       "      <td>3.0</td>\n",
       "      <td>6</td>\n",
       "      <td>11.2</td>\n",
       "      <td>258</td>\n",
       "    </tr>\n",
       "  </tbody>\n",
       "</table>\n",
       "</div>"
      ],
      "text/plain": [
       "    ENGINESIZE  CYLINDERS  FUELCONSUMPTION_COMB  CO2EMISSIONS\n",
       "5          3.5          6                  10.0           230\n",
       "10         2.4          4                   9.8           225\n",
       "11         3.5          6                  10.4           239\n",
       "22         2.0          4                  10.0           230\n",
       "28         3.0          6                  11.2           258"
      ]
     },
     "execution_count": 51,
     "metadata": {},
     "output_type": "execute_result"
    }
   ],
   "source": [
    "test.head()"
   ]
  },
  {
   "cell_type": "markdown",
   "metadata": {},
   "source": [
    "<h2 id=\"prediction\">Prediction</h2>"
   ]
  },
  {
   "cell_type": "code",
   "execution_count": null,
   "metadata": {},
   "outputs": [],
   "source": []
  },
  {
   "cell_type": "code",
   "execution_count": 52,
   "metadata": {
    "button": false,
    "new_sheet": false,
    "run_control": {
     "read_only": false
    }
   },
   "outputs": [],
   "source": [
    "from sklearn.metrics import r2_score\n",
    "X_test = test[['ENGINESIZE','CYLINDERS','FUELCONSUMPTION_COMB']]\n",
    "y_test = test[['CO2EMISSIONS']]\n"
   ]
  },
  {
   "cell_type": "code",
   "execution_count": 53,
   "metadata": {},
   "outputs": [],
   "source": [
    "y_hat = regr.predict(X_test)#values comming out from ML interms of array only\n"
   ]
  },
  {
   "cell_type": "code",
   "execution_count": 54,
   "metadata": {},
   "outputs": [
    {
     "data": {
      "text/plain": [
       "array([[244.93144395],\n",
       "       [216.43656705],\n",
       "       [248.80743586],\n",
       "       [213.14495349],\n",
       "       [250.0224078 ],\n",
       "       [221.92146642],\n",
       "       [373.29795964],\n",
       "       [217.02094541],\n",
       "       [269.40236736],\n",
       "       [310.83262238],\n",
       "       [340.87155971],\n",
       "       [343.83408477],\n",
       "       [261.65038354],\n",
       "       [204.42397169],\n",
       "       [291.74485199],\n",
       "       [367.43775655],\n",
       "       [301.43483177],\n",
       "       [377.12773633],\n",
       "       [377.12773633],\n",
       "       [200.54797978],\n",
       "       [181.16802021],\n",
       "       [181.16802021],\n",
       "       [197.64098584],\n",
       "       [204.42397169],\n",
       "       [238.39443206],\n",
       "       [241.30142599],\n",
       "       [201.51697775],\n",
       "       [239.36343003],\n",
       "       [295.03646555],\n",
       "       [314.41642511],\n",
       "       [314.41642511],\n",
       "       [204.42397169],\n",
       "       [213.14495349],\n",
       "       [327.98239681],\n",
       "       [211.20695754],\n",
       "       [219.92793934],\n",
       "       [212.17595552],\n",
       "       [211.20695754],\n",
       "       [209.9919856 ],\n",
       "       [257.86682207],\n",
       "       [259.80481802],\n",
       "       [258.83582004],\n",
       "       [258.83582004],\n",
       "       [249.05340982],\n",
       "       [409.65551832],\n",
       "       [273.37078972],\n",
       "       [259.80481802],\n",
       "       [262.71181196],\n",
       "       [319.53870634],\n",
       "       [318.56970836],\n",
       "       [311.78672251],\n",
       "       [304.03473868],\n",
       "       [198.902173  ],\n",
       "       [177.19959785],\n",
       "       [304.80955987],\n",
       "       [386.26092118],\n",
       "       [392.07490905],\n",
       "       [392.07490905],\n",
       "       [441.92464079],\n",
       "       [442.89363876],\n",
       "       [224.18855088],\n",
       "       [220.31255896],\n",
       "       [280.58461041],\n",
       "       [330.97250529],\n",
       "       [190.18119119],\n",
       "       [194.05718311],\n",
       "       [190.18119119],\n",
       "       [172.64679714],\n",
       "       [317.46206471],\n",
       "       [362.03597172],\n",
       "       [362.03597172],\n",
       "       [195.61055944],\n",
       "       [249.14584026],\n",
       "       [249.14584026],\n",
       "       [284.02976748],\n",
       "       [257.86682207],\n",
       "       [315.90868838],\n",
       "       [332.81248885],\n",
       "       [331.84349088],\n",
       "       [257.86682207],\n",
       "       [313.00169444],\n",
       "       [254.95982813],\n",
       "       [318.81568231],\n",
       "       [284.02976748],\n",
       "       [331.84349088],\n",
       "       [266.58780387],\n",
       "       [263.68080994],\n",
       "       [269.49479781],\n",
       "       [183.9825837 ],\n",
       "       [184.95158168],\n",
       "       [183.9825837 ],\n",
       "       [192.70356551],\n",
       "       [351.71539836],\n",
       "       [362.37437612],\n",
       "       [416.63826291],\n",
       "       [211.20695754],\n",
       "       [259.46641362],\n",
       "       [268.86420423],\n",
       "       [199.19436218],\n",
       "       [201.13235813],\n",
       "       [340.08742262],\n",
       "       [394.3513094 ],\n",
       "       [274.0013833 ],\n",
       "       [302.10232467],\n",
       "       [269.15639341],\n",
       "       [309.8543085 ],\n",
       "       [281.75336713],\n",
       "       [310.5311173 ],\n",
       "       [280.49217997],\n",
       "       [325.06608697],\n",
       "       [323.22983736],\n",
       "       [178.84540463],\n",
       "       [191.82699797],\n",
       "       [186.0130101 ],\n",
       "       [192.07297193],\n",
       "       [203.45497371],\n",
       "       [209.02298762],\n",
       "       [253.36023657],\n",
       "       [291.25290408],\n",
       "       [204.42397169],\n",
       "       [247.83843788],\n",
       "       [286.59835702],\n",
       "       [304.80955987],\n",
       "       [386.26092118],\n",
       "       [343.62501013],\n",
       "       [353.56096387],\n",
       "       [351.37699396],\n",
       "       [265.61880589],\n",
       "       [306.31672098],\n",
       "       [271.43279376],\n",
       "       [362.03597172],\n",
       "       [362.03597172],\n",
       "       [337.94966792],\n",
       "       [409.65551832],\n",
       "       [362.03597172],\n",
       "       [198.02560546],\n",
       "       [162.75705862],\n",
       "       [181.46020939],\n",
       "       [209.6535812 ],\n",
       "       [176.56900427],\n",
       "       [250.74543182],\n",
       "       [185.62839048],\n",
       "       [253.94461493],\n",
       "       [203.83959333],\n",
       "       [181.55263983],\n",
       "       [182.52163781],\n",
       "       [188.53538441],\n",
       "       [193.38037431],\n",
       "       [263.05021636],\n",
       "       [303.8498778 ],\n",
       "       [259.71238758],\n",
       "       [308.69486769],\n",
       "       [308.69486769],\n",
       "       [218.37456301],\n",
       "       [219.34356099],\n",
       "       [212.56057514],\n",
       "       [229.03354077],\n",
       "       [332.38165401],\n",
       "       [211.20695754],\n",
       "       [220.31255896],\n",
       "       [273.37078972],\n",
       "       [184.6593925 ],\n",
       "       [226.71092519],\n",
       "       [346.7410787 ],\n",
       "       [363.21404433],\n",
       "       [310.10028245],\n",
       "       [248.80743586],\n",
       "       [221.67549247],\n",
       "       [293.77527839],\n",
       "       [262.37340756],\n",
       "       [264.55737747],\n",
       "       [324.15262012],\n",
       "       [195.70298988],\n",
       "       [193.76499393],\n",
       "       [209.02298762],\n",
       "       [184.07501414],\n",
       "       [197.39501188],\n",
       "       [216.77497145],\n",
       "       [209.26896158],\n",
       "       [204.71616087],\n",
       "       [249.77643384],\n",
       "       [283.69136308],\n",
       "       [249.77643384],\n",
       "       [316.20087756],\n",
       "       [246.8694399 ],\n",
       "       [248.80743586],\n",
       "       [257.77439162],\n",
       "       [257.52841767],\n",
       "       [313.49364236],\n",
       "       [330.48987328],\n",
       "       [186.59738846],\n",
       "       [184.6593925 ],\n",
       "       [181.75239857],\n",
       "       [186.59738846],\n",
       "       [191.44237835],\n",
       "       [191.44237835],\n",
       "       [188.53538441],\n",
       "       [191.44237835],\n",
       "       [191.44237835],\n",
       "       [191.44237835],\n",
       "       [188.53538441],\n",
       "       [157.83808794],\n",
       "       [204.80859131],\n",
       "       [203.45497371],\n",
       "       [257.23622849],\n",
       "       [232.2789391 ],\n",
       "       [287.32138104],\n",
       "       [194.34937228],\n",
       "       [195.31837026],\n",
       "       [254.62142373],\n",
       "       [208.05398965],\n",
       "       [203.20899975],\n",
       "       [206.11599369],\n",
       "       [189.21219321],\n",
       "       [287.32138104],\n",
       "       [246.5310355 ],\n",
       "       [248.46903146],\n",
       "       [256.60563491],\n",
       "       [257.57463289],\n",
       "       [267.26461267],\n",
       "       [226.72024109],\n",
       "       [247.50003348],\n",
       "       [265.61880589],\n",
       "       [281.12277355],\n",
       "       [247.11541386],\n",
       "       [233.50322694],\n",
       "       [301.23507304],\n",
       "       [259.80481802],\n",
       "       [376.2511688 ],\n",
       "       [208.2999636 ],\n",
       "       [167.17121367],\n",
       "       [191.15018917],\n",
       "       [216.77497145],\n",
       "       [198.60998382],\n",
       "       [243.90691485],\n",
       "       [206.11599369],\n",
       "       [218.71296741],\n",
       "       [261.74281398],\n",
       "       [217.74396943],\n",
       "       [279.56939721],\n",
       "       [241.05545203],\n",
       "       [185.3362013 ],\n",
       "       [179.52221343],\n",
       "       [289.259377  ],\n",
       "       [259.46641362],\n",
       "       [155.25104875],\n",
       "       [209.02298762],\n",
       "       [281.50739317],\n",
       "       [313.15523796],\n",
       "       [254.62142373],\n",
       "       [204.42397169],\n",
       "       [223.83169682],\n",
       "       [206.36196765],\n",
       "       [210.23795956],\n",
       "       [193.08818513],\n",
       "       [203.45497371],\n",
       "       [183.10601617],\n",
       "       [160.72663222],\n",
       "       [253.99083015],\n",
       "       [182.13701819],\n",
       "       [219.92793934],\n",
       "       [242.94723277],\n",
       "       [255.83639567],\n",
       "       [255.54420649]])"
      ]
     },
     "execution_count": 54,
     "metadata": {},
     "output_type": "execute_result"
    }
   ],
   "source": [
    "y_hat"
   ]
  },
  {
   "cell_type": "code",
   "execution_count": 55,
   "metadata": {},
   "outputs": [],
   "source": [
    "y_test = np.asanyarray(y_test)#actual values into array values\n"
   ]
  },
  {
   "cell_type": "code",
   "execution_count": 56,
   "metadata": {},
   "outputs": [
    {
     "data": {
      "text/plain": [
       "array([[230],\n",
       "       [225],\n",
       "       [239],\n",
       "       [230],\n",
       "       [258],\n",
       "       [224],\n",
       "       [361],\n",
       "       [239],\n",
       "       [304],\n",
       "       [336],\n",
       "       [407],\n",
       "       [354],\n",
       "       [285],\n",
       "       [209],\n",
       "       [297],\n",
       "       [356],\n",
       "       [320],\n",
       "       [380],\n",
       "       [380],\n",
       "       [200],\n",
       "       [181],\n",
       "       [181],\n",
       "       [193],\n",
       "       [209],\n",
       "       [230],\n",
       "       [237],\n",
       "       [202],\n",
       "       [232],\n",
       "       [292],\n",
       "       [338],\n",
       "       [338],\n",
       "       [209],\n",
       "       [230],\n",
       "       [370],\n",
       "       [225],\n",
       "       [246],\n",
       "       [228],\n",
       "       [225],\n",
       "       [207],\n",
       "       [258],\n",
       "       [262],\n",
       "       [260],\n",
       "       [260],\n",
       "       [255],\n",
       "       [354],\n",
       "       [294],\n",
       "       [262],\n",
       "       [269],\n",
       "       [294],\n",
       "       [292],\n",
       "       [276],\n",
       "       [258],\n",
       "       [202],\n",
       "       [163],\n",
       "       [347],\n",
       "       [334],\n",
       "       [344],\n",
       "       [344],\n",
       "       [411],\n",
       "       [413],\n",
       "       [244],\n",
       "       [235],\n",
       "       [290],\n",
       "       [285],\n",
       "       [182],\n",
       "       [191],\n",
       "       [182],\n",
       "       [159],\n",
       "       [317],\n",
       "       [294],\n",
       "       [294],\n",
       "       [207],\n",
       "       [237],\n",
       "       [237],\n",
       "       [222],\n",
       "       [258],\n",
       "       [301],\n",
       "       [320],\n",
       "       [317],\n",
       "       [258],\n",
       "       [294],\n",
       "       [251],\n",
       "       [308],\n",
       "       [222],\n",
       "       [317],\n",
       "       [278],\n",
       "       [271],\n",
       "       [285],\n",
       "       [179],\n",
       "       [182],\n",
       "       [179],\n",
       "       [200],\n",
       "       [396],\n",
       "       [421],\n",
       "       [382],\n",
       "       [225],\n",
       "       [264],\n",
       "       [281],\n",
       "       [209],\n",
       "       [214],\n",
       "       [368],\n",
       "       [346],\n",
       "       [299],\n",
       "       [254],\n",
       "       [288],\n",
       "       [267],\n",
       "       [317],\n",
       "       [264],\n",
       "       [308],\n",
       "       [288],\n",
       "       [340],\n",
       "       [161],\n",
       "       [179],\n",
       "       [166],\n",
       "       [196],\n",
       "       [207],\n",
       "       [205],\n",
       "       [244],\n",
       "       [264],\n",
       "       [209],\n",
       "       [237],\n",
       "       [229],\n",
       "       [347],\n",
       "       [334],\n",
       "       [380],\n",
       "       [419],\n",
       "       [277],\n",
       "       [276],\n",
       "       [259],\n",
       "       [290],\n",
       "       [294],\n",
       "       [294],\n",
       "       [338],\n",
       "       [354],\n",
       "       [294],\n",
       "       [182],\n",
       "       [110],\n",
       "       [161],\n",
       "       [209],\n",
       "       [159],\n",
       "       [244],\n",
       "       [177],\n",
       "       [258],\n",
       "       [196],\n",
       "       [143],\n",
       "       [145],\n",
       "       [184],\n",
       "       [196],\n",
       "       [267],\n",
       "       [294],\n",
       "       [281],\n",
       "       [306],\n",
       "       [306],\n",
       "       [230],\n",
       "       [232],\n",
       "       [216],\n",
       "       [255],\n",
       "       [340],\n",
       "       [225],\n",
       "       [235],\n",
       "       [294],\n",
       "       [175],\n",
       "       [262],\n",
       "       [361],\n",
       "       [400],\n",
       "       [278],\n",
       "       [239],\n",
       "       [175],\n",
       "       [283],\n",
       "       [271],\n",
       "       [292],\n",
       "       [352],\n",
       "       [189],\n",
       "       [184],\n",
       "       [205],\n",
       "       [161],\n",
       "       [177],\n",
       "       [223],\n",
       "       [221],\n",
       "       [216],\n",
       "       [242],\n",
       "       [224],\n",
       "       [242],\n",
       "       [308],\n",
       "       [235],\n",
       "       [239],\n",
       "       [324],\n",
       "       [260],\n",
       "       [327],\n",
       "       [327],\n",
       "       [179],\n",
       "       [175],\n",
       "       [168],\n",
       "       [179],\n",
       "       [191],\n",
       "       [191],\n",
       "       [184],\n",
       "       [191],\n",
       "       [191],\n",
       "       [191],\n",
       "       [184],\n",
       "       [138],\n",
       "       [198],\n",
       "       [207],\n",
       "       [253],\n",
       "       [260],\n",
       "       [315],\n",
       "       [198],\n",
       "       [200],\n",
       "       [253],\n",
       "       [202],\n",
       "       [191],\n",
       "       [198],\n",
       "       [179],\n",
       "       [315],\n",
       "       [237],\n",
       "       [242],\n",
       "       [248],\n",
       "       [251],\n",
       "       [274],\n",
       "       [212],\n",
       "       [239],\n",
       "       [276],\n",
       "       [313],\n",
       "       [251],\n",
       "       [228],\n",
       "       [294],\n",
       "       [262],\n",
       "       [359],\n",
       "       [218],\n",
       "       [143],\n",
       "       [184],\n",
       "       [223],\n",
       "       [196],\n",
       "       [288],\n",
       "       [198],\n",
       "       [228],\n",
       "       [267],\n",
       "       [225],\n",
       "       [297],\n",
       "       [221],\n",
       "       [170],\n",
       "       [156],\n",
       "       [320],\n",
       "       [264],\n",
       "       [108],\n",
       "       [205],\n",
       "       [301],\n",
       "       [329],\n",
       "       [253],\n",
       "       [209],\n",
       "       [225],\n",
       "       [214],\n",
       "       [223],\n",
       "       [189],\n",
       "       [207],\n",
       "       [186],\n",
       "       [124],\n",
       "       [248],\n",
       "       [184],\n",
       "       [246],\n",
       "       [235],\n",
       "       [271],\n",
       "       [264]], dtype=int64)"
      ]
     },
     "execution_count": 56,
     "metadata": {},
     "output_type": "execute_result"
    }
   ],
   "source": [
    "y_test"
   ]
  },
  {
   "cell_type": "code",
   "execution_count": 57,
   "metadata": {},
   "outputs": [
    {
     "name": "stdout",
     "output_type": "stream",
     "text": [
      "Residual sum of squares: 610.58\n"
     ]
    }
   ],
   "source": [
    "print(\"Residual sum of squares: %.2f\"\n",
    "      % np.mean((y_hat - y_test) ** 2))\n"
   ]
  },
  {
   "cell_type": "code",
   "execution_count": 58,
   "metadata": {},
   "outputs": [
    {
     "name": "stdout",
     "output_type": "stream",
     "text": [
      "R2-score: 0.84\n"
     ]
    }
   ],
   "source": [
    "print(\"R2-score: %.2f\" % r2_score(y_hat , y_test))"
   ]
  },
  {
   "cell_type": "code",
   "execution_count": 59,
   "metadata": {},
   "outputs": [],
   "source": [
    "accuracy = r2_score(y_hat , y_test)"
   ]
  },
  {
   "cell_type": "code",
   "execution_count": 60,
   "metadata": {},
   "outputs": [],
   "source": [
    "#engine,cylinder,fcc"
   ]
  },
  {
   "cell_type": "code",
   "execution_count": 61,
   "metadata": {},
   "outputs": [
    {
     "name": "stdout",
     "output_type": "stream",
     "text": [
      "output is : [[257.23622849]] with 83.96816336343323%\n"
     ]
    }
   ],
   "source": [
    "print(f\"output is : {regr.predict([[3.7,6,11]])} with {accuracy * 100}%\")"
   ]
  },
  {
   "cell_type": "code",
   "execution_count": null,
   "metadata": {},
   "outputs": [],
   "source": []
  }
 ],
 "metadata": {
  "kernelspec": {
   "display_name": "Python 3 (ipykernel)",
   "language": "python",
   "name": "python3"
  },
  "language_info": {
   "codemirror_mode": {
    "name": "ipython",
    "version": 3
   },
   "file_extension": ".py",
   "mimetype": "text/x-python",
   "name": "python",
   "nbconvert_exporter": "python",
   "pygments_lexer": "ipython3",
   "version": "3.9.7"
  },
  "widgets": {
   "state": {},
   "version": "1.1.2"
  }
 },
 "nbformat": 4,
 "nbformat_minor": 4
}
