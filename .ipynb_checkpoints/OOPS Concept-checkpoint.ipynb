{
 "cells": [
  {
   "cell_type": "code",
   "execution_count": 1,
   "id": "dbb37dbb",
   "metadata": {},
   "outputs": [],
   "source": [
    "class car:\n",
    "    pass\n",
    "car1= car()\n",
    "car2= car()"
   ]
  },
  {
   "cell_type": "code",
   "execution_count": 2,
   "id": "c702d0c2",
   "metadata": {},
   "outputs": [],
   "source": [
    "car1.engine =350\n",
    "car1.windows =4\n",
    "car1.tyre =4"
   ]
  },
  {
   "cell_type": "code",
   "execution_count": 3,
   "id": "dbe1d28d",
   "metadata": {},
   "outputs": [],
   "source": [
    "car2.engine =250\n",
    "car2.windows =6\n",
    "car2.tyre =6"
   ]
  },
  {
   "cell_type": "code",
   "execution_count": 4,
   "id": "cf8a8eaa",
   "metadata": {},
   "outputs": [
    {
     "name": "stdout",
     "output_type": "stream",
     "text": [
      "350\n",
      "250\n"
     ]
    }
   ],
   "source": [
    "print(car1.engine)\n",
    "print(car2.engine)"
   ]
  },
  {
   "cell_type": "code",
   "execution_count": 5,
   "id": "9d3c198e",
   "metadata": {},
   "outputs": [
    {
     "name": "stdout",
     "output_type": "stream",
     "text": [
      "4\n",
      "6\n"
     ]
    }
   ],
   "source": [
    "print(car1.windows)\n",
    "print(car2.tyre)"
   ]
  },
  {
   "cell_type": "code",
   "execution_count": 6,
   "id": "1c5c3cb6",
   "metadata": {},
   "outputs": [
    {
     "name": "stdout",
     "output_type": "stream",
     "text": [
      "['__class__', '__delattr__', '__dict__', '__dir__', '__doc__', '__eq__', '__format__', '__ge__', '__getattribute__', '__gt__', '__hash__', '__init__', '__init_subclass__', '__le__', '__lt__', '__module__', '__ne__', '__new__', '__reduce__', '__reduce_ex__', '__repr__', '__setattr__', '__sizeof__', '__str__', '__subclasshook__', '__weakref__', 'engine', 'tyre', 'windows']\n"
     ]
    }
   ],
   "source": [
    "print(dir(car1))   "
   ]
  },
  {
   "cell_type": "code",
   "execution_count": 7,
   "id": "d534665e",
   "metadata": {},
   "outputs": [],
   "source": [
    "class car():\n",
    "    def __init__(self,windows,tyre,engine):\n",
    "        self.windows =windows\n",
    "        self.tyre =tyre\n",
    "        self.engine =engine\n",
    "        \n",
    "car1 =car(4,10,\"350CC\")      "
   ]
  },
  {
   "cell_type": "code",
   "execution_count": 34,
   "id": "fea1c69d",
   "metadata": {},
   "outputs": [
    {
     "data": {
      "text/plain": [
       "4"
      ]
     },
     "execution_count": 34,
     "metadata": {},
     "output_type": "execute_result"
    }
   ],
   "source": [
    "car1.windows"
   ]
  },
  {
   "cell_type": "code",
   "execution_count": 16,
   "id": "1ab43e79",
   "metadata": {},
   "outputs": [
    {
     "name": "stdout",
     "output_type": "stream",
     "text": [
      "The numbers of tyre to car is 10\n",
      "The numbers of tyre to car is 350CC\n",
      "The numbers of tyre to car is 4\n"
     ]
    }
   ],
   "source": [
    "print(\"The numbers of tyre to car is {}\".format(car1.tyre))\n",
    "print(\"The numbers of tyre to car is {}\".format(car1.engine))\n",
    "print(\"The numbers of tyre to car is {}\".format(car1.windows))"
   ]
  },
  {
   "cell_type": "code",
   "execution_count": 19,
   "id": "aa080fe2",
   "metadata": {},
   "outputs": [
    {
     "name": "stdout",
     "output_type": "stream",
     "text": [
      "The Car 2 is Bold\n",
      "The Car 2 is thine\n",
      "The Car 2 is Light\n"
     ]
    }
   ],
   "source": [
    "car2=car(\"Light\",\"thine\",\"Bold\")\n",
    "print(\"The Car 2 is {}\".format(car2.engine))\n",
    "print(\"The Car 2 is {}\".format(car2.tyre))\n",
    "print(\"The Car 2 is {}\".format(car2.windows))"
   ]
  },
  {
   "cell_type": "code",
   "execution_count": 45,
   "id": "c9b66f05",
   "metadata": {},
   "outputs": [],
   "source": [
    "class cup():\n",
    "    def __init__(self,tea,water,salt,pot):\n",
    "        self.tea=tea\n",
    "        self.water=water\n",
    "        self.salt=salt\n",
    "        self.pot =pot\n",
    "    def bashi(self):\n",
    "        print(\"the parameter of bashi {}\".format(self.water))\n",
    "        print(\"the parameter of bashi {}\".format(self.salt))"
   ]
  },
  {
   "cell_type": "code",
   "execution_count": 46,
   "id": "8d8d114c",
   "metadata": {},
   "outputs": [
    {
     "name": "stdout",
     "output_type": "stream",
     "text": [
      "the parameter of bashi 20\n",
      "the parameter of bashi 30\n"
     ]
    }
   ],
   "source": [
    "cup1 =cup(10,20,30,40)\n",
    "cup1.bashi()\n"
   ]
  },
  {
   "cell_type": "code",
   "execution_count": 24,
   "id": "c40d032f",
   "metadata": {},
   "outputs": [
    {
     "data": {
      "text/plain": [
       "('10ml', '200ml', '1packet', '100pot')"
      ]
     },
     "execution_count": 24,
     "metadata": {},
     "output_type": "execute_result"
    }
   ],
   "source": [
    "cup1 =(\"10ml\",\"200ml\",\"1packet\",\"100pot\")\n",
    "cup1"
   ]
  },
  {
   "cell_type": "code",
   "execution_count": 92,
   "id": "f9552420",
   "metadata": {},
   "outputs": [],
   "source": [
    "class car:\n",
    "    def __init__(self,handle,brake,engine):\n",
    "        self.handle =handle\n",
    "        self.brake =brake\n",
    "        self.engine =engine\n",
    "    def driving(self):\n",
    "        print(\"It is self driving car\")    "
   ]
  },
  {
   "cell_type": "code",
   "execution_count": 91,
   "id": "feb0b7a3",
   "metadata": {},
   "outputs": [],
   "source": [
    "class Audi(car):\n",
    "    def __init__(self,handle,brake,engine,seats):\n",
    "        super().__init__(handle,brake,engine)\n",
    "        self.seats= seats\n",
    "    def multicar(self):\n",
    "        print(\"It is multipurpose car\")"
   ]
  },
  {
   "cell_type": "code",
   "execution_count": 93,
   "id": "3461e9a2",
   "metadata": {},
   "outputs": [],
   "source": [
    "AudiQ7 =Audi(6,\"round\",2,20)"
   ]
  },
  {
   "cell_type": "code",
   "execution_count": 94,
   "id": "961e4175",
   "metadata": {},
   "outputs": [
    {
     "name": "stdout",
     "output_type": "stream",
     "text": [
      "6\n",
      "round\n",
      "2\n",
      "20\n",
      "6\n",
      "It is self driving car\n",
      "It is multipurpose car\n"
     ]
    }
   ],
   "source": [
    "print(AudiQ7.handle)\n",
    "print(AudiQ7.brake)\n",
    "print(AudiQ7.engine)\n",
    "print(AudiQ7.seats)\n",
    "print(AudiQ7.handle)\n",
    "AudiQ7.driving()\n",
    "AudiQ7.multicar()"
   ]
  },
  {
   "cell_type": "code",
   "execution_count": 1,
   "id": "5b08d6f5",
   "metadata": {},
   "outputs": [],
   "source": [
    "class Home:\n",
    "    def __init__(self,Father,mother,sister,brother):\n",
    "        self.Father =Father\n",
    "        self.mother =mother\n",
    "        self.sister =sister\n",
    "        self.brother =brother"
   ]
  },
  {
   "cell_type": "code",
   "execution_count": 2,
   "id": "4d4e88f5",
   "metadata": {},
   "outputs": [
    {
     "name": "stdout",
     "output_type": "stream",
     "text": [
      "My father name is Dilip\n",
      "My mother name is Varsha\n",
      "My sister name is Pradnya\n",
      "My brother name is Bhushan\n"
     ]
    }
   ],
   "source": [
    "Home_members =Home(\"Dilip\",\"Varsha\",\"Pradnya\",\"Bhushan\")\n",
    "print(\"My father name is {}\".format(Home_members.Father))\n",
    "print(\"My mother name is {}\".format(Home_members.mother))\n",
    "print(\"My sister name is {}\".format(Home_members.sister))\n",
    "print(\"My brother name is {}\".format(Home_members.brother))"
   ]
  },
  {
   "cell_type": "code",
   "execution_count": 8,
   "id": "0efe0525",
   "metadata": {},
   "outputs": [],
   "source": [
    "class Home:\n",
    "    def __init__(self,Father,mother,sister,brother):\n",
    "        self.Father =Father\n",
    "        self.mother =mother\n",
    "        self.sister =sister\n",
    "        self.brother =brother"
   ]
  },
  {
   "cell_type": "code",
   "execution_count": 12,
   "id": "fed76468",
   "metadata": {},
   "outputs": [],
   "source": [
    "class farm(Home):\n",
    "    def __init__(self,Father,mother,sister,brother,Grandmother):\n",
    "        super().__init__(Father,mother,sister,brother)\n",
    "        self.Grandmother =Grandmother"
   ]
  },
  {
   "cell_type": "code",
   "execution_count": 13,
   "id": "92ab208f",
   "metadata": {},
   "outputs": [],
   "source": [
    "Home1 =farm(\"Dilip\",\"Varsha\",\"Pradnya\",\"Bhushan\",\"Geeta\")"
   ]
  },
  {
   "cell_type": "code",
   "execution_count": 17,
   "id": "20bb5312",
   "metadata": {},
   "outputs": [
    {
     "name": "stdout",
     "output_type": "stream",
     "text": [
      "Geeta\n",
      "Bhushan\n",
      "Pradnya\n"
     ]
    }
   ],
   "source": [
    "print(Home1.Grandmother)\n",
    "print(Home1.brother)\n",
    "print(Home1.sister)"
   ]
  },
  {
   "cell_type": "code",
   "execution_count": 25,
   "id": "c1beb7ec",
   "metadata": {},
   "outputs": [],
   "source": [
    "class room:\n",
    "    def __init__(self,parag,cot,laptop,water):\n",
    "        self.parag =parag\n",
    "        self.cot =cot\n",
    "        self.laptop =laptop\n",
    "        self.water =water\n",
    "    def mirror(self):\n",
    "        print(\"Mirror is static things\")"
   ]
  },
  {
   "cell_type": "code",
   "execution_count": 21,
   "id": "3d1031ca",
   "metadata": {},
   "outputs": [
    {
     "name": "stdout",
     "output_type": "stream",
     "text": [
      "23\n",
      "15\n"
     ]
    }
   ],
   "source": [
    "room12 =room(23,20.3,15,100)\n",
    "print(room12.parag)\n",
    "print(room12.laptop)"
   ]
  },
  {
   "cell_type": "code",
   "execution_count": 48,
   "id": "debceb66",
   "metadata": {},
   "outputs": [],
   "source": [
    "class door(room):\n",
    "    def __init__(self,parag,cot,laptop,water,mobile):\n",
    "        super().__init__(parag,cot,laptop,water)\n",
    "        self.mobile =mobile\n",
    "    def __init__(self,parag,cot,laptop,water,mobile,dumbel,shoes):\n",
    "        super().__init__(parag,cot,laptop,water)\n",
    "        self.dumbel =dumbel\n",
    "        self.shoes= shoes\n",
    "    def bottle(self):\n",
    "        print(\"Bottom is used for water storing\")"
   ]
  },
  {
   "cell_type": "code",
   "execution_count": 49,
   "id": "25e67a21",
   "metadata": {},
   "outputs": [],
   "source": [
    "bhushan=door(\"Boy\",23,\"dell\",10,\"samsung\",12,40)"
   ]
  },
  {
   "cell_type": "code",
   "execution_count": 50,
   "id": "38022921",
   "metadata": {},
   "outputs": [
    {
     "name": "stdout",
     "output_type": "stream",
     "text": [
      "12\n",
      "40\n",
      "12\n",
      "Boy\n",
      "Mirror is static things\n",
      "Bottom is used for water storing\n"
     ]
    }
   ],
   "source": [
    "print(bhushan.dumbel)\n",
    "print(bhushan.shoes)\n",
    "print(bhushan.dumbel)\n",
    "print(bhushan.parag)\n",
    "bhushan.mirror()\n",
    "bhushan.bottle()"
   ]
  },
  {
   "cell_type": "code",
   "execution_count": 65,
   "id": "b5016955",
   "metadata": {},
   "outputs": [],
   "source": [
    "class hostel:\n",
    "    def __init__(self,boys,rector,watchman):\n",
    "        self.boys =boys\n",
    "        self.rector =rector\n",
    "        self.watchman =watchman\n",
    "    def Management(self):\n",
    "        print(\"Managements is run the hostel\")"
   ]
  },
  {
   "cell_type": "code",
   "execution_count": 66,
   "id": "1bd93f57",
   "metadata": {},
   "outputs": [],
   "source": [
    "class room(hostel):\n",
    "    def __init__(self,boys,rector,watchman,cot,tubelight):\n",
    "        super().__init__(boys,rector,watchman)\n",
    "        self.cot =cot\n",
    "        self.tubelight =tubelight"
   ]
  },
  {
   "cell_type": "code",
   "execution_count": 72,
   "id": "7e0df863",
   "metadata": {},
   "outputs": [],
   "source": [
    "bha =room(100,\"Patil\",\"Lalan\",4,\"White\")"
   ]
  },
  {
   "cell_type": "code",
   "execution_count": 75,
   "id": "8c12fe3d",
   "metadata": {},
   "outputs": [
    {
     "name": "stdout",
     "output_type": "stream",
     "text": [
      "100\n",
      "4\n",
      "White\n",
      "Managements is run the hostel\n"
     ]
    }
   ],
   "source": [
    "print(bha.boys)\n",
    "print(bha.cot)\n",
    "print(bha.tubelight)\n",
    "bha.Management()"
   ]
  },
  {
   "cell_type": "code",
   "execution_count": 47,
   "id": "59bdd246",
   "metadata": {},
   "outputs": [],
   "source": [
    "class a:\n",
    "    def method(self):\n",
    "        print(\"These class belongs to A\")\n",
    "    def method1(self):\n",
    "        print(\"These class belongs to sub A\")"
   ]
  },
  {
   "cell_type": "code",
   "execution_count": 48,
   "id": "242d70d7",
   "metadata": {},
   "outputs": [],
   "source": [
    "class b(a):\n",
    "    def method(self):\n",
    "        print(\"These class belongs to B\")\n",
    "    def method1(self):\n",
    "        print(\"These class belongs to sub B\")"
   ]
  },
  {
   "cell_type": "code",
   "execution_count": 52,
   "id": "148a49d8",
   "metadata": {},
   "outputs": [],
   "source": [
    "class c(a):\n",
    "    def method(self):\n",
    "        print(\"These class belongs to c\")\n",
    "    def method1(self):\n",
    "        print(\"These class belongs to sub C\")"
   ]
  },
  {
   "cell_type": "code",
   "execution_count": 53,
   "id": "567d0d60",
   "metadata": {},
   "outputs": [
    {
     "name": "stdout",
     "output_type": "stream",
     "text": [
      "These class belongs to sub C\n"
     ]
    }
   ],
   "source": [
    "c.method1(c)"
   ]
  },
  {
   "cell_type": "code",
   "execution_count": 51,
   "id": "28f80df6",
   "metadata": {},
   "outputs": [
    {
     "name": "stdout",
     "output_type": "stream",
     "text": [
      "These class belongs to sub B\n"
     ]
    }
   ],
   "source": [
    "b.method1(b)"
   ]
  },
  {
   "cell_type": "code",
   "execution_count": 41,
   "id": "ddf0f584",
   "metadata": {},
   "outputs": [
    {
     "name": "stdout",
     "output_type": "stream",
     "text": [
      "These class belongs to c\n"
     ]
    }
   ],
   "source": [
    "c.method(w)"
   ]
  },
  {
   "cell_type": "code",
   "execution_count": 42,
   "id": "786973d9",
   "metadata": {},
   "outputs": [
    {
     "name": "stdout",
     "output_type": "stream",
     "text": [
      "These class belongs to B\n"
     ]
    }
   ],
   "source": [
    "b.method(w)"
   ]
  },
  {
   "cell_type": "code",
   "execution_count": 43,
   "id": "72c59fe7",
   "metadata": {},
   "outputs": [
    {
     "name": "stdout",
     "output_type": "stream",
     "text": [
      "These class belongs to A\n"
     ]
    }
   ],
   "source": [
    "a.method(w)"
   ]
  },
  {
   "cell_type": "code",
   "execution_count": 44,
   "id": "343b3b9e",
   "metadata": {},
   "outputs": [
    {
     "name": "stdout",
     "output_type": "stream",
     "text": [
      "These class belongs to sub A\n"
     ]
    }
   ],
   "source": [
    "a.method1(a)"
   ]
  },
  {
   "cell_type": "code",
   "execution_count": 54,
   "id": "1954a70b",
   "metadata": {},
   "outputs": [
    {
     "name": "stdout",
     "output_type": "stream",
     "text": [
      "These class belongs to B\n"
     ]
    }
   ],
   "source": [
    "b.method(b)"
   ]
  },
  {
   "cell_type": "code",
   "execution_count": 61,
   "id": "6f93be81",
   "metadata": {},
   "outputs": [],
   "source": [
    "class xyz:\n",
    "    x=5\n",
    "    y=10"
   ]
  },
  {
   "cell_type": "code",
   "execution_count": 64,
   "id": "b2772eb2",
   "metadata": {},
   "outputs": [],
   "source": [
    "obj =xyz()"
   ]
  },
  {
   "cell_type": "code",
   "execution_count": 65,
   "id": "0d013f82",
   "metadata": {},
   "outputs": [
    {
     "data": {
      "text/plain": [
       "5"
      ]
     },
     "execution_count": 65,
     "metadata": {},
     "output_type": "execute_result"
    }
   ],
   "source": [
    "obj.x"
   ]
  },
  {
   "cell_type": "code",
   "execution_count": 66,
   "id": "be0d50e0",
   "metadata": {},
   "outputs": [
    {
     "data": {
      "text/plain": [
       "10"
      ]
     },
     "execution_count": 66,
     "metadata": {},
     "output_type": "execute_result"
    }
   ],
   "source": [
    "obj.y"
   ]
  },
  {
   "cell_type": "code",
   "execution_count": 1,
   "id": "6117742a",
   "metadata": {},
   "outputs": [],
   "source": [
    "class college:\n",
    "    univercity =\"SPPU\"\n",
    "    school =\"VTU\"\n",
    "    Clg =\"MIT\""
   ]
  },
  {
   "cell_type": "code",
   "execution_count": 3,
   "id": "443290df",
   "metadata": {},
   "outputs": [],
   "source": [
    "a=college()\n",
    "b=college()\n",
    "c=college()"
   ]
  },
  {
   "cell_type": "code",
   "execution_count": 4,
   "id": "3aa61d4f",
   "metadata": {},
   "outputs": [
    {
     "data": {
      "text/plain": [
       "'SPPU'"
      ]
     },
     "execution_count": 4,
     "metadata": {},
     "output_type": "execute_result"
    }
   ],
   "source": [
    "a.univercity"
   ]
  },
  {
   "cell_type": "code",
   "execution_count": 5,
   "id": "8b9d41bb",
   "metadata": {},
   "outputs": [
    {
     "data": {
      "text/plain": [
       "'VTU'"
      ]
     },
     "execution_count": 5,
     "metadata": {},
     "output_type": "execute_result"
    }
   ],
   "source": [
    "a.school"
   ]
  },
  {
   "cell_type": "code",
   "execution_count": 6,
   "id": "a69da4e0",
   "metadata": {},
   "outputs": [
    {
     "data": {
      "text/plain": [
       "'MIT'"
      ]
     },
     "execution_count": 6,
     "metadata": {},
     "output_type": "execute_result"
    }
   ],
   "source": [
    "a.Clg"
   ]
  },
  {
   "cell_type": "code",
   "execution_count": 7,
   "id": "8a87dd0a",
   "metadata": {},
   "outputs": [],
   "source": [
    "class student:\n",
    "    fname =\"\"\n",
    "    lname =\"\""
   ]
  },
  {
   "cell_type": "code",
   "execution_count": 11,
   "id": "96471d70",
   "metadata": {},
   "outputs": [],
   "source": [
    "bhush =student()"
   ]
  },
  {
   "cell_type": "code",
   "execution_count": 12,
   "id": "07b95e5c",
   "metadata": {},
   "outputs": [],
   "source": [
    "bhush.fname =\"bhushan\"\n",
    "bhush.lname =\"chaopde\""
   ]
  },
  {
   "cell_type": "code",
   "execution_count": 14,
   "id": "1d7c400d",
   "metadata": {},
   "outputs": [
    {
     "data": {
      "text/plain": [
       "'bhushan'"
      ]
     },
     "execution_count": 14,
     "metadata": {},
     "output_type": "execute_result"
    }
   ],
   "source": [
    "bhush.fname"
   ]
  },
  {
   "cell_type": "code",
   "execution_count": 16,
   "id": "0d48620f",
   "metadata": {},
   "outputs": [
    {
     "data": {
      "text/plain": [
       "'chaopde'"
      ]
     },
     "execution_count": 16,
     "metadata": {},
     "output_type": "execute_result"
    }
   ],
   "source": [
    "bhush.lname"
   ]
  },
  {
   "cell_type": "code",
   "execution_count": 17,
   "id": "24d34200",
   "metadata": {},
   "outputs": [
    {
     "name": "stdout",
     "output_type": "stream",
     "text": [
      "Enter the first name>>bhushan\n",
      "Enter the last name>>Chopade\n"
     ]
    }
   ],
   "source": [
    "class student:\n",
    "    f_name =input(\"Enter the first name>>\")\n",
    "    f_lname =input(\"Enter the last name>>\")\n",
    "    fname =f_name\n",
    "    lname =f_lname"
   ]
  },
  {
   "cell_type": "code",
   "execution_count": 18,
   "id": "b694e98e",
   "metadata": {},
   "outputs": [],
   "source": [
    "xyz =student()"
   ]
  },
  {
   "cell_type": "code",
   "execution_count": 19,
   "id": "94806960",
   "metadata": {},
   "outputs": [
    {
     "data": {
      "text/plain": [
       "'bhushan'"
      ]
     },
     "execution_count": 19,
     "metadata": {},
     "output_type": "execute_result"
    }
   ],
   "source": [
    "xyz.fname"
   ]
  },
  {
   "cell_type": "code",
   "execution_count": 20,
   "id": "876e9a49",
   "metadata": {},
   "outputs": [
    {
     "data": {
      "text/plain": [
       "'Chopade'"
      ]
     },
     "execution_count": 20,
     "metadata": {},
     "output_type": "execute_result"
    }
   ],
   "source": [
    "xyz.lname"
   ]
  },
  {
   "cell_type": "code",
   "execution_count": 27,
   "id": "1902067c",
   "metadata": {},
   "outputs": [
    {
     "name": "stdout",
     "output_type": "stream",
     "text": [
      "The name of student is bhushan Chopade\n"
     ]
    }
   ],
   "source": [
    "print(\"The name of student is {} {}\".format(xyz.fname,xyz.lname))"
   ]
  },
  {
   "cell_type": "code",
   "execution_count": 28,
   "id": "e60b908a",
   "metadata": {},
   "outputs": [],
   "source": [
    "xyz.lname =\"patil\""
   ]
  },
  {
   "cell_type": "code",
   "execution_count": 29,
   "id": "783eea50",
   "metadata": {},
   "outputs": [
    {
     "name": "stdout",
     "output_type": "stream",
     "text": [
      "The name of student is bhushan patil\n"
     ]
    }
   ],
   "source": [
    "print(\"The name of student is {} {}\".format(xyz.fname,xyz.lname))"
   ]
  },
  {
   "cell_type": "code",
   "execution_count": 31,
   "id": "fc9a4114",
   "metadata": {},
   "outputs": [],
   "source": [
    "class family:\n",
    "    def __init__(self,fname,lname,company,country):\n",
    "        self.fname =fname\n",
    "        self.lname =lname\n",
    "        self.company =company\n",
    "        self.country =country"
   ]
  },
  {
   "cell_type": "code",
   "execution_count": 32,
   "id": "262a25c1",
   "metadata": {},
   "outputs": [],
   "source": [
    "asd=family(\"Bhushan\",\"Chopade\",\"xyz\",\"India\")"
   ]
  },
  {
   "cell_type": "code",
   "execution_count": 34,
   "id": "32693fab",
   "metadata": {},
   "outputs": [
    {
     "name": "stdout",
     "output_type": "stream",
     "text": [
      "Bhushan Chopade xyz India\n"
     ]
    }
   ],
   "source": [
    "print(asd.fname,asd.lname,asd.company,asd.country)"
   ]
  },
  {
   "cell_type": "code",
   "execution_count": 2,
   "id": "dd12ca00",
   "metadata": {},
   "outputs": [
    {
     "name": "stdout",
     "output_type": "stream",
     "text": [
      "My First name is Bhushan & Last name is Chopade\n"
     ]
    }
   ],
   "source": [
    "def greeting(firstname,lastname):\n",
    "    print(\"My First name is {} & Last name is {}\".format(firstname,lastname))\n",
    "greeting(\"Bhushan\",\"Chopade\")"
   ]
  },
  {
   "cell_type": "code",
   "execution_count": 4,
   "id": "3048a747",
   "metadata": {},
   "outputs": [
    {
     "name": "stdout",
     "output_type": "stream",
     "text": [
      "My first name is Bhushan and last name is Chopade\n"
     ]
    }
   ],
   "source": [
    "def greeting(firstname,lastname):\n",
    "    print(f\"My first name is {firstname} and last name is {lastname}\")\n",
    "greeting(\"Bhushan\",\"Chopade\")"
   ]
  },
  {
   "cell_type": "code",
   "execution_count": 5,
   "id": "3e76e200",
   "metadata": {},
   "outputs": [],
   "source": [
    "from abc import ABC"
   ]
  },
  {
   "cell_type": "code",
   "execution_count": 6,
   "id": "728a6758",
   "metadata": {},
   "outputs": [],
   "source": [
    "class car(ABC):\n",
    "    def milage(self):\n",
    "        pass"
   ]
  },
  {
   "cell_type": "code",
   "execution_count": 7,
   "id": "7b0150b5",
   "metadata": {},
   "outputs": [],
   "source": [
    "class suzuki(car):\n",
    "    def milage(self):\n",
    "        print(\"The milage of suzuki car is 30kmph\")"
   ]
  },
  {
   "cell_type": "code",
   "execution_count": 8,
   "id": "dcd4876b",
   "metadata": {},
   "outputs": [],
   "source": [
    "class hynduai(car):\n",
    "    def milage(self):\n",
    "        print(\"The milage of hynduai car is 50kmph\")"
   ]
  },
  {
   "cell_type": "code",
   "execution_count": null,
   "id": "7a948c14",
   "metadata": {},
   "outputs": [],
   "source": []
  }
 ],
 "metadata": {
  "celltoolbar": "Raw Cell Format",
  "kernelspec": {
   "display_name": "Python 3 (ipykernel)",
   "language": "python",
   "name": "python3"
  },
  "language_info": {
   "codemirror_mode": {
    "name": "ipython",
    "version": 3
   },
   "file_extension": ".py",
   "mimetype": "text/x-python",
   "name": "python",
   "nbconvert_exporter": "python",
   "pygments_lexer": "ipython3",
   "version": "3.9.13"
  },
  "widgets": {
   "application/vnd.jupyter.widget-state+json": {
    "state": {},
    "version_major": 2,
    "version_minor": 0
   }
  }
 },
 "nbformat": 4,
 "nbformat_minor": 5
}
