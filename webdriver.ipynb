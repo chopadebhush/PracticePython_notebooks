{
 "cells": [
  {
   "cell_type": "code",
   "execution_count": 7,
   "id": "b6a3f133",
   "metadata": {},
   "outputs": [],
   "source": [
    "from selenium import webdriver"
   ]
  },
  {
   "cell_type": "code",
   "execution_count": 8,
   "id": "6a8b9d02",
   "metadata": {},
   "outputs": [],
   "source": [
    "path  = \"chromedriver-win32.zip\""
   ]
  },
  {
   "cell_type": "code",
   "execution_count": 9,
   "id": "cbff5bff",
   "metadata": {},
   "outputs": [],
   "source": [
    "driver =webdriver.Chrome()"
   ]
  },
  {
   "cell_type": "code",
   "execution_count": 12,
   "id": "bf65b4a7",
   "metadata": {},
   "outputs": [],
   "source": [
    "driver.get(\"https://www.youtube.com/@krishnaik06/videos\")"
   ]
  },
  {
   "cell_type": "code",
   "execution_count": 22,
   "id": "92381d4f",
   "metadata": {},
   "outputs": [
    {
     "ename": "SyntaxError",
     "evalue": "positional argument follows keyword argument (1891473647.py, line 1)",
     "output_type": "error",
     "traceback": [
      "\u001b[1;36m  Cell \u001b[1;32mIn[22], line 1\u001b[1;36m\u001b[0m\n\u001b[1;33m    login_form = driver.find_element(by='id',\"meta\")\u001b[0m\n\u001b[1;37m                                                   ^\u001b[0m\n\u001b[1;31mSyntaxError\u001b[0m\u001b[1;31m:\u001b[0m positional argument follows keyword argument\n"
     ]
    }
   ],
   "source": [
    "login_form = driver.find_element(by='id',\"meta\")\n",
    "login_form"
   ]
  },
  {
   "cell_type": "code",
   "execution_count": null,
   "id": "46a875d6",
   "metadata": {},
   "outputs": [],
   "source": []
  }
 ],
 "metadata": {
  "kernelspec": {
   "display_name": "Python 3 (ipykernel)",
   "language": "python",
   "name": "python3"
  },
  "language_info": {
   "codemirror_mode": {
    "name": "ipython",
    "version": 3
   },
   "file_extension": ".py",
   "mimetype": "text/x-python",
   "name": "python",
   "nbconvert_exporter": "python",
   "pygments_lexer": "ipython3",
   "version": "3.9.13"
  }
 },
 "nbformat": 4,
 "nbformat_minor": 5
}
