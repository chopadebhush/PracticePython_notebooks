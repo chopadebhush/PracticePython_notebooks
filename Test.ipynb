{
 "cells": [
  {
   "cell_type": "code",
   "execution_count": 1,
   "metadata": {},
   "outputs": [],
   "source": [
    "class Node :\n",
    "    def __init__(self,data=None ,Next=None ,Prev=None) -> None:\n",
    "        self.data = data\n",
    "        self.Next = Next\n",
    "        self.Prev = Prev\n",
    "        \n",
    "    def setData(self ,data):\n",
    "        self.data = data\n",
    "        \n",
    "    def getData(self):\n",
    "        return self.data\n",
    "    \n",
    "    def setNext(self ,Next):\n",
    "        self.Next =Next\n",
    "        \n",
    "    def getNext(self):\n",
    "        return self.Next\n",
    "    \n",
    "    def setPrev(self,Prev):\n",
    "        self.Prev =Prev\n",
    "        \n",
    "    def getPrev(self):\n",
    "        return self.Prev"
   ]
  },
  {
   "cell_type": "code",
   "execution_count": 71,
   "metadata": {},
   "outputs": [],
   "source": [
    "class Node :\n",
    "    def __init__(self,data = None,Next =None) -> None:\n",
    "        self.data =data\n",
    "        self.Next =Next\n",
    "\n",
    "    def setData(self,data):\n",
    "        self.data =data\n",
    "\n",
    "    def getData(self):\n",
    "        return self.data\n",
    "    \n",
    "    def setNext(self,Next):\n",
    "        self.Next =Next\n",
    "\n",
    "    def getNext(self):\n",
    "        return self.Next"
   ]
  },
  {
   "cell_type": "code",
   "execution_count": 72,
   "metadata": {},
   "outputs": [],
   "source": [
    "head  =Node(1)\n",
    "node2 =Node(2)\n",
    "node3 =Node(3)\n",
    "node4 =Node(4)\n",
    "node8 =Node(8)\n",
    "node6 =Node(6)\n",
    "node9 =Node(9)\n",
    "\n",
    "# create Linkage\n",
    "head.setNext(node2)\n",
    "node2.setNext(node3)\n",
    "node3.setNext(node4)\n",
    "node4.setNext(node8)\n",
    "node8.setNext(node6)\n",
    "node6.setNext(node9)"
   ]
  },
  {
   "cell_type": "code",
   "execution_count": 73,
   "metadata": {},
   "outputs": [
    {
     "name": "stdout",
     "output_type": "stream",
     "text": [
      "1==>2==>3==>4==>8==>6==>9==>"
     ]
    }
   ],
   "source": [
    "def Traverse(head):\n",
    "    temp =head\n",
    "    while(temp):\n",
    "        print(temp.getData(),end=\"==>\")\n",
    "        temp =temp.getNext()\n",
    "        \n",
    "Traverse(head)"
   ]
  },
  {
   "cell_type": "code",
   "execution_count": 74,
   "metadata": {},
   "outputs": [
    {
     "data": {
      "text/plain": [
       "7"
      ]
     },
     "execution_count": 74,
     "metadata": {},
     "output_type": "execute_result"
    }
   ],
   "source": [
    "def length(head):\n",
    "    temp =head\n",
    "    len_curr =0\n",
    "    while(temp):\n",
    "        len_curr +=1\n",
    "        temp =temp.getNext()\n",
    "    return len_curr\n",
    "length(head)"
   ]
  },
  {
   "cell_type": "code",
   "execution_count": 75,
   "metadata": {},
   "outputs": [
    {
     "name": "stdout",
     "output_type": "stream",
     "text": [
      "6==>9==>1==>2==>3==>4==>8==>"
     ]
    }
   ],
   "source": [
    "def RotateLL(head,k):\n",
    "    curr =head\n",
    "    tail =head\n",
    "    k =k%length(head)\n",
    "    # 1==>2==>3==>4==>8==>6==>9==>\n",
    "    for i in range(length(head)-k -1):\n",
    "        curr =curr.getNext()\n",
    "    Newhead =curr.getNext()\n",
    "    curr.setNext(None)\n",
    "    \n",
    "    temp =Newhead\n",
    "    while(temp.getNext()!=None):\n",
    "        temp =temp.getNext()\n",
    "    temp.setNext(head)\n",
    "    return Newhead\n",
    "\n",
    "rot =RotateLL(head ,2)\n",
    "while rot :\n",
    "    print(rot.getData(),end=\"==>\")\n",
    "    rot =rot.getNext()"
   ]
  },
  {
   "cell_type": "code",
   "execution_count": 77,
   "metadata": {},
   "outputs": [
    {
     "name": "stdout",
     "output_type": "stream",
     "text": [
      "1==>2==>3==>4==>8==>"
     ]
    }
   ],
   "source": [
    "def rotate(head,k):\n",
    "    \n",
    "    temp =head\n",
    "    i =1\n",
    "    while(i < k):\n",
    "        temp =temp.getNext()"
   ]
  },
  {
   "cell_type": "code",
   "execution_count": 78,
   "metadata": {},
   "outputs": [
    {
     "data": {
      "text/plain": [
       "2"
      ]
     },
     "execution_count": 78,
     "metadata": {},
     "output_type": "execute_result"
    }
   ],
   "source": [
    "2%5"
   ]
  },
  {
   "cell_type": "markdown",
   "metadata": {},
   "source": [
    "Implement satck using Queue :"
   ]
  },
  {
   "cell_type": "code",
   "execution_count": 3,
   "metadata": {},
   "outputs": [],
   "source": [
    "class StackLL :\n",
    "    def __init__(self) -> None:\n",
    "        self.head = None\n",
    "        \n",
    "    def isEmpty(self):\n",
    "        return self.head == None\n",
    "    \n",
    "    def Push(self,data) :\n",
    "        node =Node(data)\n",
    "        node.setNext(self.head)\n",
    "        self.head = node\n",
    "        \n",
    "    def pop(self):\n",
    "        if self.isEmpty():\n",
    "            print(\"stack is underflow\")\n",
    "            return\n",
    "        data =self.head.getData()\n",
    "        self.head =self.head.getNext()\n",
    "        return data\n",
    "    \n",
    "    def peak(self):\n",
    "        if self.isEmpty():\n",
    "            print(\"stack is underflow\")\n",
    "            return\n",
    "        data =self.head.getData()\n",
    "        return\n",
    "    def traverse(self):\n",
    "        temp =self.head\n",
    "        while(temp):\n",
    "            print(temp.getData(),end=\"-->\")\n",
    "            temp =temp.getNext()"
   ]
  },
  {
   "cell_type": "code",
   "execution_count": 4,
   "metadata": {},
   "outputs": [],
   "source": [
    "s =StackLL()"
   ]
  },
  {
   "cell_type": "code",
   "execution_count": 5,
   "metadata": {},
   "outputs": [
    {
     "data": {
      "text/plain": [
       "True"
      ]
     },
     "execution_count": 5,
     "metadata": {},
     "output_type": "execute_result"
    }
   ],
   "source": [
    "s.isEmpty()"
   ]
  },
  {
   "cell_type": "code",
   "execution_count": 6,
   "metadata": {},
   "outputs": [
    {
     "name": "stdout",
     "output_type": "stream",
     "text": [
      "stack is underflow\n"
     ]
    }
   ],
   "source": [
    "s.peak()"
   ]
  },
  {
   "cell_type": "code",
   "execution_count": 7,
   "metadata": {},
   "outputs": [],
   "source": [
    "s.Push(1)\n",
    "s.Push(2)\n",
    "s.Push(3)"
   ]
  },
  {
   "cell_type": "code",
   "execution_count": 8,
   "metadata": {},
   "outputs": [
    {
     "name": "stdout",
     "output_type": "stream",
     "text": [
      "3-->2-->1-->"
     ]
    }
   ],
   "source": [
    "s.traverse()"
   ]
  },
  {
   "cell_type": "code",
   "execution_count": 9,
   "metadata": {},
   "outputs": [
    {
     "data": {
      "text/plain": [
       "3"
      ]
     },
     "execution_count": 9,
     "metadata": {},
     "output_type": "execute_result"
    }
   ],
   "source": [
    "s.pop() ### This show First in last out"
   ]
  },
  {
   "cell_type": "code",
   "execution_count": 10,
   "metadata": {},
   "outputs": [
    {
     "name": "stdout",
     "output_type": "stream",
     "text": [
      "2-->1-->"
     ]
    }
   ],
   "source": [
    "s.traverse()"
   ]
  },
  {
   "cell_type": "code",
   "execution_count": 11,
   "metadata": {},
   "outputs": [],
   "source": [
    "class Queue :\n",
    "    def __init__(self) -> None:\n",
    "        self.q1 = StackLL()\n",
    "        self.q2 = StackLL()\n",
    "        \n",
    "    def isEmpty(self):\n",
    "        return self.q1.isEmpty()\n",
    "    \n",
    "    def enQueue(self,data):\n",
    "        self.q1.Push(data)\n",
    "        \n",
    "    def deQueue(self):\n",
    "        if self.isEmpty():\n",
    "            print(\"Queue is underflow\")\n",
    "            return\n",
    "        data = None \n",
    "        while(not self.q1.isEmpty()):\n",
    "            data = self.q1.pop()\n",
    "            if not self.q1.isEmpty():\n",
    "                self.q2.Push(data)\n",
    "        self.q1 ,self.q2 =self.q2 ,self.q1\n",
    "        return data\n",
    "    def traverse(self):\n",
    "        self.q1.traverse()"
   ]
  },
  {
   "cell_type": "code",
   "execution_count": 12,
   "metadata": {},
   "outputs": [],
   "source": [
    "q =Queue()"
   ]
  },
  {
   "cell_type": "code",
   "execution_count": 13,
   "metadata": {},
   "outputs": [
    {
     "data": {
      "text/plain": [
       "True"
      ]
     },
     "execution_count": 13,
     "metadata": {},
     "output_type": "execute_result"
    }
   ],
   "source": [
    "q.isEmpty()"
   ]
  },
  {
   "cell_type": "code",
   "execution_count": 14,
   "metadata": {},
   "outputs": [],
   "source": [
    "q.enQueue(1)\n",
    "q.enQueue(2)\n",
    "q.enQueue(3)"
   ]
  },
  {
   "cell_type": "code",
   "execution_count": 15,
   "metadata": {},
   "outputs": [
    {
     "name": "stdout",
     "output_type": "stream",
     "text": [
      "3-->2-->1-->"
     ]
    }
   ],
   "source": [
    "q.traverse()"
   ]
  },
  {
   "cell_type": "code",
   "execution_count": 16,
   "metadata": {},
   "outputs": [
    {
     "data": {
      "text/plain": [
       "False"
      ]
     },
     "execution_count": 16,
     "metadata": {},
     "output_type": "execute_result"
    }
   ],
   "source": [
    "q.isEmpty()"
   ]
  },
  {
   "cell_type": "code",
   "execution_count": 17,
   "metadata": {},
   "outputs": [
    {
     "data": {
      "text/plain": [
       "1"
      ]
     },
     "execution_count": 17,
     "metadata": {},
     "output_type": "execute_result"
    }
   ],
   "source": [
    "q.deQueue()"
   ]
  },
  {
   "cell_type": "code",
   "execution_count": 18,
   "metadata": {},
   "outputs": [],
   "source": [
    "class Queue :\n",
    "    def __init__(self ,capacity) -> None:\n",
    "        self.arr =[None]* capacity\n",
    "        self.capacity =capacity\n",
    "        self.front = -1\n",
    "        self.rear = -1\n",
    "        self.size = 0\n",
    "        \n",
    "    def isEmpty(self):\n",
    "        return self.front == -1\n",
    "    \n",
    "    def isFull(self):\n",
    "        return (self.rear +1) %self.capacity == self.rear\n",
    "    \n",
    "    def push(self,data):\n",
    "        if self.isFull():\n",
    "            print(\"Queue is ovberflow\")\n",
    "            return \n",
    "        self.front =(self.front+1)% self.capacity\n",
    "        self.arr[self.front] =data\n",
    "        if self.rear == -1:\n",
    "            self.rear = 0\n",
    "            \n",
    "        self.size +=1\n",
    "        \n",
    "    def deQueue(self):\n",
    "        if self.isEmpty():\n",
    "            print(\"Queue is underflow\")\n",
    "            return\n",
    "        data = self.arr[self.rear]\n",
    "        if self.front == self.rear :\n",
    "            self.front = -1\n",
    "            self.rear = -1\n",
    "        else:\n",
    "            self.rear =(self.rear+1)%self.capacity \n",
    "        self.size -=1\n",
    "        return data\n",
    "    \n",
    "    def traverse(self):\n",
    "        for i in range(self.size):\n",
    "            print(self.arr[(self.rear+i)%self.capacity])"
   ]
  },
  {
   "cell_type": "code",
   "execution_count": 19,
   "metadata": {},
   "outputs": [],
   "source": [
    "class QueueLL :\n",
    "    def __init__(self,) -> None:\n",
    "        self.head = None\n",
    "        self.tail = None\n",
    "        self.size = 0\n",
    "        \n",
    "    def isEmpty(self):\n",
    "        return self.head == None\n",
    "    \n",
    "    def enQueue(self,data):\n",
    "        node =Node(data)\n",
    "        if self.isEmpty():\n",
    "            self.head = node\n",
    "            self.tail = node\n",
    "\n",
    "        else:\n",
    "            self.tail.setNext(node)\n",
    "            self.tail =self.tail.getNext()\n",
    "        self.size +=1\n",
    "    \n",
    "    def deQueue(self):\n",
    "        if self.isEmpty():\n",
    "            print(\"Queue is underflow\")\n",
    "            return\n",
    "        data =self.head.getData()\n",
    "        if self.head == self.tail :\n",
    "            self.tail = None\n",
    "            self.head = None\n",
    "\n",
    "        else :\n",
    "            self.head =self.head.getNext()\n",
    "        self.size -=1\n",
    "        return data\n",
    "    \n",
    "    def traverse(self):\n",
    "        temp =self.head\n",
    "        while(temp):\n",
    "            print(temp.getData(),end=\"-->\")\n",
    "            temp =temp.getNext()         "
   ]
  },
  {
   "cell_type": "code",
   "execution_count": 20,
   "metadata": {},
   "outputs": [
    {
     "name": "stdout",
     "output_type": "stream",
     "text": [
      "1\n",
      "2\n",
      "3\n",
      "4\n",
      "5\n",
      "6\n"
     ]
    }
   ],
   "source": [
    "def printRec(arr ,sI):\n",
    "    if sI>=len(arr):\n",
    "        return \n",
    "    print(arr[sI])\n",
    "    printRec(arr,sI+1)\n",
    "    \n",
    "printRec([1,2,3,4,5,6],0)"
   ]
  },
  {
   "cell_type": "code",
   "execution_count": 21,
   "metadata": {},
   "outputs": [],
   "source": [
    "import numpy as np"
   ]
  },
  {
   "cell_type": "code",
   "execution_count": 22,
   "metadata": {},
   "outputs": [
    {
     "data": {
      "text/plain": [
       "'1.21.5'"
      ]
     },
     "execution_count": 22,
     "metadata": {},
     "output_type": "execute_result"
    }
   ],
   "source": [
    "np.__version__"
   ]
  },
  {
   "cell_type": "code",
   "execution_count": 23,
   "metadata": {},
   "outputs": [
    {
     "name": "stdout",
     "output_type": "stream",
     "text": [
      "<class 'numpy.ndarray'>\n"
     ]
    }
   ],
   "source": [
    "l =[1,2,3,4,5]\n",
    "print(type(np.array(l)))"
   ]
  },
  {
   "cell_type": "code",
   "execution_count": 24,
   "metadata": {},
   "outputs": [],
   "source": [
    "arr =np.array(l)"
   ]
  },
  {
   "cell_type": "code",
   "execution_count": 25,
   "metadata": {},
   "outputs": [
    {
     "data": {
      "text/plain": [
       "1"
      ]
     },
     "execution_count": 25,
     "metadata": {},
     "output_type": "execute_result"
    }
   ],
   "source": [
    "arr.ndim"
   ]
  },
  {
   "cell_type": "code",
   "execution_count": 26,
   "metadata": {},
   "outputs": [],
   "source": [
    "arr =np.array([[1,2,3],[4,5,6]])"
   ]
  },
  {
   "cell_type": "code",
   "execution_count": 27,
   "metadata": {},
   "outputs": [
    {
     "data": {
      "text/plain": [
       "2"
      ]
     },
     "execution_count": 27,
     "metadata": {},
     "output_type": "execute_result"
    }
   ],
   "source": [
    "arr.ndim"
   ]
  },
  {
   "cell_type": "code",
   "execution_count": 28,
   "metadata": {},
   "outputs": [
    {
     "data": {
      "text/plain": [
       "matrix([[1, 2, 3],\n",
       "        [4, 5, 6]])"
      ]
     },
     "execution_count": 28,
     "metadata": {},
     "output_type": "execute_result"
    }
   ],
   "source": [
    "np.matrix(arr)"
   ]
  },
  {
   "cell_type": "code",
   "execution_count": 29,
   "metadata": {},
   "outputs": [
    {
     "data": {
      "text/plain": [
       "numpy.matrix"
      ]
     },
     "execution_count": 29,
     "metadata": {},
     "output_type": "execute_result"
    }
   ],
   "source": [
    "type(np.matrix(arr))"
   ]
  },
  {
   "cell_type": "code",
   "execution_count": 30,
   "metadata": {},
   "outputs": [],
   "source": [
    "lst =[1,2,3,4]"
   ]
  },
  {
   "cell_type": "code",
   "execution_count": 31,
   "metadata": {},
   "outputs": [],
   "source": [
    "arr =np.array(lst)"
   ]
  },
  {
   "cell_type": "code",
   "execution_count": 32,
   "metadata": {},
   "outputs": [
    {
     "data": {
      "text/plain": [
       "array([1, 2, 3, 4])"
      ]
     },
     "execution_count": 32,
     "metadata": {},
     "output_type": "execute_result"
    }
   ],
   "source": [
    "arr"
   ]
  },
  {
   "cell_type": "code",
   "execution_count": 33,
   "metadata": {},
   "outputs": [],
   "source": [
    "a = arr"
   ]
  },
  {
   "cell_type": "code",
   "execution_count": 34,
   "metadata": {},
   "outputs": [
    {
     "data": {
      "text/plain": [
       "2307942315568"
      ]
     },
     "execution_count": 34,
     "metadata": {},
     "output_type": "execute_result"
    }
   ],
   "source": [
    "id(a)"
   ]
  },
  {
   "cell_type": "code",
   "execution_count": 35,
   "metadata": {},
   "outputs": [
    {
     "data": {
      "text/plain": [
       "2307942315568"
      ]
     },
     "execution_count": 35,
     "metadata": {},
     "output_type": "execute_result"
    }
   ],
   "source": [
    "id(arr)"
   ]
  },
  {
   "cell_type": "code",
   "execution_count": 36,
   "metadata": {},
   "outputs": [],
   "source": [
    "b =a.copy()"
   ]
  },
  {
   "cell_type": "code",
   "execution_count": 37,
   "metadata": {},
   "outputs": [
    {
     "data": {
      "text/plain": [
       "array([1, 2, 3, 4])"
      ]
     },
     "execution_count": 37,
     "metadata": {},
     "output_type": "execute_result"
    }
   ],
   "source": [
    "b"
   ]
  },
  {
   "cell_type": "code",
   "execution_count": 38,
   "metadata": {},
   "outputs": [
    {
     "data": {
      "text/plain": [
       "2307942315568"
      ]
     },
     "execution_count": 38,
     "metadata": {},
     "output_type": "execute_result"
    }
   ],
   "source": [
    "id(a)"
   ]
  },
  {
   "cell_type": "code",
   "execution_count": 39,
   "metadata": {},
   "outputs": [
    {
     "data": {
      "text/plain": [
       "2307918523536"
      ]
     },
     "execution_count": 39,
     "metadata": {},
     "output_type": "execute_result"
    }
   ],
   "source": [
    "id(b)"
   ]
  },
  {
   "cell_type": "code",
   "execution_count": 40,
   "metadata": {},
   "outputs": [],
   "source": [
    "# shallow copy\n",
    "arr = np.array([1,2,3,4,5])\n",
    "a =arr"
   ]
  },
  {
   "cell_type": "code",
   "execution_count": 41,
   "metadata": {},
   "outputs": [],
   "source": [
    "a[0] =100"
   ]
  },
  {
   "cell_type": "code",
   "execution_count": 42,
   "metadata": {},
   "outputs": [
    {
     "data": {
      "text/plain": [
       "array([100,   2,   3,   4,   5])"
      ]
     },
     "execution_count": 42,
     "metadata": {},
     "output_type": "execute_result"
    }
   ],
   "source": [
    "a"
   ]
  },
  {
   "cell_type": "code",
   "execution_count": 43,
   "metadata": {},
   "outputs": [
    {
     "data": {
      "text/plain": [
       "2307942315952"
      ]
     },
     "execution_count": 43,
     "metadata": {},
     "output_type": "execute_result"
    }
   ],
   "source": [
    "id(a)"
   ]
  },
  {
   "cell_type": "code",
   "execution_count": 44,
   "metadata": {},
   "outputs": [
    {
     "data": {
      "text/plain": [
       "2307942315952"
      ]
     },
     "execution_count": 44,
     "metadata": {},
     "output_type": "execute_result"
    }
   ],
   "source": [
    "id(arr)"
   ]
  },
  {
   "cell_type": "code",
   "execution_count": 45,
   "metadata": {},
   "outputs": [],
   "source": [
    "b =a.copy()"
   ]
  },
  {
   "cell_type": "code",
   "execution_count": 46,
   "metadata": {},
   "outputs": [
    {
     "data": {
      "text/plain": [
       "2307942315952"
      ]
     },
     "execution_count": 46,
     "metadata": {},
     "output_type": "execute_result"
    }
   ],
   "source": [
    "id(a)"
   ]
  },
  {
   "cell_type": "code",
   "execution_count": 47,
   "metadata": {},
   "outputs": [
    {
     "data": {
      "text/plain": [
       "2307942316432"
      ]
     },
     "execution_count": 47,
     "metadata": {},
     "output_type": "execute_result"
    }
   ],
   "source": [
    "id(b)"
   ]
  },
  {
   "cell_type": "code",
   "execution_count": 48,
   "metadata": {},
   "outputs": [],
   "source": [
    "import numpy as np"
   ]
  },
  {
   "cell_type": "code",
   "execution_count": 49,
   "metadata": {},
   "outputs": [
    {
     "data": {
      "text/plain": [
       "'1.21.5'"
      ]
     },
     "execution_count": 49,
     "metadata": {},
     "output_type": "execute_result"
    }
   ],
   "source": [
    "np.__version__"
   ]
  },
  {
   "cell_type": "code",
   "execution_count": 50,
   "metadata": {},
   "outputs": [
    {
     "name": "stdout",
     "output_type": "stream",
     "text": [
      "3.9.13 (main, Aug 25 2022, 23:51:50) [MSC v.1916 64 bit (AMD64)]\n"
     ]
    }
   ],
   "source": [
    "import sys\n",
    "print(sys.version)"
   ]
  },
  {
   "cell_type": "code",
   "execution_count": 51,
   "metadata": {},
   "outputs": [
    {
     "name": "stdout",
     "output_type": "stream",
     "text": [
      "Python 3.9.13\n"
     ]
    }
   ],
   "source": [
    "!python --version"
   ]
  },
  {
   "cell_type": "code",
   "execution_count": 52,
   "metadata": {},
   "outputs": [],
   "source": [
    "import numpy as np"
   ]
  },
  {
   "cell_type": "code",
   "execution_count": 53,
   "metadata": {},
   "outputs": [
    {
     "data": {
      "text/plain": [
       "array([[1, 2],\n",
       "       [3, 4],\n",
       "       [5, 6]])"
      ]
     },
     "execution_count": 53,
     "metadata": {},
     "output_type": "execute_result"
    }
   ],
   "source": [
    "np.empty((3,2),dtype= int) "
   ]
  },
  {
   "cell_type": "code",
   "execution_count": 54,
   "metadata": {},
   "outputs": [
    {
     "data": {
      "text/plain": [
       "array([[9, 6, 8, 2],\n",
       "       [6, 2, 4, 8],\n",
       "       [8, 5, 2, 4]])"
      ]
     },
     "execution_count": 54,
     "metadata": {},
     "output_type": "execute_result"
    }
   ],
   "source": [
    "np.random.randint(1,10,(3,4))"
   ]
  },
  {
   "cell_type": "code",
   "execution_count": 55,
   "metadata": {},
   "outputs": [],
   "source": [
    "# implement stack using array"
   ]
  },
  {
   "cell_type": "code",
   "execution_count": 56,
   "metadata": {},
   "outputs": [],
   "source": [
    "class Stack :\n",
    "    def __init__(self,capacity) -> None:\n",
    "        self.top = -1\n",
    "        self.capacity =capacity\n",
    "        self.arr =[None]* capacity\n",
    "        \n",
    "    def isEmpty(self):\n",
    "        return self.top == -1\n",
    "    \n",
    "    def isFull(self):\n",
    "        return self.top == self.capacity -1\n",
    "    \n",
    "    def push(self,data):\n",
    "        if self.isFull():\n",
    "            print(\"Stack is overflow\")\n",
    "            return\n",
    "        self.top +=1\n",
    "        self.arr[self.top] = data\n",
    "        \n",
    "    def pop(self):\n",
    "        if self.isEmpty():\n",
    "            print(\"Stack is under flow\")\n",
    "            return\n",
    "        data = self.arr[self.top]\n",
    "        self.top -=1\n",
    "        return data\n",
    "        \n",
    "    def peak(self):\n",
    "        if self.isEmpty():\n",
    "            print(\"Stack is under flow\")\n",
    "            return\n",
    "        data = self.arr[self.top]\n",
    "        return data\n",
    "    \n",
    "    def traverse(self):\n",
    "        for i in self.arr:\n",
    "            print(i ,end=\",\")\n",
    "            \n",
    "    def length(self):\n",
    "        return self.capacity"
   ]
  },
  {
   "cell_type": "markdown",
   "metadata": {},
   "source": [
    "Implement stack using link list"
   ]
  },
  {
   "cell_type": "code",
   "execution_count": 57,
   "metadata": {},
   "outputs": [],
   "source": [
    "class StackLL :\n",
    "    def __init__(self) -> None:\n",
    "        self.head = None\n",
    "\n",
    "    def isEmpty(self):\n",
    "        return self.head == None\n",
    "    \n",
    "    def push(self,data):\n",
    "        node = Node(data)\n",
    "        node.setNext(self.head)\n",
    "        self.head = node\n",
    "\n",
    "    def pop(self):\n",
    "        if self.isEmpty():\n",
    "            print(\"stack is underflow\")\n",
    "            return\n",
    "        data = self.head.getData()\n",
    "        self.head =self.head.getNext()\n",
    "        return data\n",
    "    \n",
    "    def peak(self):\n",
    "        if self.isEmpty():\n",
    "            print(\"stack is underflow\")\n",
    "            return\n",
    "        data = self.head.getData()\n",
    "        return data\n",
    "    \n",
    "    def traverse(self):\n",
    "        temp =self.head\n",
    "        while(temp):\n",
    "            print(temp.getData(),end=\"-->\")\n",
    "            temp=temp.getNext()\n",
    "            \n",
    "    def length(self):\n",
    "        countLength =0\n",
    "        temp =self.head\n",
    "        while(temp):\n",
    "            countLength +=1\n",
    "            temp =temp.getNext()\n",
    "        return countLength\n"
   ]
  },
  {
   "cell_type": "markdown",
   "metadata": {},
   "source": [
    "Implement Queue using array :-"
   ]
  },
  {
   "cell_type": "code",
   "execution_count": 58,
   "metadata": {},
   "outputs": [],
   "source": [
    "class QueueArray :\n",
    "    def __init__(self,capacity) -> None:\n",
    "        self.arr =[None]* capacity\n",
    "        self.capacity =capacity\n",
    "        self.front = -1\n",
    "        self.rear = -1\n",
    "        self.size = 0\n",
    "        \n",
    "    def isEmpty(self):\n",
    "        return self.front == -1\n",
    "    \n",
    "    def isFull(self):\n",
    "        return (self.front+1)% self.capacity == self.rear\n",
    "    \n",
    "    def enQueue(self,data):\n",
    "        if self.isFull():\n",
    "            print(\"Queue is overflow\")\n",
    "            return\n",
    "        self.front =(self.front+1)%self.capacity\n",
    "        self.arr[self.front] =data\n",
    "        if self.rear == -1 :\n",
    "            self.rear = 0\n",
    "            \n",
    "        self.size +=1\n",
    "            \n",
    "    def deQueue(self):\n",
    "        if self.isEmpty():\n",
    "            print(\"Queue is underflow\")\n",
    "            return\n",
    "        data =self.arr[self.rear]\n",
    "        if self.rear == self.front :\n",
    "            self.front =-1\n",
    "            self.rear = -1\n",
    "        \n",
    "            \n",
    "        else:\n",
    "            self.rear =(self.rear+1)% self.capacity\n",
    "        self.size -=1\n",
    "        \n",
    "    def travrese(self):\n",
    "        for i in range(self.size):\n",
    "            print(self.arr([self.rear+i]% self.capacity),end=\",\")   "
   ]
  },
  {
   "cell_type": "markdown",
   "metadata": {},
   "source": [
    "Implement Queue using link list :-"
   ]
  },
  {
   "cell_type": "code",
   "execution_count": 59,
   "metadata": {},
   "outputs": [],
   "source": [
    "class QueueLL :\n",
    "    def __init__(self) -> None:\n",
    "        self.head = None\n",
    "        self.tail = None\n",
    "        self.size = 0\n",
    "        \n",
    "    def isEmpty():\n",
    "        return self.head == None\n",
    "\n",
    "    def enQueue(self,data):\n",
    "        node =Node(data)\n",
    "        if self.isEmpty():\n",
    "            self.head = node\n",
    "            self.tail = node\n",
    "        else:\n",
    "            self.tail =self.tail.setNext(node)\n",
    "            self.tail =self.tail.getNext()\n",
    "        self.size +=1\n",
    "\n",
    "    def deQueue(self):\n",
    "        if self.isEmpty():\n",
    "            print(\"Queue is underflow\")\n",
    "            return\n",
    "        data = self.head.getData()\n",
    "        if (self.head == self.tail):\n",
    "            self.head = None\n",
    "            self.tail = None\n",
    "            \n",
    "    def traverse(self):\n",
    "        temp = self.head\n",
    "        while(temp):\n",
    "            print(temp.getData(),end=\"--->\")\n",
    "            temp =temp.getNext()"
   ]
  },
  {
   "cell_type": "code",
   "execution_count": 60,
   "metadata": {},
   "outputs": [],
   "source": [
    "class QueueLL :\n",
    "    def __init__(self) -> None:\n",
    "        self.head = None\n",
    "        self.tail = None\n",
    "        self.size = 0\n",
    "\n",
    "    def isEmpty(self):\n",
    "        return self.head == None\n",
    "    \n",
    "    def enQueue(self,data):\n",
    "        node = Node(data)\n",
    "        if self.isempty():\n",
    "            self.head = node\n",
    "            self.tail = node\n",
    "\n",
    "        else:\n",
    "            self.tail.setNext(node)\n",
    "            self.tail =self.tail.getNext()\n",
    "        self.size +=1\n",
    "        \n",
    "    def deQueue(self):\n",
    "        if self.isEmpty():\n",
    "            print(\"Queue is underflow\")\n",
    "            return\n",
    "        data =self.head.getData()\n",
    "        if self.head == self.tail :\n",
    "            self.head = None\n",
    "            self.tail = None\n",
    "\n",
    "        else:\n",
    "            self.head =self.head.getNext()\n",
    "        self.size -=1\n",
    "        return data\n",
    "    \n",
    "    def travese(self):\n",
    "        temp = self.head\n",
    "        while(temp) :\n",
    "            print(temp.getData(),end=\"-->\")\n",
    "            temp =temp.getNext() "
   ]
  },
  {
   "cell_type": "code",
   "execution_count": 61,
   "metadata": {},
   "outputs": [],
   "source": [
    "# implement stack using Queue"
   ]
  },
  {
   "cell_type": "code",
   "execution_count": 62,
   "metadata": {},
   "outputs": [],
   "source": [
    "class Queue :\n",
    "    def __init__(self) -> None:\n",
    "        self.q1 = Stack()\n",
    "        self.q2 = Stack()\n",
    "        \n",
    "    def isEmpty():\n",
    "        return self.q1.isEmpty()\n",
    "    \n",
    "    def push(self,data):\n",
    "        self.q1.enQueue(data)\n",
    "        \n",
    "    def pop(self):\n",
    "        if self.isEmpty():\n",
    "            print(\"Queue is underflow\")\n",
    "            return\n",
    "        data = None\n",
    "        while(self.q1.isEmpty()):\n",
    "            data =self.q1.deQueue(data)\n",
    "            \n",
    "            if self.q1.isEmpty():\n",
    "                self.q2.enQueue(data)\n",
    "                \n",
    "        self.q1 ,self.q2 =self.q2,self.q1\n",
    "        return data\n",
    "    \n",
    "    def traverse(self):\n",
    "        self.q1.traverse()"
   ]
  },
  {
   "cell_type": "code",
   "execution_count": 63,
   "metadata": {},
   "outputs": [],
   "source": [
    "# Implement Queue using Stack"
   ]
  },
  {
   "cell_type": "code",
   "execution_count": 64,
   "metadata": {},
   "outputs": [],
   "source": [
    "class Stack :\n",
    "    \n",
    "    def __init__(self) -> None:\n",
    "        self.s1 = StackLL()\n",
    "        self.s2 =StackLL()\n",
    "        \n",
    "    def isEmpty(self):\n",
    "        return self.s1.isEmpty()\n",
    "    \n",
    "    def enQueue(self,data):\n",
    "        self.s1.push(data)\n",
    "        \n",
    "    def deQueue(self):\n",
    "        if self.isEmpty():\n",
    "            print(\"Stack is underflow\")\n",
    "            return\n",
    "        data = None\n",
    "        while(not self.s1.isEmpty()):\n",
    "            data = self.s1.pop()\n",
    "            \n",
    "            if not self.s1.isEmpty():\n",
    "                self.s1.push(data)\n",
    "        self.s1,self.s2 = self.s2,self.s1\n",
    "        return data \n",
    "        \n",
    "    def traverse(self):\n",
    "        self.s1.traverse()       "
   ]
  },
  {
   "cell_type": "code",
   "execution_count": 65,
   "metadata": {},
   "outputs": [],
   "source": [
    "s = Stack()"
   ]
  },
  {
   "cell_type": "code",
   "execution_count": 66,
   "metadata": {},
   "outputs": [
    {
     "data": {
      "text/plain": [
       "True"
      ]
     },
     "execution_count": 66,
     "metadata": {},
     "output_type": "execute_result"
    }
   ],
   "source": [
    "s.isEmpty()"
   ]
  },
  {
   "cell_type": "code",
   "execution_count": 67,
   "metadata": {},
   "outputs": [],
   "source": [
    "s.enQueue(1)\n",
    "s.enQueue(2)\n",
    "s.enQueue(3)\n",
    "s.enQueue(4)"
   ]
  },
  {
   "cell_type": "markdown",
   "metadata": {},
   "source": [
    "Tree Data structure learn from tommorrow"
   ]
  },
  {
   "cell_type": "code",
   "execution_count": 68,
   "metadata": {},
   "outputs": [
    {
     "data": {
      "text/plain": [
       "'leetcode'"
      ]
     },
     "execution_count": 68,
     "metadata": {},
     "output_type": "execute_result"
    }
   ],
   "source": [
    "word =\"leetcode\"\n",
    "word[:8]"
   ]
  },
  {
   "cell_type": "code",
   "execution_count": 69,
   "metadata": {},
   "outputs": [
    {
     "data": {
      "text/plain": [
       "'e'"
      ]
     },
     "execution_count": 69,
     "metadata": {},
     "output_type": "execute_result"
    }
   ],
   "source": [
    "word[len(word)-1]"
   ]
  },
  {
   "cell_type": "code",
   "execution_count": 70,
   "metadata": {},
   "outputs": [],
   "source": [
    "#Implement stack using array\n",
    "#Implement stack using linklist\n",
    "#Implement Queue using array\n",
    "#Implement Queue using Linklist\n",
    "\n",
    "# Implement stack using Queue\n",
    "# Implement Queue using Stack"
   ]
  },
  {
   "cell_type": "markdown",
   "metadata": {},
   "source": [
    "Question  : Convert Integer to roman\n",
    "\n",
    "                            I  = 1\n",
    "\n",
    "                            V  = 5\n",
    "\n",
    "                            X  = 10\n",
    "\n",
    "                            L  = 50\n",
    "\n",
    "                            C  = 100\n",
    "\n",
    "                            D  = 500\n",
    "\n",
    "                            M  = 1000"
   ]
  },
  {
   "cell_type": "code",
   "execution_count": 71,
   "metadata": {},
   "outputs": [
    {
     "data": {
      "text/plain": [
       "9"
      ]
     },
     "execution_count": 71,
     "metadata": {},
     "output_type": "execute_result"
    }
   ],
   "source": [
    "# Def function with string argument \n",
    "# Create dict map Roman num with its int\n",
    "def RomanToInteger(s):\n",
    "    # Mapping of roman to int\n",
    "    translation ={\"I\":1,\n",
    "                 \"V\":5,\n",
    "                 \"X\":10,\n",
    "                 \"L\":50,\n",
    "                 \"C\":100,\n",
    "                 \"D\":500,\n",
    "                 \"M\":1000}\n",
    "    s =s.replace(\"IV\" ,\"IIII\")\n",
    "    s =s.replace(\"IX\",\"VIIII\")\n",
    "    s =s.replace(\"XL\",\"XXXX\")\n",
    "    s =s.replace(\"XC\",\"LXXXX\")\n",
    "    s =s.replace(\"CD\",\"CCCC\")\n",
    "    s =s.replace(\"CM\",\"DCCCC\")\n",
    "    # Traverse and add with respective string\n",
    "    Number = 0\n",
    "    for i in s :\n",
    "        Number = Number + translation[i]\n",
    "    return Number\n",
    "\n",
    "\n",
    "RomanToInteger(\"IX\")"
   ]
  },
  {
   "cell_type": "code",
   "execution_count": 72,
   "metadata": {},
   "outputs": [],
   "source": [
    "def romanToInt(s) -> int:\n",
    "        romans ={\"I\":1,\"V\":5,\"X\":10,\"L\":50,\"C\":100,\"M\":1000,\"IV\":4,\"IX\":9,\"XL\":40,\"XC\":90,\"CD\":400,\"CM\":900}\n",
    "        ans =0\n",
    "        i =0\n",
    "        while(i < len(s)):\n",
    "            if i+1 < len(s) and s[i] + s[i+1] in romans:\n",
    "                ans+=romans[s[i] + s[i+1]]\n",
    "                i+=2\n",
    "            else:\n",
    "                ans+=romans[s[i]]\n",
    "                i+=1\n",
    "        return ans"
   ]
  },
  {
   "cell_type": "code",
   "execution_count": 73,
   "metadata": {},
   "outputs": [
    {
     "data": {
      "text/plain": [
       "3"
      ]
     },
     "execution_count": 73,
     "metadata": {},
     "output_type": "execute_result"
    }
   ],
   "source": [
    "romanToInt(\"III\")"
   ]
  },
  {
   "cell_type": "code",
   "execution_count": 74,
   "metadata": {},
   "outputs": [
    {
     "name": "stdout",
     "output_type": "stream",
     "text": [
      ",\n"
     ]
    }
   ],
   "source": [
    "str = [\"flower\",\"flow\",\"flight\"]\n",
    "l = len(str[1])\n",
    "lst =\",\"\n",
    "\n",
    "for i in range(l):\n",
    "    if(str[0][i] == str[1][i] == str[2][i]):\n",
    "        lst.join(str[i])\n",
    "print(lst)    "
   ]
  },
  {
   "cell_type": "code",
   "execution_count": 75,
   "metadata": {},
   "outputs": [
    {
     "data": {
      "text/plain": [
       "['flight', 'flow', 'flower']"
      ]
     },
     "execution_count": 75,
     "metadata": {},
     "output_type": "execute_result"
    }
   ],
   "source": [
    "str = sorted(str)\n",
    "str"
   ]
  },
  {
   "cell_type": "code",
   "execution_count": 76,
   "metadata": {},
   "outputs": [
    {
     "name": "stdout",
     "output_type": "stream",
     "text": [
      "f\n",
      "l\n",
      "i\n",
      "g\n",
      "h\n",
      "t\n"
     ]
    }
   ],
   "source": [
    "for i in str[0]:\n",
    "    print(i)"
   ]
  },
  {
   "cell_type": "code",
   "execution_count": 77,
   "metadata": {},
   "outputs": [
    {
     "name": "stdout",
     "output_type": "stream",
     "text": [
      "('f', 'f', 'f')\n",
      "('l', 'l', 'l')\n",
      "('i', 'o', 'o')\n",
      "('g', 'w', 'w')\n"
     ]
    }
   ],
   "source": [
    "for i in zip(*str):\n",
    "    print(i)"
   ]
  },
  {
   "cell_type": "code",
   "execution_count": 78,
   "metadata": {},
   "outputs": [
    {
     "data": {
      "text/plain": [
       "9"
      ]
     },
     "execution_count": 78,
     "metadata": {},
     "output_type": "execute_result"
    }
   ],
   "source": [
    "def LinearSearch(arr ,num):\n",
    "    for i in range(len(arr)):\n",
    "        if(num == arr[i]):\n",
    "            return arr[i]\n",
    "    return -1\n",
    "LinearSearch([1,6,2,8,3,6,9],9)"
   ]
  },
  {
   "cell_type": "code",
   "execution_count": 79,
   "metadata": {},
   "outputs": [],
   "source": [
    "# Binary Search Algorithms\n",
    "def BinarySearch(arr,num):\n",
    "    left = 0\n",
    "    right= len(arr)-1\n",
    "    while(left <= right):\n",
    "        mid =int(left + (right -left)/2)\n",
    "        if(arr[mid] == num):\n",
    "            return mid\n",
    "        elif(arr[mid]> num):\n",
    "            mid= right -1\n",
    "            \n",
    "        else:\n",
    "            left+=1         "
   ]
  },
  {
   "cell_type": "code",
   "execution_count": 80,
   "metadata": {},
   "outputs": [],
   "source": [
    "# Rotated Binary Search Implementation [4, 5, 6, 7, 8, 9, 1, 2, 3]\n",
    "def binarySearch(arr,target):\n",
    "    left = 0 # Define Left pointer\n",
    "    right= len(arr)-1 # define right pointer\n",
    "    # Corner case Condition\n",
    "    if len(arr) == 0: # Corner case for Empty array\n",
    "        print(\"Given array is empty\")\n",
    "        return \n",
    "    if target == arr[0]: # Corner case for single element or result in array\n",
    "        return 0\n",
    "    #while condtion for searching element   \n",
    "    while(left <= right):\n",
    "        # Find the middle element from array\n",
    "        mid =int(left +(right-left)/2)\n",
    "        # Check the target element \n",
    "        if(arr[mid] == target):\n",
    "            return mid\n",
    "        # Check the target elemnt from rotated array\n",
    "        if(target >= arr[left] and target < arr[mid]):\n",
    "                right = right -1\n",
    "        else :\n",
    "            left = left +1                     "
   ]
  },
  {
   "cell_type": "code",
   "execution_count": 81,
   "metadata": {},
   "outputs": [
    {
     "data": {
      "text/plain": [
       "5"
      ]
     },
     "execution_count": 81,
     "metadata": {},
     "output_type": "execute_result"
    }
   ],
   "source": [
    "arr =[4, 5, 6, 7, 8, 9, 1, 2, 3]\n",
    "\n",
    "binarySearch(arr ,9)"
   ]
  },
  {
   "cell_type": "code",
   "execution_count": 82,
   "metadata": {},
   "outputs": [],
   "source": [
    "# Problem 4 :\n",
    "# Searching in a Matrix\n",
    "# Write a Python program that searches for a given element in a 2D matrix and returns its position.\n",
    "# Input:\n",
    "# Matrix = [\n",
    "# [1, 3, 5],\n",
    "# [7, 9, 11],\n",
    "# [13, 15, 17]\n",
    "# ]\n",
    "# Element = 11"
   ]
  },
  {
   "cell_type": "code",
   "execution_count": 84,
   "metadata": {},
   "outputs": [
    {
     "data": {
      "text/plain": [
       "('index of row is :-', 1, 'index of columns is:-', 2)"
      ]
     },
     "execution_count": 84,
     "metadata": {},
     "output_type": "execute_result"
    }
   ],
   "source": [
    "# Approach Traverse the entire matrix and search the element \n",
    "# def function whin argument mat,len(n),target element\n",
    "# Matrix len(n) should be same for the function\n",
    "def Serach2DMatrix(mat,n,target):\n",
    "    # Traverse the entire matrix\n",
    "    for i in range(n):\n",
    "        for j in range(n):\n",
    "            # check the row and columns where element is present\n",
    "            if(mat[i][j] == target):\n",
    "                # if element found return the indexes\n",
    "                return \"index of row is :-\",i ,\"index of columns is:-\",j\n",
    "            \n",
    "    \n",
    "    print(\"Element not found\")          \n",
    "    return -1\n",
    "    \n",
    "matrix =[[1, 3, 5],\n",
    "        [7, 9, 11],\n",
    "        [13, 15, 17]]\n",
    "Serach2DMatrix(matrix ,3,11)"
   ]
  },
  {
   "cell_type": "code",
   "execution_count": null,
   "metadata": {},
   "outputs": [],
   "source": [
    "# Problem 5 :\n",
    "# Sorting Strings by Length\n",
    "# Write a Python program that takes a list of strings and sorts them based on their length.\n",
    "# Input:\n",
    "# ['apple', 'banana', 'kiwi', 'orange', 'grape']\n",
    "# Output:\n",
    "# ['kiwi', 'grape', 'apple', 'banana', 'orange']"
   ]
  },
  {
   "cell_type": "code",
   "execution_count": null,
   "metadata": {},
   "outputs": [
    {
     "name": "stdout",
     "output_type": "stream",
     "text": [
      "['kiwi', 'apple', 'grape', 'banana', 'orange']\n"
     ]
    }
   ],
   "source": [
    "# def SortbyLenght(list_of_string):\n",
    "sorting =sorted(list_of_string ,key=lambda x : len(x))\n",
    "print(sorting)"
   ]
  },
  {
   "cell_type": "code",
   "execution_count": null,
   "metadata": {},
   "outputs": [],
   "source": [
    "lst =['apple', 'banana', 'kiwi', 'orange', 'grape']"
   ]
  },
  {
   "cell_type": "code",
   "execution_count": null,
   "metadata": {},
   "outputs": [
    {
     "name": "stdout",
     "output_type": "stream",
     "text": [
      "['kiwi', 'apple', 'grape', 'banana', 'orange']\n"
     ]
    }
   ],
   "source": [
    "# Approach to for sorting we can used bubble sort as well as selection sort algorithm\n",
    "# create function and pass the argument as list.\n",
    "# Traverse entire list.\n",
    "# check the length of every element and swap it by its length.\n",
    "def BubbleSort_string(lst):\n",
    "    # Traverse the list by it lengths len to zero\n",
    "    for i in range(len(lst)-1,0,-1):\n",
    "        # Inner for loop is used to the entire element present in list\n",
    "        for j in range(i):\n",
    "            # if condition is use to check length of elements \n",
    "            # if element len is gerater than swap it.\n",
    "            if((len(lst[j]) > len(lst[j+1]))):\n",
    "                lst[j],lst[j+1] = lst[j+1],lst[j]\n",
    "\n",
    "lst =['apple', 'banana', 'kiwi', 'orange', 'grape']\n",
    "BubbleSort_string(lst)\n",
    "print(lst)"
   ]
  },
  {
   "cell_type": "code",
   "execution_count": null,
   "metadata": {},
   "outputs": [
    {
     "name": "stdout",
     "output_type": "stream",
     "text": [
      "[1, 2, 3, 4, 5]\n"
     ]
    }
   ],
   "source": [
    "## Selection sort for the approach\n",
    "def SelectionSort(arr):# [3,5,2,1,4]\n",
    "    for i in range(len(arr)):\n",
    "        min = i\n",
    "        for j in range(i+1,len(arr)):\n",
    "            if(arr[j] < arr[min]):\n",
    "                min =j\n",
    "        arr[i],arr[min] = arr[min],arr[i]\n",
    "    return arr\n",
    "        \n",
    "arr =[3,5,2,1,4]\n",
    "SelectionSort(arr)\n",
    "print(arr)"
   ]
  },
  {
   "cell_type": "code",
   "execution_count": null,
   "metadata": {},
   "outputs": [
    {
     "name": "stdout",
     "output_type": "stream",
     "text": [
      "['kiwi', 'apple', 'grape', 'orange', 'banana']\n"
     ]
    }
   ],
   "source": [
    "## Selection sort for the approach\n",
    "def SelectionSort(list):# [3,5,2,1,4]\n",
    "    for i in range(len(lst)):\n",
    "        min = i\n",
    "        for j in range(i+1,len(arr)):\n",
    "            if(len(lst[j]) < len(lst[min])):\n",
    "                min =j\n",
    "        lst[i],lst[min] = lst[min],lst[i]\n",
    "        \n",
    "lst =['apple', 'banana', 'kiwi', 'orange', 'grape']\n",
    "SelectionSort(lst)\n",
    "print(lst)"
   ]
  },
  {
   "cell_type": "code",
   "execution_count": null,
   "metadata": {},
   "outputs": [],
   "source": [
    "# Problem 9 :\n",
    "# Implement a Python function to find a peak element in an array. A peak element is an element that is greater\n",
    "# than or equal to its neighbors.\n",
    "# Input:\n",
    "# [1, 3, 20, 4, 1, 0]\n",
    "# Output:\n",
    "# Peak element is 20"
   ]
  },
  {
   "cell_type": "code",
   "execution_count": null,
   "metadata": {},
   "outputs": [
    {
     "data": {
      "text/plain": [
       "20"
      ]
     },
     "execution_count": 39,
     "metadata": {},
     "output_type": "execute_result"
    }
   ],
   "source": [
    "# Approach traverse entire array till length of array\n",
    "# check condition i-1 and i+1 met return the array element\n",
    "# def function with arguemnt of array\n",
    "def PeakElement(arr):\n",
    "    # Corner Case condition \n",
    "    if len(arr) <= 1 :\n",
    "        return 0\n",
    "    # Corner Case Condition\n",
    "    if(arr[len(arr) - 1] >= arr[len(arr) - 2]) :\n",
    "        return arr[len(arr)-1]\n",
    "    \n",
    "    # Traverse Entire array through for loop start from 1st element\n",
    "    var = 0\n",
    "    for i in range(1,len(arr)):\n",
    "        # Check element is > previous element and check > next element\n",
    "        # If condition met return the element\n",
    "        if(arr[i] >=arr[i-1] and arr[i]> arr[i+1]):\n",
    "            var = arr[i]\n",
    "    return var\n",
    "\n",
    "arr =[1, 3, 20, 4, 1, 0]\n",
    "PeakElement(arr)"
   ]
  },
  {
   "cell_type": "code",
   "execution_count": null,
   "metadata": {},
   "outputs": [],
   "source": [
    "# Problem 10 :\n",
    "# Search in a Nearly Sorted Array\n",
    "# Implement a Python program to perform a binary search in a nearly sorted array. In a nearly sorted array, each\n",
    "# element is at most k positions away from its sorted position.\n",
    "# Input:\n",
    "# [2, 1, 3, 4, 6, 5, 7], k = 1\n",
    "# Output:\n",
    "# Element 5 found at index 4"
   ]
  },
  {
   "cell_type": "code",
   "execution_count": null,
   "metadata": {},
   "outputs": [
    {
     "name": "stdout",
     "output_type": "stream",
     "text": [
      "Element 5 found at index 5\n"
     ]
    }
   ],
   "source": [
    "def binary_search_nearly_sorted(arr ,x ,k):\n",
    "    \"\"\" * Performs binary search in a nearly sorted array.\n",
    "    argument :\n",
    "        1 : nearly sorted array\n",
    "        2 : target element for search\n",
    "        3 : The maximum distance each element can be from its sorted position.\n",
    "    \"\"\"\n",
    "    left ,right = 0 ,len(arr)-1\n",
    "    # Traverse elements \n",
    "    while(left <= right):\n",
    "        # find the mid point of array\n",
    "        mid  =int(left +(right -left)/2)\n",
    "        for i in range(max(mid-k,0),min(mid+k+1,len(arr))):\n",
    "            if(arr[i] == x):\n",
    "                return i\n",
    "            \n",
    "        if(arr[mid] > x):\n",
    "            right =mid -1\n",
    "            \n",
    "        else:\n",
    "            left = mid +1\n",
    "            \n",
    "    return -1 \n",
    "            \n",
    "arr =[2, 1, 3, 4, 6, 5, 7] \n",
    "x = 5\n",
    "k = 1 \n",
    "result =binary_search_nearly_sorted(arr ,x ,k)\n",
    "\n",
    "if result != -1:\n",
    "    print(\"Element\", x, \"found at index\", result)   \n",
    "else:\n",
    "    print(\"element not found\")\n",
    "        "
   ]
  },
  {
   "cell_type": "code",
   "execution_count": null,
   "metadata": {},
   "outputs": [
    {
     "data": {
      "text/plain": [
       "3"
      ]
     },
     "execution_count": 2,
     "metadata": {},
     "output_type": "execute_result"
    }
   ],
   "source": [
    "# Binary Search approach\n",
    "# def function with 2 argument 1. array 2. num which target\n",
    "def BinarySearch(arr ,num):\n",
    "    # Use Two pointer approach\n",
    "    left = 0            # Left pointer start from 0 th element\n",
    "    right = len(arr)-1  # right pointer start from last element of array\n",
    "    \n",
    "    # Traverse entire array \n",
    "    while(left <= right):\n",
    "        # find the mid point of given array\n",
    "        mid =int(left +(right - left)/2)\n",
    "        # check the condition mid == num\n",
    "        if(arr[mid] == num):\n",
    "            return mid  # mid is greater than num number present in right\n",
    "        elif(arr[mid]>num):\n",
    "            right = mid -1\n",
    "            \n",
    "        else:\n",
    "            left = mid +1\n",
    "    return -1\n",
    "\n",
    "# Driver Code\n",
    "arr =[1,2,3,4,5,6]\n",
    "BinarySearch(arr, 4)\n"
   ]
  },
  {
   "cell_type": "markdown",
   "metadata": {},
   "source": [
    "20. Valid Parentheses\n",
    "Given a string s containing just the characters '(', ')', '{', '}', '[' and ']', determine if the input string is valid.\n",
    "\n",
    "An input string is valid if:\n",
    "\n",
    "Open brackets must be closed by the same type of brackets.\n",
    "Open brackets must be closed in the correct order.\n",
    "Every close bracket has a corresponding open bracket of the same type.\n",
    " \n",
    "\n",
    "Example 1:\n",
    "\n",
    "Input: s = \"()\"\n",
    "Output: true\n",
    "Example 2:\n",
    "\n",
    "Input: s = \"()[]{}\"\n",
    "Output: true\n",
    "Example 3:\n",
    "\n",
    "Input: s = \"(]\"\n",
    "Output: false\n",
    " \n",
    "\n",
    "Constraints:\n",
    "\n",
    "1 <= s.length <= 104\n",
    "s consists of parentheses only '()[]{}'."
   ]
  },
  {
   "cell_type": "code",
   "execution_count": null,
   "metadata": {},
   "outputs": [],
   "source": [
    "# Approach to traverse entire string \n",
    "# check every condition if it is match or not\n",
    "# def function isValid with string arugument \n",
    "def isValid(s):\n",
    "    # if string is empty \n",
    "    if len(s) == 0 :\n",
    "        print(\"String is empty\")\n",
    "    OpenClose ={\"}\":\"{\",\"]\":\"[\",\")\":\"(\"}\n",
    "    stack =[]\n",
    "    "
   ]
  },
  {
   "cell_type": "code",
   "execution_count": null,
   "metadata": {},
   "outputs": [
    {
     "data": {
      "text/plain": [
       "'['"
      ]
     },
     "execution_count": 14,
     "metadata": {},
     "output_type": "execute_result"
    }
   ],
   "source": [
    "OpenClose ={\"}\":\"{\",\"]\":\"[\",\")\":\"(\"}\n",
    "OpenClose[\"]\"]\n"
   ]
  },
  {
   "cell_type": "code",
   "execution_count": null,
   "metadata": {},
   "outputs": [],
   "source": [
    "# Approach to traverse entire string \n",
    "# check every condition if it is match or not\n",
    "# def function isValid with string arugument \n",
    "def isValid(s) -> bool:\n",
    "    stack = []\n",
    "    closeToOpen = {')': '(', ']': '[', '}': '{'}\n",
    "\n",
    "    for c in s:\n",
    "      if c in closeToOpen.keys():\n",
    "        if not stack or stack.pop() != closeToOpen[c]:\n",
    "          return False\n",
    "      else:\n",
    "        stack.append(c)\n",
    "  \n",
    "    return True if not stack else False"
   ]
  },
  {
   "cell_type": "code",
   "execution_count": null,
   "metadata": {},
   "outputs": [
    {
     "data": {
      "text/plain": [
       "True"
      ]
     },
     "execution_count": 37,
     "metadata": {},
     "output_type": "execute_result"
    }
   ],
   "source": [
    "isValid(\"{([])}\")"
   ]
  },
  {
   "cell_type": "code",
   "execution_count": 1,
   "metadata": {},
   "outputs": [],
   "source": [
    "# Find the first occurance of word in string"
   ]
  },
  {
   "cell_type": "code",
   "execution_count": 43,
   "metadata": {},
   "outputs": [
    {
     "data": {
      "text/plain": [
       "2"
      ]
     },
     "execution_count": 43,
     "metadata": {},
     "output_type": "execute_result"
    }
   ],
   "source": [
    "# Approach used Traverse all the string and check\n",
    "# def function with main string and its finding string\n",
    "def FirstOccurance(haystack ,needle):\n",
    "    # find the length of both string\n",
    "    m =len(haystack)\n",
    "    n =len(needle)\n",
    "    # Traverse string and check\n",
    "    for i in range(m-n +1):\n",
    "        if(haystack[i:i+n]) == needle :\n",
    "            return i\n",
    "    \n",
    "    return -1\n",
    "\n",
    "\n",
    "FirstOccurance(\"hello\" ,\"ll\")"
   ]
  },
  {
   "cell_type": "markdown",
   "metadata": {},
   "source": [
    "##### Search Insert Position\n",
    "\n",
    "Given a sorted array of distinct integers and a target value, return the index if the target is found. If not, return the index where it would be if it were inserted in order.\n",
    "\n",
    "You must write an algorithm with O(log n) runtime complexity.\n",
    "\n",
    "Example 1:\n",
    "\n",
    "Input: nums = [1,3,5,6], target = 5\n",
    "Output: 2\n",
    "Example 2:\n",
    "\n",
    "Input: nums = [1,3,5,6], target = 2\n",
    "Output: 1\n",
    "Example 3:\n",
    "\n",
    "Input: nums = [1,3,5,6], target = 7\n",
    "Output: 4\n",
    "\n",
    "Constraints:\n",
    "\n",
    "1 <= nums.length <= 104\n",
    "-104 <= nums[i] <= 104\n",
    "nums contains distinct values sorted in ascending order.\n",
    "-104 <= target <= 104"
   ]
  },
  {
   "cell_type": "code",
   "execution_count": 27,
   "metadata": {},
   "outputs": [],
   "source": [
    "# Approach to used Binary Search approach \n",
    "# Traverse Entire array find the target element or its insert index pos.\n",
    "def searchInsert(arr ,target):\n",
    "    # pointer Defination\n",
    "    left = 0\n",
    "    right =len(arr)-1\n",
    "    # Corner case\n",
    "    if(len(arr) == 0):\n",
    "        return\n",
    "    if(target > arr[-1]):\n",
    "        return len(arr)-1+1 \n",
    "    if(arr[0] > target):\n",
    "        return 0\n",
    "    \n",
    "    # Traverse Through the loop\n",
    "    while(left <= right):\n",
    "        # Find the mid point of array\n",
    "        mid =int(left +(right-left)/2)\n",
    "        if(arr[mid] == target):\n",
    "            return mid\n",
    "        # Check condition where we got inserted position\n",
    "        elif(arr[mid]>target):\n",
    "            if(arr[mid]>target) and(arr[mid-1]< target) :\n",
    "                return mid\n",
    "            right =mid -1\n",
    "        # Check condition where we got inserted position\n",
    "        elif(arr[mid]< target):\n",
    "            if(arr[mid]<target) and(arr[mid+1]> target) :\n",
    "                return mid +1\n",
    "            left =mid+1 \n",
    "    return -1\n",
    "    "
   ]
  },
  {
   "cell_type": "code",
   "execution_count": 6,
   "metadata": {},
   "outputs": [],
   "source": [
    "searchInsert([1,3,5],5)"
   ]
  },
  {
   "cell_type": "code",
   "execution_count": 10,
   "metadata": {},
   "outputs": [],
   "source": [
    "def searchInsert(arr ,target):\n",
    "    i =0\n",
    "    while(i< len(arr) and target >=arr[i]):\n",
    "        if(arr[i] == target):\n",
    "            return i\n",
    "        i+=1\n",
    "    return i\n"
   ]
  },
  {
   "cell_type": "code",
   "execution_count": 14,
   "metadata": {},
   "outputs": [
    {
     "data": {
      "text/plain": [
       "4"
      ]
     },
     "execution_count": 14,
     "metadata": {},
     "output_type": "execute_result"
    }
   ],
   "source": [
    "searchInsert([1,3,5,6],7)"
   ]
  },
  {
   "cell_type": "code",
   "execution_count": 1,
   "metadata": {},
   "outputs": [],
   "source": [
    "class Node :\n",
    "    def __init__(self,data = None,Next =None) -> None:\n",
    "        self.data =data\n",
    "        self.Next =Next\n",
    "\n",
    "    def setData(self,data):\n",
    "        self.data =data\n",
    "\n",
    "    def getData(self):\n",
    "        return self.data\n",
    "    \n",
    "    def setNext(self,Next):\n",
    "        self.Next =Next\n",
    "\n",
    "    def getNext(self):\n",
    "        return self.Next"
   ]
  },
  {
   "cell_type": "code",
   "execution_count": 2,
   "metadata": {},
   "outputs": [],
   "source": [
    "def traverse(head):\n",
    "    temp =head\n",
    "    while(temp !=None):\n",
    "        print(temp.getData(),end=\"==>\")\n",
    "        temp =temp.getNext()"
   ]
  },
  {
   "cell_type": "code",
   "execution_count": 3,
   "metadata": {},
   "outputs": [
    {
     "name": "stdout",
     "output_type": "stream",
     "text": [
      "1==>2==>3==>4==>8==>6==>9==>"
     ]
    }
   ],
   "source": [
    "head = Node(1)\n",
    "node2 =Node(2)\n",
    "node3 =Node(3)\n",
    "node4 =Node(4)\n",
    "node8 =Node(8)\n",
    "node6 =Node(6)\n",
    "node9 =Node(9)\n",
    "\n",
    "head.setNext(node2)\n",
    "node2.setNext(node3)\n",
    "node3.setNext(node4)\n",
    "node4.setNext(node8)\n",
    "node8.setNext(node6)\n",
    "node6.setNext(node9)\n",
    "\n",
    "traverse(head)"
   ]
  },
  {
   "cell_type": "code",
   "execution_count": 10,
   "metadata": {},
   "outputs": [],
   "source": [
    "def rotate(head,k):\n",
    "    temp=head\n",
    "    i = 1\n",
    "    \n",
    "    while(i < k):\n",
    "        next_node =temp.getNext().getNext()\n",
    "        temp =temp.getNext()\n",
    "        i +=1\n",
    "        \n",
    "    return next_node.getData()\n",
    "        "
   ]
  },
  {
   "cell_type": "code",
   "execution_count": 1,
   "metadata": {},
   "outputs": [],
   "source": [
    "import numpy as np\n",
    "import pandas as pd\n",
    "import matplotlib.pyplot as plt\n",
    "import seaborn as sns"
   ]
  },
  {
   "cell_type": "markdown",
   "metadata": {},
   "source": [
    "### Normal distrubution and Guassion distrubution"
   ]
  },
  {
   "cell_type": "code",
   "execution_count": 4,
   "metadata": {},
   "outputs": [
    {
     "data": {
      "text/plain": [
       "array([-5.62515517e-02,  4.60667761e-02, -1.84648247e-01,  6.34939221e-02,\n",
       "        4.99500355e-02, -7.21411860e-02,  1.66231971e-02,  1.92090079e-02,\n",
       "        3.51185960e-02, -1.66322215e-01, -3.23939753e-02, -8.19753284e-02,\n",
       "       -4.29913950e-02,  9.81572346e-02, -4.32787384e-02,  1.39721177e-01,\n",
       "       -7.53047368e-02,  8.74972472e-02,  7.35398913e-02,  9.93557029e-02,\n",
       "       -8.30120423e-02, -1.05281317e-01,  1.43342741e-01, -2.23874533e-01,\n",
       "        7.83649646e-03, -9.36649665e-02,  2.26609708e-02, -9.10350876e-02,\n",
       "        2.27823618e-01, -6.52158728e-02,  5.05235045e-02, -7.94569679e-02,\n",
       "       -2.45104698e-01, -8.58391385e-04, -2.11556640e-02, -9.74943446e-02,\n",
       "       -5.69595788e-02,  7.07199392e-03,  6.16793719e-02,  9.85909670e-02,\n",
       "        6.25457800e-04, -7.01584803e-02,  8.52267966e-04,  4.23804813e-02,\n",
       "        8.66954049e-02,  4.70981536e-02, -1.50924842e-01, -1.86572793e-01,\n",
       "       -5.78920868e-02,  1.25894274e-01, -7.67787902e-02, -1.03618114e-01,\n",
       "        5.08452106e-02, -1.69182719e-01, -9.54519827e-02,  1.63308789e-01,\n",
       "       -8.90208067e-02, -1.97420922e-01, -1.18181310e-01, -1.18996891e-01,\n",
       "        3.90346993e-02, -4.19479201e-02,  6.34031460e-02, -1.88407091e-02,\n",
       "        2.40927771e-03, -2.15213443e-01, -4.24576302e-03, -9.12824142e-02,\n",
       "       -2.52519722e-01,  7.75976294e-03,  5.58009852e-02,  1.27925346e-03,\n",
       "        5.37586517e-02,  1.19443577e-01, -5.15981332e-02,  5.14171631e-02,\n",
       "        7.71516594e-02,  5.24946283e-02,  1.10565277e-01, -3.63793771e-03,\n",
       "        4.20160034e-02,  1.33720884e-01,  4.66216467e-02, -1.06206233e-01,\n",
       "        1.23407148e-01, -1.37054967e-01,  4.80481672e-02,  1.16362181e-01,\n",
       "        1.23047353e-01,  1.72967973e-01,  8.75894887e-02,  5.40374111e-02,\n",
       "       -7.90959022e-02, -6.92426644e-02,  1.15359921e-01,  2.02499726e-01,\n",
       "       -1.25897842e-01, -2.63964001e-02,  1.08892632e-02, -2.96239230e-02,\n",
       "       -8.99948764e-02, -7.67350303e-02, -7.83516079e-02, -5.97560531e-02,\n",
       "       -1.34078632e-01, -1.98605944e-01,  4.34680288e-03, -4.30194900e-02,\n",
       "       -1.37415306e-01, -4.48345088e-02, -1.50609139e-02, -5.20106528e-02,\n",
       "       -1.43042718e-01,  2.10336161e-04,  2.08289553e-01,  2.83818025e-02,\n",
       "       -3.27595554e-03,  8.06874449e-03,  2.75691581e-02,  4.09473177e-02,\n",
       "       -3.00545801e-02, -3.57985367e-02, -1.13828778e-01,  4.68658675e-03,\n",
       "       -4.74708808e-02, -7.55565196e-02, -6.32859526e-02,  9.70743193e-02,\n",
       "        4.04730625e-02,  8.54644416e-02,  5.01279986e-02,  1.11437448e-01,\n",
       "        2.06427758e-01,  1.08276705e-01,  1.46678201e-01, -1.45594611e-01,\n",
       "        1.15783598e-01, -1.62883712e-01, -2.18993244e-01, -9.71799618e-03,\n",
       "        5.12202209e-02, -5.22467422e-02, -1.40635895e-01,  9.34042169e-02,\n",
       "       -1.12286402e-02, -1.29910822e-01, -4.75574547e-02, -3.99924418e-02,\n",
       "        6.20158634e-02, -4.71311303e-02,  9.17971803e-03, -6.58341676e-02,\n",
       "        1.96613491e-01, -9.04512229e-02, -3.12153305e-02, -1.85409949e-01,\n",
       "        2.19389509e-01, -1.86377271e-02,  7.87219147e-02,  6.76819979e-02,\n",
       "       -4.71048280e-02,  4.35355891e-02,  8.87097876e-03, -4.98098889e-03,\n",
       "        2.15810935e-01,  3.64252946e-02,  1.07066609e-01, -1.94463879e-02,\n",
       "       -1.04039232e-01, -7.93225350e-04,  1.65635869e-01,  1.46224419e-01,\n",
       "       -1.72523109e-01,  4.74488247e-02,  7.76355429e-02, -2.53630133e-02,\n",
       "        1.00207498e-01,  1.93013891e-01,  1.08882248e-02,  1.55221452e-01,\n",
       "        1.17922523e-01, -4.29988347e-02, -7.34743321e-02,  2.30118781e-01,\n",
       "        3.80680701e-02,  1.79599118e-02,  2.80488917e-02,  3.08069096e-02,\n",
       "       -1.81736016e-01,  1.66473350e-01, -6.92357753e-02,  4.90410148e-02,\n",
       "       -5.79800172e-03,  2.86932852e-02,  2.85393693e-02, -5.30733054e-02,\n",
       "        3.89200840e-02,  2.17894307e-01,  3.02487647e-02, -1.06565637e-02,\n",
       "        3.67523230e-02,  6.62481080e-02, -8.63058320e-02, -1.13950230e-01,\n",
       "       -5.50858145e-02, -2.27357872e-01,  1.67596831e-01,  4.03538521e-02,\n",
       "        4.07813396e-02,  1.05832738e-02,  1.18548887e-01, -6.19436008e-02,\n",
       "        7.58542372e-02, -1.33178050e-01, -1.39488710e-02,  5.04788771e-02,\n",
       "        1.40640653e-01, -2.73732349e-02,  1.49210056e-01,  4.80360317e-02,\n",
       "        1.03749020e-01,  7.89083302e-02, -8.76366136e-03,  4.16743855e-02,\n",
       "       -8.74908177e-03, -2.96186516e-02,  3.46463070e-02, -3.46868819e-02,\n",
       "       -3.86852138e-02, -1.83324973e-02,  4.07303140e-02,  3.92519035e-02,\n",
       "        1.26908679e-01, -7.30191754e-03,  9.41421290e-02, -1.34437805e-01,\n",
       "       -9.80379400e-04,  1.64732453e-02, -7.81417309e-02,  3.44344455e-02,\n",
       "       -1.21598187e-02,  3.01480603e-03, -2.69414506e-02, -4.81244445e-02,\n",
       "        6.72097062e-03, -5.38540409e-03,  6.10799635e-02, -6.43693486e-02,\n",
       "       -4.30626556e-04, -1.96485815e-01, -3.85358250e-02, -2.25244012e-02,\n",
       "       -2.25235386e-01, -6.37804278e-02, -1.73794805e-01,  4.50336759e-02,\n",
       "        1.72961980e-02,  2.72104842e-01, -6.31198961e-02, -3.21507128e-02,\n",
       "        1.06037340e-01,  9.73005320e-02,  1.26232744e-01, -9.79870874e-02,\n",
       "       -1.18269985e-01, -1.96872800e-02,  6.96136147e-02, -1.38970654e-01,\n",
       "       -1.38699596e-02,  4.77643538e-03, -1.01111088e-02, -3.73521226e-02,\n",
       "       -2.34194827e-02,  4.48654052e-02,  8.40871643e-03,  1.39425783e-01,\n",
       "        8.09266012e-02,  1.80784732e-02,  6.00376338e-03,  2.28362135e-02,\n",
       "        1.40073122e-01, -1.66641392e-02,  1.15345816e-01,  1.04181025e-02,\n",
       "        8.71766752e-02,  9.90907097e-02,  2.73064491e-02,  6.06197176e-02,\n",
       "       -8.88701344e-02,  1.47318391e-02, -8.08465067e-02,  1.25056391e-01,\n",
       "       -3.82933374e-02, -1.18029557e-01,  3.18537459e-02,  1.88033826e-02,\n",
       "        8.94432650e-02, -9.76068307e-02, -2.21158459e-01, -5.72435203e-02,\n",
       "        3.34221042e-02, -6.27174444e-02,  5.97342850e-02, -3.89079449e-02,\n",
       "        5.52219444e-02,  1.30236434e-01,  3.51193555e-02, -1.63828472e-02,\n",
       "       -2.69429170e-02,  3.39955929e-02, -3.15525947e-02, -2.19457443e-03,\n",
       "        1.30739525e-01, -1.34583839e-01, -1.43952789e-01, -8.44013411e-02,\n",
       "       -1.92115272e-02, -1.12553535e-01, -7.12094516e-02, -4.20363247e-02,\n",
       "       -1.66059927e-01,  3.82681447e-02, -3.65573908e-03,  6.03307718e-03,\n",
       "        1.77768571e-02,  2.81927354e-02,  9.06071834e-02,  4.49948099e-02,\n",
       "       -5.96332343e-03, -2.34379592e-02, -6.23969647e-02,  5.07559691e-02,\n",
       "       -7.15062823e-03,  1.16434816e-01,  2.68694128e-01, -5.72957317e-02,\n",
       "        6.90933837e-02,  2.97256042e-02,  3.05286066e-02,  3.96603287e-02,\n",
       "       -3.99711577e-02, -3.20320111e-02,  6.04383463e-02, -2.50999521e-01,\n",
       "       -1.05897732e-02,  1.24277588e-01, -1.05492484e-01,  3.54011163e-02,\n",
       "       -8.13832817e-02,  1.13127479e-01,  6.48310524e-02, -8.75693901e-02,\n",
       "       -4.44031017e-02, -7.02974462e-03,  4.75594276e-02,  9.96448560e-02,\n",
       "        8.09263199e-02, -6.96398059e-02, -8.67541462e-02, -2.49261912e-02,\n",
       "        4.83848237e-02,  1.01174780e-01,  1.53324523e-01,  1.31987751e-01,\n",
       "       -8.25866866e-02, -1.82189009e-01,  1.35081001e-01,  4.66058049e-02,\n",
       "       -4.42609057e-02,  2.53273414e-02, -5.13352396e-02, -1.08598433e-01,\n",
       "       -2.98545329e-02, -8.76031581e-03, -6.13721695e-02, -3.92188027e-02,\n",
       "       -2.14632907e-01, -1.06546992e-03,  2.76798095e-01,  1.29070797e-02,\n",
       "       -4.68516316e-03, -3.38203167e-02,  2.59072387e-02,  5.68087487e-02,\n",
       "        2.06546117e-02,  1.22537492e-01, -5.81515872e-02,  4.30085260e-02,\n",
       "        5.08416492e-02,  9.84968251e-02,  1.53663578e-01, -1.83977293e-01,\n",
       "       -9.42587712e-03, -7.05913028e-02,  1.19991410e-01,  2.34369633e-02,\n",
       "        2.17357514e-01,  9.96491432e-02,  2.44398038e-02, -1.51578172e-01,\n",
       "        1.54491006e-01, -7.50814332e-03,  5.37659123e-03,  6.12402357e-02,\n",
       "       -2.67100096e-01, -4.67858580e-03,  4.63239365e-02, -5.56362528e-02,\n",
       "       -5.54396312e-02,  5.05643727e-02, -9.65253662e-02, -5.17716121e-02,\n",
       "        3.23657003e-02, -1.83519153e-02,  8.69421076e-02, -1.27024930e-02,\n",
       "       -7.03251284e-02,  1.27101348e-01,  3.74466145e-02, -8.99022415e-02,\n",
       "        1.42131019e-01,  9.40140102e-02,  2.04516476e-02,  3.93342539e-02,\n",
       "        3.75859110e-02, -6.86570086e-02,  1.00020012e-01, -2.18517958e-02,\n",
       "        7.63687585e-02,  1.02269603e-01, -7.09382818e-02,  5.34470133e-02,\n",
       "        1.39148622e-01, -1.27178692e-01,  9.55486702e-02, -6.66140681e-02,\n",
       "       -1.74866766e-01,  8.18693277e-03, -1.67383948e-01, -7.62415266e-02,\n",
       "       -6.23576888e-02,  8.76653186e-02,  6.51853965e-03,  5.64156670e-02,\n",
       "       -8.99455751e-03, -8.55366636e-02, -8.43076063e-03, -1.03252169e-01,\n",
       "        5.40420613e-02,  7.87232955e-02,  2.01955564e-02, -9.03851195e-02,\n",
       "       -3.39010697e-02,  5.18744451e-02,  9.20179922e-02, -5.00628622e-02,\n",
       "        9.61001744e-02, -5.11454300e-02,  9.81354595e-02, -1.51367248e-01,\n",
       "        1.18888213e-02,  1.24563709e-01, -5.29869917e-02,  7.45153777e-02,\n",
       "       -9.40830164e-02,  4.50205453e-02, -8.72969667e-02,  1.83465203e-02,\n",
       "       -1.45608966e-02,  1.23342056e-01,  1.24750302e-01,  1.00675190e-01,\n",
       "       -1.26391192e-02,  5.21816309e-02, -5.73309493e-02,  1.28876454e-04,\n",
       "       -4.15461377e-03, -9.58319686e-02,  8.73782334e-02,  2.63299607e-02,\n",
       "        1.64457275e-01, -1.43593069e-02,  1.25824574e-01, -9.45311428e-02,\n",
       "        8.64721326e-02,  1.46197855e-01,  9.22500078e-02, -1.28699853e-02,\n",
       "        9.87820056e-02,  9.32118886e-02,  1.12161806e-01,  6.61903456e-02,\n",
       "       -1.67669013e-01, -2.03287437e-01,  1.30953924e-01,  1.60349462e-01,\n",
       "        1.06141775e-01, -3.25854707e-02,  9.50597665e-02, -2.25335515e-02,\n",
       "        1.42876651e-02,  6.15991205e-02, -1.33465266e-01, -1.83841992e-01,\n",
       "       -6.21220016e-02, -2.02955114e-01, -9.79586390e-03, -2.43954811e-03,\n",
       "        4.84424996e-02,  8.94427132e-03,  5.50624591e-02, -9.73082382e-02,\n",
       "       -1.83946687e-01,  5.90375784e-02, -1.39542685e-01,  2.42376174e-04,\n",
       "       -1.54480152e-01, -3.65724619e-02,  1.18772605e-01,  3.64685995e-02,\n",
       "       -7.08445516e-02,  4.14939614e-02,  2.88668852e-02,  1.03701433e-01,\n",
       "        4.75330461e-03, -6.60259943e-02,  2.69495851e-01, -4.66990472e-02,\n",
       "       -2.97172202e-01,  1.22351652e-01, -2.94383992e-02,  3.21340982e-01,\n",
       "       -4.89844978e-02,  1.98067184e-02,  1.08711165e-01,  4.04849759e-02,\n",
       "        1.19158690e-02,  9.81171798e-02, -1.24633283e-01,  3.74990427e-02,\n",
       "       -1.68358074e-01, -2.88517729e-02, -2.09541026e-01,  1.42791435e-01,\n",
       "        1.07468888e-01, -3.69496609e-02,  6.61279535e-02, -7.65413747e-02,\n",
       "        2.59214808e-01,  4.99366188e-02,  1.58961987e-02, -6.94142307e-02,\n",
       "       -9.81225055e-02, -3.97380122e-03,  1.58917411e-01,  3.43821837e-04,\n",
       "        6.25583047e-02, -5.91107552e-04, -1.02170910e-01,  5.50416725e-02,\n",
       "       -6.53137081e-03, -1.43323713e-01,  7.26417796e-03, -2.94428963e-01,\n",
       "       -6.11664996e-02, -2.11815080e-02,  1.40724759e-02, -4.61481235e-02,\n",
       "        3.36239907e-02, -6.55100276e-02,  4.63190674e-02, -4.02436615e-02,\n",
       "        3.80627975e-02,  4.67329596e-03,  3.10390336e-03,  3.91649933e-02,\n",
       "        3.94611667e-02, -4.55411505e-02, -5.55397296e-02, -1.66598710e-01,\n",
       "       -2.88141867e-02,  1.19671670e-01,  2.40299973e-02, -3.97921587e-02,\n",
       "       -2.91263844e-02, -1.84530730e-01, -1.77261514e-01,  7.97661309e-03,\n",
       "        6.39996493e-02,  3.82331654e-02,  7.44473963e-02,  1.33205578e-01,\n",
       "        3.71287207e-03, -1.66690768e-01, -9.05019512e-02,  8.83430178e-02,\n",
       "       -7.09603574e-02, -4.53714419e-02, -1.30693299e-01, -2.17902732e-02,\n",
       "       -2.21360063e-03,  1.62878655e-01, -7.97825097e-02,  6.16646597e-03,\n",
       "       -1.48110505e-01, -1.81828154e-01,  6.03147228e-02, -9.51640770e-02,\n",
       "       -3.34318021e-02,  6.75346914e-02, -1.66111024e-01,  8.14256108e-02,\n",
       "        4.75414806e-02, -1.01102700e-01,  3.50576573e-02,  2.18630026e-02,\n",
       "        7.68797408e-02, -2.14570728e-02,  6.54963543e-02, -1.02494530e-01,\n",
       "       -3.42468882e-02,  1.13685135e-01,  9.65177449e-02, -3.42160088e-02,\n",
       "       -5.90808781e-04,  5.42554610e-02,  2.85287369e-02,  7.09065868e-02,\n",
       "       -1.94089218e-01,  3.00751677e-02, -8.37484175e-02, -1.74314379e-02,\n",
       "       -7.58794127e-02, -3.21431014e-02, -1.52552431e-01,  7.47184335e-02,\n",
       "        6.83538256e-02, -1.11429235e-01,  2.28549378e-01, -5.77964337e-02,\n",
       "       -1.21125528e-01,  4.19133626e-02,  1.43003108e-02, -7.24418813e-02,\n",
       "       -3.91335228e-02,  8.17210563e-02, -5.81012861e-02,  6.22654952e-02,\n",
       "        9.80126599e-02, -8.79943105e-02, -3.80131119e-02, -5.27921328e-02,\n",
       "       -7.06429676e-02, -2.98958575e-02,  3.51236151e-02,  7.43240948e-02,\n",
       "        5.04953042e-02, -2.09392218e-01,  7.46678570e-02,  7.40582504e-02,\n",
       "       -8.74263482e-02, -2.10593265e-01, -6.57658768e-02,  1.44772924e-01,\n",
       "       -1.81366428e-02,  8.48992587e-02,  2.56508141e-03, -2.26104980e-02,\n",
       "       -3.69853312e-02, -9.99004462e-02, -3.13390016e-02,  6.44036637e-02,\n",
       "        8.15361488e-02, -2.48600009e-03, -4.49387446e-02, -3.24498030e-02,\n",
       "        2.76735693e-02, -1.45594730e-01, -6.31580453e-02, -5.65053178e-02,\n",
       "        1.03230979e-01, -6.64369131e-03,  2.30741367e-02,  1.67146006e-01,\n",
       "        3.07023853e-03,  3.66389211e-02,  1.48505994e-01,  2.35023035e-01,\n",
       "        1.16728837e-01,  2.39078031e-01, -6.49022301e-03,  1.23594383e-02,\n",
       "        9.91089957e-02,  1.42082019e-01,  1.06110345e-01, -1.10019381e-02,\n",
       "        1.48559990e-01, -2.51078463e-01, -1.21415200e-01, -8.74474242e-02,\n",
       "        5.63801142e-02,  1.21573452e-01,  8.72065142e-02,  4.19240341e-02,\n",
       "        1.64428494e-02,  8.26696936e-03, -1.59753019e-01, -4.18185305e-02,\n",
       "        1.74449341e-01,  6.11317660e-02, -3.78049017e-02, -8.16289651e-02,\n",
       "        1.01335067e-01, -8.34798561e-02, -6.63433264e-03, -1.12382299e-01,\n",
       "        5.44849375e-02, -8.97237951e-02,  2.18730779e-02,  1.18957967e-02,\n",
       "        1.56769290e-01,  4.36988269e-02,  9.60902422e-02,  3.63006307e-02,\n",
       "        1.81681544e-02, -1.28750505e-01,  5.85562695e-02, -4.96372430e-02,\n",
       "        2.65101349e-02, -1.18754037e-01,  1.69466112e-01, -4.50712093e-03,\n",
       "       -2.50475030e-01, -5.45380567e-03,  6.38045649e-02, -1.32036956e-01,\n",
       "        1.60727513e-01,  7.28958433e-02, -5.04376144e-02,  3.95216679e-02,\n",
       "       -3.19082683e-02,  2.73580306e-03,  1.24338775e-01, -2.30332104e-02,\n",
       "        8.95363178e-02,  1.17458351e-01,  5.34674565e-02, -9.74436998e-02,\n",
       "       -1.11722726e-01, -2.84731432e-03,  8.37872525e-02,  1.89934824e-02,\n",
       "        7.03606450e-02, -5.43985759e-02,  9.87113947e-02, -1.23509531e-03,\n",
       "        1.71775372e-01,  2.71370985e-02,  1.15189250e-01,  1.59059982e-01,\n",
       "       -1.50530219e-01, -1.45786531e-01,  9.69263088e-02,  1.37802600e-01,\n",
       "       -9.36748670e-02,  2.49826905e-02,  2.78524975e-03, -4.98652286e-02,\n",
       "       -5.05313828e-02, -1.09507251e-02, -1.61496942e-01,  5.74392942e-03,\n",
       "        9.21048261e-02,  9.02387233e-02, -7.91825937e-03, -2.62902542e-02,\n",
       "        9.27771979e-04,  2.69026882e-02, -9.32795218e-02,  9.16065171e-02,\n",
       "       -2.54109281e-02, -7.65186857e-02, -3.42028876e-02, -1.36374258e-01,\n",
       "       -8.35462261e-02,  1.11431357e-01,  9.51924143e-02, -1.17021714e-01,\n",
       "       -1.06289296e-01,  1.58284714e-01, -1.47064493e-01,  1.45596300e-01,\n",
       "        6.27651561e-02,  3.16980361e-03, -8.74330334e-02, -1.55539639e-01,\n",
       "        1.25151853e-01,  2.15538000e-02,  9.57015694e-02,  7.23007121e-02,\n",
       "       -1.87214433e-02, -1.25878848e-01,  2.80784168e-02,  4.97778808e-03,\n",
       "       -6.40904588e-02, -1.81121963e-02,  1.09334193e-01,  1.27135212e-02,\n",
       "       -1.80886093e-01, -1.51952645e-01, -6.75452895e-02,  1.47579666e-01,\n",
       "       -3.12507804e-01,  2.75227426e-02,  3.07798016e-03, -8.03692291e-03,\n",
       "        7.72240097e-02,  4.69165835e-02,  6.05382988e-02, -2.39279862e-02,\n",
       "       -2.17336342e-01, -5.48812254e-02, -3.04368784e-02, -3.33392978e-03,\n",
       "       -4.42709857e-02,  6.97130108e-02,  9.61450447e-03, -5.62973315e-03,\n",
       "       -2.41032675e-02, -9.68226292e-02, -6.49767493e-02,  3.07495912e-02,\n",
       "        1.99447039e-02, -8.57681445e-02,  5.24689929e-03,  8.18410966e-02,\n",
       "        1.17101110e-03, -2.31893496e-01, -1.62168146e-01,  1.52666464e-01,\n",
       "       -9.61957510e-02, -8.02131141e-02,  3.01150692e-02,  7.93785206e-02,\n",
       "        1.17647097e-01,  2.47125020e-01, -3.37451495e-02,  2.50226230e-01,\n",
       "        5.52164682e-02,  3.70777010e-02, -2.32769065e-01, -2.24032184e-01,\n",
       "       -1.11373911e-01, -4.74050450e-02,  1.00074097e-02,  1.22744220e-01,\n",
       "       -9.99953367e-02, -1.64091531e-01,  2.15891607e-02,  7.09141893e-02,\n",
       "       -5.29442804e-02, -1.98658804e-01,  9.74938873e-02,  4.34875844e-02,\n",
       "        1.24469023e-01, -1.33955995e-01, -1.99480222e-02,  2.58160343e-02,\n",
       "       -2.22763327e-01,  7.80077198e-02,  5.40210637e-02, -1.22748754e-01,\n",
       "        3.74600509e-02, -4.29815166e-02,  4.39207885e-02,  4.77322049e-02,\n",
       "        8.67178086e-02,  9.54559728e-02, -1.38680707e-01, -4.11289169e-02,\n",
       "        5.42915050e-02,  1.43164044e-01,  1.04782539e-02, -8.58849240e-02,\n",
       "        1.01267765e-01, -7.07986482e-02, -3.94522055e-03, -5.08913300e-02,\n",
       "        7.04413867e-02,  1.59266210e-01, -1.51512929e-02, -1.28670047e-01,\n",
       "        3.76511545e-02,  4.41376843e-02, -7.14506622e-02, -4.20553192e-03,\n",
       "       -5.90268993e-02,  1.80708087e-02,  6.31830846e-02,  1.94301208e-01,\n",
       "        1.00728257e-01,  7.74484951e-02,  2.38707209e-02,  5.20205319e-02,\n",
       "        1.10902783e-02, -1.22323965e-01,  6.25503884e-02,  1.47403672e-01,\n",
       "       -1.09141269e-01, -8.37921451e-02,  9.47135452e-02,  4.30198900e-02,\n",
       "        1.11750498e-01,  1.12956011e-01, -3.01213511e-02, -1.23894377e-01,\n",
       "        9.96535786e-02, -1.08232193e-02,  6.33413017e-03, -1.23275773e-02,\n",
       "        6.03567109e-02, -5.34183237e-02,  3.02008784e-01, -8.16223789e-03,\n",
       "        1.15824198e-01,  9.44013561e-02,  6.54700668e-02, -6.46822992e-02,\n",
       "        6.29397873e-02,  4.45314595e-02, -1.09714973e-01,  1.17806144e-02,\n",
       "        4.50615831e-03,  5.57635765e-02, -3.02559924e-03, -7.68774069e-02,\n",
       "       -6.49385112e-02, -3.48736506e-01,  6.22091880e-02,  9.81893875e-02,\n",
       "       -4.13078415e-02, -1.53143160e-01,  1.52992303e-02, -4.67213070e-02,\n",
       "       -6.12820579e-02,  1.24715297e-01,  1.18467866e-01,  2.91553966e-02,\n",
       "       -2.13309243e-01,  7.15157927e-02, -5.33476040e-02, -1.15741762e-01,\n",
       "        7.60624748e-02, -1.16882480e-01, -2.49697062e-02,  1.64599901e-01,\n",
       "        1.47778877e-02, -1.60961292e-01,  2.10879465e-02, -1.11994775e-02,\n",
       "       -5.23644852e-02, -1.30380235e-02, -8.40206954e-02, -2.34719715e-04,\n",
       "       -8.42995529e-02, -1.19603265e-01, -3.07572365e-02, -1.24333587e-01,\n",
       "       -7.52131218e-03,  8.51287670e-02, -5.89165427e-02, -1.10265677e-01,\n",
       "       -9.49634077e-02,  3.34004826e-03,  2.61024252e-02,  5.70510902e-02,\n",
       "       -4.77065506e-02, -8.79295194e-02, -1.15475060e-01,  7.46329412e-02,\n",
       "       -7.14656400e-02, -1.04077446e-02, -3.79065532e-02,  5.11975887e-02,\n",
       "        7.82962186e-02,  2.25081156e-02, -1.58490823e-01,  5.48550858e-02,\n",
       "       -8.01838983e-02, -1.36303213e-01, -1.23785915e-01, -1.57646065e-01,\n",
       "       -1.49931244e-01,  1.77027875e-01,  2.57344607e-01, -9.82916416e-02,\n",
       "        6.23592706e-02, -1.56072477e-01,  1.47761778e-02,  1.13277709e-01])"
      ]
     },
     "execution_count": 4,
     "metadata": {},
     "output_type": "execute_result"
    }
   ],
   "source": [
    "mu ,sigma =0,0.1\n",
    "s=np.random.normal(mu,sigma,size=1000)\n",
    "s"
   ]
  },
  {
   "cell_type": "code",
   "execution_count": 7,
   "metadata": {},
   "outputs": [
    {
     "data": {
      "image/png": "[encoded data removed]",
      "text/plain": [
       "<Figure size 640x480 with 1 Axes>"
      ]
     },
     "metadata": {},
     "output_type": "display_data"
    }
   ],
   "source": [
    "plt.hist(s,density=True)\n",
    "plt.show()"
   ]
  },
  {
   "cell_type": "code",
   "execution_count": 9,
   "metadata": {},
   "outputs": [
    {
     "data": {
      "image/png": "[encoded data removed]",
      "text/plain": [
       "<Figure size 640x480 with 1 Axes>"
      ]
     },
     "metadata": {},
     "output_type": "display_data"
    }
   ],
   "source": [
    "sns.histplot(x=s)\n",
    "plt.show()"
   ]
  },
  {
   "cell_type": "code",
   "execution_count": 11,
   "metadata": {},
   "outputs": [
    {
     "data": {
      "text/plain": [
       "<seaborn.axisgrid.FacetGrid at 0x224f0a6f280>"
      ]
     },
     "execution_count": 11,
     "metadata": {},
     "output_type": "execute_result"
    },
    {
     "data": {
      "image/png": "[encoded data removed]",
      "text/plain": [
       "<Figure size 500x500 with 1 Axes>"
      ]
     },
     "metadata": {},
     "output_type": "display_data"
    }
   ],
   "source": [
    "sns.displot(s,kind=\"kde\",)"
   ]
  },
  {
   "cell_type": "markdown",
   "metadata": {},
   "source": [
    "### Uniform distrubuition"
   ]
  },
  {
   "cell_type": "code",
   "execution_count": 12,
   "metadata": {},
   "outputs": [
    {
     "data": {
      "text/plain": [
       "(array([112., 100., 101., 108., 100.,  98.,  90., 103., 101.,  87.]),\n",
       " array([0.00108014, 0.10080329, 0.20052643, 0.30024957, 0.39997272,\n",
       "        0.49969586, 0.599419  , 0.69914215, 0.79886529, 0.89858843,\n",
       "        0.99831158]),\n",
       " <BarContainer object of 10 artists>)"
      ]
     },
     "execution_count": 12,
     "metadata": {},
     "output_type": "execute_result"
    },
    {
     "data": {
      "image/png": "[encoded data removed]",
      "text/plain": [
       "<Figure size 640x480 with 1 Axes>"
      ]
     },
     "metadata": {},
     "output_type": "display_data"
    }
   ],
   "source": [
    "u =np.random.uniform(1,0,size=1000)\n",
    "plt.hist(u)"
   ]
  },
  {
   "cell_type": "markdown",
   "metadata": {},
   "source": [
    "####  Log normal distrubution"
   ]
  },
  {
   "cell_type": "code",
   "execution_count": 19,
   "metadata": {},
   "outputs": [
    {
     "data": {
      "image/png": "[encoded data removed]",
      "text/plain": [
       "<Figure size 640x480 with 1 Axes>"
      ]
     },
     "metadata": {},
     "output_type": "display_data"
    }
   ],
   "source": [
    "l =np.random.lognormal(mean=0,sigma=0.5,size=1000)\n",
    "l =l[np.where(abs(l)<5)]\n",
    "plt.hist(l,bins=100)\n",
    "plt.show()"
   ]
  },
  {
   "cell_type": "code",
   "execution_count": 20,
   "metadata": {},
   "outputs": [
    {
     "data": {
      "text/plain": [
       "<seaborn.axisgrid.FacetGrid at 0x224f97c20a0>"
      ]
     },
     "execution_count": 20,
     "metadata": {},
     "output_type": "execute_result"
    },
    {
     "data": {
      "image/png": "[encoded data removed]",
      "text/plain": [
       "<Figure size 500x500 with 1 Axes>"
      ]
     },
     "metadata": {},
     "output_type": "display_data"
    }
   ],
   "source": [
    "sns.displot(l,kind=\"kde\")"
   ]
  },
  {
   "cell_type": "markdown",
   "metadata": {},
   "source": [
    "Converted log normal to normal distrubutions"
   ]
  },
  {
   "cell_type": "code",
   "execution_count": 21,
   "metadata": {},
   "outputs": [
    {
     "data": {
      "text/plain": [
       "<seaborn.axisgrid.FacetGrid at 0x224f96af670>"
      ]
     },
     "execution_count": 21,
     "metadata": {},
     "output_type": "execute_result"
    },
    {
     "data": {
      "image/png": "[encoded data removed]",
      "text/plain": [
       "<Figure size 500x500 with 1 Axes>"
      ]
     },
     "metadata": {},
     "output_type": "display_data"
    }
   ],
   "source": [
    "sns.displot(np.log(l))"
   ]
  },
  {
   "cell_type": "markdown",
   "metadata": {},
   "source": [
    " Square transformation"
   ]
  },
  {
   "cell_type": "code",
   "execution_count": 23,
   "metadata": {},
   "outputs": [
    {
     "data": {
      "text/plain": [
       "<seaborn.axisgrid.FacetGrid at 0x224f9972af0>"
      ]
     },
     "execution_count": 23,
     "metadata": {},
     "output_type": "execute_result"
    },
    {
     "data": {
      "image/png": "[encoded data removed]",
      "text/plain": [
       "<Figure size 500x500 with 1 Axes>"
      ]
     },
     "metadata": {},
     "output_type": "display_data"
    }
   ],
   "source": [
    "sns.displot(np.square(l))"
   ]
  },
  {
   "cell_type": "code",
   "execution_count": 24,
   "metadata": {},
   "outputs": [
    {
     "data": {
      "text/plain": [
       "<AxesSubplot:ylabel='Count'>"
      ]
     },
     "execution_count": 24,
     "metadata": {},
     "output_type": "execute_result"
    },
    {
     "data": {
      "image/png": "[encoded data removed]",
      "text/plain": [
       "<Figure size 640x480 with 1 Axes>"
      ]
     },
     "metadata": {},
     "output_type": "display_data"
    }
   ],
   "source": [
    "sns.histplot(np.sqrt(l))"
   ]
  },
  {
   "cell_type": "markdown",
   "metadata": {},
   "source": [
    "Chisquare distrubution"
   ]
  },
  {
   "cell_type": "code",
   "execution_count": 31,
   "metadata": {},
   "outputs": [
    {
     "data": {
      "text/plain": [
       "<AxesSubplot:ylabel='Count'>"
      ]
     },
     "execution_count": 31,
     "metadata": {},
     "output_type": "execute_result"
    },
    {
     "data": {
      "image/png": "[encoded data removed]",
      "text/plain": [
       "<Figure size 640x480 with 1 Axes>"
      ]
     },
     "metadata": {},
     "output_type": "display_data"
    }
   ],
   "source": [
    "c =np.random.chisquare(df=10,size=1000)\n",
    "c =c[np.where(abs(c)<10)]\n",
    "sns.histplot(c,bins=100)"
   ]
  },
  {
   "cell_type": "markdown",
   "metadata": {},
   "source": [
    "T distrubution "
   ]
  },
  {
   "cell_type": "code",
   "execution_count": 33,
   "metadata": {},
   "outputs": [
    {
     "data": {
      "text/plain": [
       "(array([ 1.,  2.,  0.,  1.,  0.,  0.,  1.,  0.,  1.,  2.,  0.,  1.,  1.,\n",
       "         1.,  3.,  2.,  0.,  0.,  2.,  1.,  1.,  2.,  0.,  2.,  1.,  1.,\n",
       "         2.,  4.,  0.,  1.,  6.,  5.,  8.,  3.,  3.,  8.,  6., 17., 13.,\n",
       "        15.,  8., 19., 18., 21., 36., 33., 50., 57., 47., 61., 49., 65.,\n",
       "        43., 40., 34., 30., 30., 15., 13., 13., 12., 15., 10.,  6.,  9.,\n",
       "         5.,  5.,  3.,  8.,  4.,  8.,  3.,  3.,  6.,  3.,  3.,  3.,  5.,\n",
       "         5.,  3.,  3.,  1.,  0.,  0.,  4.,  0.,  2.,  2.,  2.,  0.,  0.,\n",
       "         1.,  1.,  0.,  0.,  1.,  0.,  1.,  2.,  2.]),\n",
       " array([-9.98957251, -9.7911907 , -9.59280889, -9.39442708, -9.19604527,\n",
       "        -8.99766346, -8.79928164, -8.60089983, -8.40251802, -8.20413621,\n",
       "        -8.0057544 , -7.80737259, -7.60899078, -7.41060897, -7.21222716,\n",
       "        -7.01384535, -6.81546354, -6.61708173, -6.41869992, -6.22031811,\n",
       "        -6.0219363 , -5.82355449, -5.62517268, -5.42679087, -5.22840906,\n",
       "        -5.03002725, -4.83164544, -4.63326363, -4.43488181, -4.2365    ,\n",
       "        -4.03811819, -3.83973638, -3.64135457, -3.44297276, -3.24459095,\n",
       "        -3.04620914, -2.84782733, -2.64944552, -2.45106371, -2.2526819 ,\n",
       "        -2.05430009, -1.85591828, -1.65753647, -1.45915466, -1.26077285,\n",
       "        -1.06239104, -0.86400923, -0.66562742, -0.46724561, -0.2688638 ,\n",
       "        -0.07048198,  0.12789983,  0.32628164,  0.52466345,  0.72304526,\n",
       "         0.92142707,  1.11980888,  1.31819069,  1.5165725 ,  1.71495431,\n",
       "         1.91333612,  2.11171793,  2.31009974,  2.50848155,  2.70686336,\n",
       "         2.90524517,  3.10362698,  3.30200879,  3.5003906 ,  3.69877241,\n",
       "         3.89715422,  4.09553603,  4.29391784,  4.49229966,  4.69068147,\n",
       "         4.88906328,  5.08744509,  5.2858269 ,  5.48420871,  5.68259052,\n",
       "         5.88097233,  6.07935414,  6.27773595,  6.47611776,  6.67449957,\n",
       "         6.87288138,  7.07126319,  7.269645  ,  7.46802681,  7.66640862,\n",
       "         7.86479043,  8.06317224,  8.26155405,  8.45993586,  8.65831767,\n",
       "         8.85669949,  9.0550813 ,  9.25346311,  9.45184492,  9.65022673,\n",
       "         9.84860854]),\n",
       " <BarContainer object of 100 artists>)"
      ]
     },
     "execution_count": 33,
     "metadata": {},
     "output_type": "execute_result"
    },
    {
     "data": {
      "image/png": "[encoded data removed]",
      "text/plain": [
       "<Figure size 640x480 with 1 Axes>"
      ]
     },
     "metadata": {},
     "output_type": "display_data"
    }
   ],
   "source": [
    "t =np.random.standard_t(df=1 ,size=1000)\n",
    "t =t[np.where(abs(t)< 10)]\n",
    "plt.hist(t,bins=100)"
   ]
  },
  {
   "cell_type": "markdown",
   "metadata": {},
   "source": [
    "F distrubution "
   ]
  },
  {
   "cell_type": "code",
   "execution_count": 36,
   "metadata": {},
   "outputs": [
    {
     "data": {
      "image/png": "[encoded data removed]",
      "text/plain": [
       "<Figure size 640x480 with 1 Axes>"
      ]
     },
     "metadata": {},
     "output_type": "display_data"
    }
   ],
   "source": [
    "f =np.random.f(dfnum=3,dfden=10,size=100)\n",
    "f =f[np.where(abs(f)<10)]\n",
    "plt.hist(f,bins=100)\n",
    "plt.show()"
   ]
  },
  {
   "cell_type": "code",
   "execution_count": 38,
   "metadata": {},
   "outputs": [
    {
     "data": {
      "text/plain": [
       "<AxesSubplot:ylabel='Count'>"
      ]
     },
     "execution_count": 38,
     "metadata": {},
     "output_type": "execute_result"
    },
    {
     "data": {
      "image/png": "[encoded data removed]",
      "text/plain": [
       "<Figure size 640x480 with 1 Axes>"
      ]
     },
     "metadata": {},
     "output_type": "display_data"
    }
   ],
   "source": [
    "b =np.random.binomial(n=1,p=0.5,size=1000)\n",
    "sns.histplot(b)"
   ]
  },
  {
   "cell_type": "code",
   "execution_count": 40,
   "metadata": {},
   "outputs": [
    {
     "data": {
      "image/png": "[encoded data removed]",
      "text/plain": [
       "<Figure size 640x480 with 1 Axes>"
      ]
     },
     "metadata": {},
     "output_type": "display_data"
    }
   ],
   "source": [
    "b =np.random.binomial(n=100,p=0.1,size=1000)\n",
    "plt.hist(b)\n",
    "plt.show()"
   ]
  },
  {
   "cell_type": "code",
   "execution_count": 44,
   "metadata": {},
   "outputs": [
    {
     "data": {
      "image/png": "[encoded data removed]",
      "text/plain": [
       "<Figure size 640x480 with 1 Axes>"
      ]
     },
     "metadata": {},
     "output_type": "display_data"
    }
   ],
   "source": [
    "p =np.random.poisson(lam=5,size=100)\n",
    "plt.hist(p)\n",
    "plt.show()"
   ]
  },
  {
   "cell_type": "code",
   "execution_count": null,
   "metadata": {},
   "outputs": [],
   "source": []
  },
  {
   "cell_type": "markdown",
   "metadata": {},
   "source": []
  },
  {
   "cell_type": "code",
   "execution_count": null,
   "metadata": {},
   "outputs": [],
   "source": []
  },
  {
   "cell_type": "code",
   "execution_count": null,
   "metadata": {},
   "outputs": [],
   "source": []
  },
  {
   "cell_type": "code",
   "execution_count": null,
   "metadata": {},
   "outputs": [],
   "source": []
  },
  {
   "cell_type": "code",
   "execution_count": null,
   "metadata": {},
   "outputs": [],
   "source": []
  },
  {
   "cell_type": "code",
   "execution_count": null,
   "metadata": {},
   "outputs": [],
   "source": []
  },
  {
   "cell_type": "code",
   "execution_count": null,
   "metadata": {},
   "outputs": [],
   "source": []
  }
 ],
 "metadata": {
  "kernelspec": {
   "display_name": "Python 3 (ipykernel)",
   "language": "python",
   "name": "python3"
  },
  "language_info": {
   "codemirror_mode": {
    "name": "ipython",
    "version": 3
   },
   "file_extension": ".py",
   "mimetype": "text/x-python",
   "name": "python",
   "nbconvert_exporter": "python",
   "pygments_lexer": "ipython3",
   "version": "3.9.13"
  }
 },
 "nbformat": 4,
 "nbformat_minor": 4
}
